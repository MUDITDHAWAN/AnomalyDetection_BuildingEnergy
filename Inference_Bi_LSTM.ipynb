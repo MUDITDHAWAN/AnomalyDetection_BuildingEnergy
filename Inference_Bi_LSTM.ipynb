{
  "nbformat": 4,
  "nbformat_minor": 0,
  "metadata": {
    "kernelspec": {
      "name": "python3",
      "display_name": "Python 3"
    },
    "language_info": {
      "codemirror_mode": {
        "name": "ipython",
        "version": 3
      },
      "file_extension": ".py",
      "mimetype": "text/x-python",
      "name": "python",
      "nbconvert_exporter": "python",
      "pygments_lexer": "ipython3",
      "version": "3.6.6"
    },
    "colab": {
      "name": "Inference_Bi-LSTM.ipynb",
      "provenance": [],
      "collapsed_sections": [],
      "machine_shape": "hm"
    }
  },
  "cells": [
    {
      "cell_type": "code",
      "metadata": {
        "id": "cvVDR7QzxiWQ",
        "colab_type": "code",
        "colab": {
          "base_uri": "https://localhost:8080/",
          "height": 122
        },
        "outputId": "20e48650-fa88-42b3-e973-e102305b08b7"
      },
      "source": [
        "from google.colab import drive\n",
        "drive.mount('/content/drive') "
      ],
      "execution_count": null,
      "outputs": [
        {
          "output_type": "stream",
          "text": [
            "Go to this URL in a browser: https://accounts.google.com/o/oauth2/auth?client_id=947318989803-6bn6qk8qdgf4n4g3pfee6491hc0brc4i.apps.googleusercontent.com&redirect_uri=urn%3aietf%3awg%3aoauth%3a2.0%3aoob&scope=email%20https%3a%2f%2fwww.googleapis.com%2fauth%2fdocs.test%20https%3a%2f%2fwww.googleapis.com%2fauth%2fdrive%20https%3a%2f%2fwww.googleapis.com%2fauth%2fdrive.photos.readonly%20https%3a%2f%2fwww.googleapis.com%2fauth%2fpeopleapi.readonly&response_type=code\n",
            "\n",
            "Enter your authorization code:\n",
            "··········\n",
            "Mounted at /content/drive\n"
          ],
          "name": "stdout"
        }
      ]
    },
    {
      "cell_type": "code",
      "metadata": {
        "id": "bdvWfWGwxRXi",
        "colab_type": "code",
        "colab": {
          "base_uri": "https://localhost:8080/",
          "height": 71
        },
        "outputId": "be12c772-4e59-41e7-dedf-b01b5c9f45ca"
      },
      "source": [
        "import os\n",
        "import pickle\n",
        "import pandas as pd\n",
        "import numpy as np\n",
        "import tensorflow as tf\n",
        "import matplotlib.pyplot as plt\n",
        "import random\n",
        "import seaborn as sns\n",
        "from sklearn import metrics"
      ],
      "execution_count": null,
      "outputs": [
        {
          "output_type": "stream",
          "text": [
            "/usr/local/lib/python3.6/dist-packages/statsmodels/tools/_testing.py:19: FutureWarning: pandas.util.testing is deprecated. Use the functions in the public API at pandas.testing instead.\n",
            "  import pandas.util.testing as tm\n"
          ],
          "name": "stderr"
        }
      ]
    },
    {
      "cell_type": "code",
      "metadata": {
        "id": "-S6GcA8R35CR",
        "colab_type": "code",
        "colab": {}
      },
      "source": [
        "## libraries for creating the model\n",
        "from tensorflow.keras.layers import Bidirectional, Concatenate, Permute, Dot, Input, LSTM, Multiply, MaxPool1D, UpSampling1D\n",
        "from tensorflow.keras.layers import RepeatVector, Dense, Activation, Lambda, Dropout, Reshape, Conv1D\n",
        "from tensorflow.keras.optimizers import Adam\n",
        "from tensorflow.keras.utils import to_categorical\n",
        "from tensorflow.keras.models import load_model, Model\n",
        "import tensorflow.keras.backend as K"
      ],
      "execution_count": null,
      "outputs": []
    },
    {
      "cell_type": "code",
      "metadata": {
        "id": "jGbwMZYsxRKY",
        "colab_type": "code",
        "colab": {}
      },
      "source": [
        "# For reproducibility\n",
        "np.random.seed(12)\n",
        "tf.random.set_seed(12)\n",
        "random.seed(1)"
      ],
      "execution_count": null,
      "outputs": []
    },
    {
      "cell_type": "code",
      "metadata": {
        "id": "qCCUP3qNV4F5",
        "colab_type": "code",
        "colab": {}
      },
      "source": [
        "dir_saved_data = \"/content/drive/My Drive/ASHRAEData/\"\n",
        "dir_saved_model = \"/content/drive/My Drive/ASHRAEData/\" "
      ],
      "execution_count": null,
      "outputs": []
    },
    {
      "cell_type": "code",
      "metadata": {
        "id": "DkgdptDh4XsF",
        "colab_type": "code",
        "colab": {}
      },
      "source": [
        "## CAN BE CHANGED \n",
        "\n",
        "## change these lists as per model's input \n",
        "site_id= 0 \n",
        "\n",
        "## window length \n",
        "seq_length = 24 \n",
        "\n",
        "## name of the model for which data is prepared\n",
        "model_name = \"bi_lstm_model\""
      ],
      "execution_count": null,
      "outputs": []
    },
    {
      "cell_type": "code",
      "metadata": {
        "id": "hP5dJBYM346i",
        "colab_type": "code",
        "colab": {}
      },
      "source": [
        "## CAN BE CHANGED \n",
        "\n",
        "## parameters required for defining the model\n",
        "Tx = seq_length ## input sequence length \n",
        "Ty = seq_length ## ouput sequence length \n",
        "no_of_channels = 13 ## no. of features available for each timestep \n",
        "n_a = 8 # number of units for the Encoder Bi-directional LSTM\n",
        "n_s = 16 # number of units for the Decoder LSTM\n",
        "\n",
        "BATCH_SIZE_TEST = 32 ## Test batch size\n",
        "BATCH_SIZE_VAL = 16 ## Validation batch size"
      ],
      "execution_count": null,
      "outputs": []
    },
    {
      "cell_type": "code",
      "metadata": {
        "id": "2HOfi6ERN3HT",
        "colab_type": "code",
        "colab": {}
      },
      "source": [
        "## Creating the model again to load weights\n",
        "tf.keras.backend.clear_session()"
      ],
      "execution_count": null,
      "outputs": []
    },
    {
      "cell_type": "code",
      "metadata": {
        "id": "CZ0f2Y3p349u",
        "colab_type": "code",
        "colab": {}
      },
      "source": [
        "def softmax(x, axis=1): \n",
        "  ## Softmax Function \n",
        "  ndim = K.ndim(x)\n",
        "  if ndim == 2:\n",
        "    return K.softmax(x)\n",
        "  elif ndim > 2:\n",
        "    e = K.exp(x - K.max(x, axis=axis, keepdims=True))\n",
        "    s = K.sum(e, axis=axis, keepdims=True)\n",
        "    return e / s\n",
        "  else:\n",
        "    raise ValueError('Cannot apply softmax to a tensor that is 1D')"
      ],
      "execution_count": null,
      "outputs": []
    },
    {
      "cell_type": "code",
      "metadata": {
        "id": "PTq2e-jn342f",
        "colab_type": "code",
        "colab": {}
      },
      "source": [
        "## to repeat tensor \n",
        "repeator = RepeatVector(Tx)\n",
        "\n",
        "## concatenate tensors \n",
        "concatenator = Concatenate(axis=-1)\n",
        "\n",
        "## Dense Layer -1 for activation step\n",
        "densor1 = Dense(10, activation = \"tanh\")\n",
        "\n",
        "## Dense Layer -2 for activation step\n",
        "densor2 = Dense(1, activation = \"relu\")\n",
        "\n",
        "## Calculate attention Weights \n",
        "activator = Activation(softmax, name='attention_weights') \n",
        "\n",
        "## Create Context vector \n",
        "dotor = Dot(axes = 1)"
      ],
      "execution_count": null,
      "outputs": []
    },
    {
      "cell_type": "code",
      "metadata": {
        "id": "xoBBzzI_4Oo_",
        "colab_type": "code",
        "colab": {}
      },
      "source": [
        "def one_step_attention(a, s_prev):\n",
        "\n",
        "  ## repeat the previous hidden state decoder LSTM \n",
        "  s_prev = repeator(s_prev)\n",
        "\n",
        "  ## concatenate it with the hidden state output of Bi-LSTM encoder \n",
        "  concat = concatenator([a,s_prev])\n",
        "  \n",
        "  ## calculate intermediate energies \n",
        "  e = densor1(concat)\n",
        "  \n",
        "  ## calculate energies \n",
        "  energies = densor2(e)\n",
        "  \n",
        "  ## Calculate the attention weights\n",
        "  alphas = activator(energies)\n",
        "  \n",
        "  ## create context vectors\n",
        "  context = dotor([alphas,a])\n",
        "    \n",
        "  return context"
      ],
      "execution_count": null,
      "outputs": []
    },
    {
      "cell_type": "code",
      "metadata": {
        "id": "oud_wGEK4Quq",
        "colab_type": "code",
        "colab": {}
      },
      "source": [
        "post_activation_LSTM_cell = LSTM(n_s, return_state = True) # post-attention LSTM (Decoder)\n",
        "\n",
        "## Ouput Layer\n",
        "output_layer = Dense(1)"
      ],
      "execution_count": null,
      "outputs": []
    },
    {
      "cell_type": "code",
      "metadata": {
        "id": "MOw0eAwD4SsR",
        "colab_type": "code",
        "colab": {}
      },
      "source": [
        "def generate_model(Tx, Ty, n_a, n_s, no_channels):\n",
        "\n",
        "  ## Define the inputs to the model \n",
        "  X = Input(shape=(Tx, no_channels), name=\"input\")\n",
        "  s0 = Input(shape=(n_s,), name='s0')\n",
        "  c0 = Input(shape=(n_s,), name='c0')\n",
        "  out0 = Input(shape=(1,), name=\"out0\")\n",
        "\n",
        "  ## copy zero-input vectors to be used in the loop\n",
        "  s = s0\n",
        "  c = c0\n",
        "  out = out0\n",
        "\n",
        "  ## initialize output  \n",
        "  outputs = []\n",
        "  \n",
        "  ## Pass through the Encoder \n",
        "  a =  Bidirectional(LSTM(units=n_a, return_sequences=True))(X)\n",
        "\n",
        "  ## Calculate Output for all Ty time steps\n",
        "  for t in range(Ty):\n",
        "    ## Create context vector for one timestep\n",
        "    context = one_step_attention(a, s)\n",
        "\n",
        "    ## use last lutput as the input for the Decoder along with the context vector\n",
        "    out =  tf.expand_dims(out, 1)\n",
        "    context = Concatenate(axis = -1)([out,context])\n",
        "\n",
        "    ## Pass through the Decoder\n",
        "    s, _, c = post_activation_LSTM_cell(inputs=context , initial_state=[s, c])\n",
        "\n",
        "    ## Ouput Layer\n",
        "    out = output_layer(s)\n",
        "    \n",
        "    ## store the ouput for all timesteps\n",
        "    outputs.append(out)\n",
        "\n",
        "  outputs = Concatenate(axis=-1, name=\"output\")(outputs)\n",
        "\n",
        "  ## Creating keras.Model instance\n",
        "  model = Model(inputs=[X, s0, c0, out0], outputs=outputs)\n",
        "  \n",
        "  return model"
      ],
      "execution_count": null,
      "outputs": []
    },
    {
      "cell_type": "code",
      "metadata": {
        "id": "oQ9aFhaI4XYO",
        "colab_type": "code",
        "colab": {}
      },
      "source": [
        "## Initialize the model\n",
        "model = generate_model(Tx, Ty, n_a, n_s, no_of_channels)"
      ],
      "execution_count": null,
      "outputs": []
    },
    {
      "cell_type": "code",
      "metadata": {
        "id": "H8pG2gUEWbGt",
        "colab_type": "code",
        "colab": {}
      },
      "source": [
        "## Reading saved data Non-Anomalous\n",
        "os.chdir(dir_saved_data)\n",
        "\n",
        "# ## Reading training data\n",
        "# with open(\"./\" + model_name + \"_data/\"+ \"site_id_\" + str(site_id)+\"/non_anom/X_train_data.pkl\", 'rb') as f:\n",
        "#   X_train_non_anom = pickle.load(f)\n",
        "\n",
        "# with open(\"./\" + model_name + \"_data/\"+ \"site_id_\" + str(site_id)+\"/non_anom/Y_train_data.pkl\", 'rb') as f:\n",
        "#   Y_train_non_anom = pickle.load(f)\n",
        "\n",
        "## Reading validation data\n",
        "with open(\"./\" + model_name + \"_data/\"+ \"site_id_\" + str(site_id)+\"/non_anom/X_val_data.pkl\", 'rb') as f:\n",
        "  X_val_non_anom = pickle.load(f)\n",
        "\n",
        "with open(\"./\" + model_name + \"_data/\"+ \"site_id_\" + str(site_id)+\"/non_anom/Y_val_data.pkl\", 'rb') as f:\n",
        "  Y_val_non_anom = pickle.load(f)\n",
        "\n",
        "## Reading test data\n",
        "with open(\"./\" + model_name + \"_data/\"+ \"site_id_\" + str(site_id)+\"/non_anom/X_test_data.pkl\", 'rb') as f:\n",
        "  X_test_non_anom = pickle.load(f)\n",
        "\n",
        "with open(\"./\" + model_name + \"_data/\"+ \"site_id_\" + str(site_id)+\"/non_anom/Y_test_data.pkl\", 'rb') as f:\n",
        "  Y_test_non_anom = pickle.load(f)"
      ],
      "execution_count": null,
      "outputs": []
    },
    {
      "cell_type": "code",
      "metadata": {
        "id": "JbnV15THd1UL",
        "colab_type": "code",
        "colab": {}
      },
      "source": [
        "## Reading saved data Anomalous\n",
        "os.chdir(dir_saved_data)\n",
        "\n",
        "# ## Reading training data\n",
        "# with open(\"./\" + model_name + \"_data/\"+ \"site_id_\" + str(site_id)+\"/anom/X_train_data.pkl\", 'rb') as f:\n",
        "#   X_train_anom = pickle.load(f)\n",
        "\n",
        "# with open(\"./\" + model_name + \"_data/\"+ \"site_id_\" + str(site_id)+\"/anom/Y_train_data.pkl\", 'rb') as f:\n",
        "#   Y_train_anom = pickle.load(f)\n",
        "\n",
        "## Reading validation data\n",
        "with open(\"./\" + model_name + \"_data/\"+ \"site_id_\" + str(site_id)+\"/anom/X_val_data.pkl\", 'rb') as f:\n",
        "  X_val_anom = pickle.load(f)\n",
        "\n",
        "with open(\"./\" + model_name + \"_data/\"+ \"site_id_\" + str(site_id)+\"/anom/Y_val_data.pkl\", 'rb') as f:\n",
        "  Y_val_anom = pickle.load(f)\n",
        "\n",
        "## Reading test data\n",
        "with open(\"./\" + model_name + \"_data/\"+ \"site_id_\" + str(site_id)+\"/anom/X_test_data.pkl\", 'rb') as f:\n",
        "  X_test_anom = pickle.load(f)\n",
        "\n",
        "with open(\"./\" + model_name + \"_data/\"+ \"site_id_\" + str(site_id)+\"/anom/Y_test_data.pkl\", 'rb') as f:\n",
        "  Y_test_anom = pickle.load(f)"
      ],
      "execution_count": null,
      "outputs": []
    },
    {
      "cell_type": "code",
      "metadata": {
        "id": "68VErmXF900w",
        "colab_type": "code",
        "colab": {}
      },
      "source": [
        "os.chdir(dir_saved_model)"
      ],
      "execution_count": null,
      "outputs": []
    },
    {
      "cell_type": "code",
      "metadata": {
        "id": "0wY-EjljTy_B",
        "colab_type": "code",
        "colab": {
          "base_uri": "https://localhost:8080/",
          "height": 34
        },
        "outputId": "ed92671b-18c0-48ec-d49d-60b0d21785e6"
      },
      "source": [
        "## Loading weights for the model\n",
        "model.load_weights('./'+ model_name + \"/\" + \"_site_id_\"+ str(site_id) + '.ckpt')"
      ],
      "execution_count": null,
      "outputs": [
        {
          "output_type": "execute_result",
          "data": {
            "text/plain": [
              "<tensorflow.python.training.tracking.util.CheckpointLoadStatus at 0x7fa585765860>"
            ]
          },
          "metadata": {
            "tags": []
          },
          "execution_count": 17
        }
      ]
    },
    {
      "cell_type": "code",
      "metadata": {
        "id": "ZZvyodG4W-Qz",
        "colab_type": "code",
        "colab": {
          "base_uri": "https://localhost:8080/",
          "height": 71
        },
        "outputId": "05ab57f2-65f4-40ae-d4c0-d812387fbd8f"
      },
      "source": [
        "## Creating Test annd Validation tf.dat.Dataset objects to do predictions for Non Anomalous\n",
        "\n",
        "## creating tf.Dataset objects Test Non Anomalous\n",
        "s0_test_non_anom = [np.zeros((n_s,)) for i in range(len(X_test_non_anom))]\n",
        "c0_test_non_anom = [np.zeros((n_s,)) for i in range(len(X_test_non_anom))]\n",
        "out0_test_non_anom = [np.zeros((1,)) for i in range(len(X_test_non_anom))]\n",
        "\n",
        "test_dataset_non_anom = tf.data.Dataset.from_tensor_slices(({\"input\": X_test_non_anom, \"s0\":s0_test_non_anom, \"c0\": c0_test_non_anom, \"out0\": out0_test_non_anom}))\n",
        "\n",
        "## creating tf.Dataset objects Validation Non Anomalous\n",
        "s0_val_non_anom = [np.zeros((n_s,)) for i in range(len(X_val_non_anom))]\n",
        "c0_val_non_anom = [np.zeros((n_s,)) for i in range(len(X_val_non_anom))]\n",
        "out0_val_non_anom = [np.zeros((1,)) for i in range(len(X_val_non_anom))]\n",
        "\n",
        "val_dataset_non_anom = tf.data.Dataset.from_tensor_slices(({\"input\": X_val_non_anom, \"s0\":s0_val_non_anom   , \"c0\": c0_val_non_anom, \"out0\": out0_val_non_anom}))\n",
        "\n",
        "## Setting the batch size\n",
        "test_dataset_non_anom = test_dataset_non_anom.batch(BATCH_SIZE_TEST)\n",
        "val_dataset_non_anom = val_dataset_non_anom.batch(BATCH_SIZE_VAL)\n",
        "\n",
        "print(test_dataset_non_anom)\n",
        "print(val_dataset_non_anom)"
      ],
      "execution_count": null,
      "outputs": [
        {
          "output_type": "stream",
          "text": [
            "<BatchDataset shapes: {input: (None, 24, 13), s0: (None, 16), c0: (None, 16), out0: (None, 1)}, types: {input: tf.float64, s0: tf.float64, c0: tf.float64, out0: tf.float64}>\n",
            "<BatchDataset shapes: {input: (None, 24, 13), s0: (None, 16), c0: (None, 16), out0: (None, 1)}, types: {input: tf.float64, s0: tf.float64, c0: tf.float64, out0: tf.float64}>\n"
          ],
          "name": "stdout"
        }
      ]
    },
    {
      "cell_type": "code",
      "metadata": {
        "id": "lDn5pzXuYDW5",
        "colab_type": "code",
        "colab": {
          "base_uri": "https://localhost:8080/",
          "height": 71
        },
        "outputId": "6d87b9ac-8df3-431b-ce5d-b7b1171461c0"
      },
      "source": [
        "## Creating Test annd Validation tf.dat.Dataset objects to do predictions for Non Anomalous\n",
        "\n",
        "## creating tf.Dataset objects Test Anomalous\n",
        "s0_test_anom = [np.zeros((n_s,)) for i in range(len(X_test_anom))]\n",
        "c0_test_anom = [np.zeros((n_s,)) for i in range(len(X_test_anom))]\n",
        "out0_test_anom = [np.zeros((1,)) for i in range(len(X_test_anom))]\n",
        "\n",
        "test_dataset_anom = tf.data.Dataset.from_tensor_slices(({\"input\": X_test_anom, \"s0\":s0_test_anom, \"c0\": c0_test_anom, \"out0\": out0_test_anom}))\n",
        "\n",
        "## creating tf.Dataset objects Validation Anomalous\n",
        "s0_val_anom = [np.zeros((n_s,)) for i in range(len(X_val_anom))]\n",
        "c0_val_anom = [np.zeros((n_s,)) for i in range(len(X_val_anom))]\n",
        "out0_val_anom = [np.zeros((1,)) for i in range(len(X_val_anom))]\n",
        "\n",
        "val_dataset_anom = tf.data.Dataset.from_tensor_slices(({\"input\": X_val_anom, \"s0\":s0_val_anom   , \"c0\": c0_val_anom, \"out0\": out0_val_anom}))\n",
        "\n",
        "## Setting the batch size\n",
        "test_dataset_anom = test_dataset_anom.batch(BATCH_SIZE_TEST)\n",
        "val_dataset_anom = val_dataset_anom.batch(BATCH_SIZE_VAL)\n",
        "\n",
        "print(test_dataset_anom)\n",
        "print(val_dataset_anom)"
      ],
      "execution_count": null,
      "outputs": [
        {
          "output_type": "stream",
          "text": [
            "<BatchDataset shapes: {input: (None, 24, 13), s0: (None, 16), c0: (None, 16), out0: (None, 1)}, types: {input: tf.float64, s0: tf.float64, c0: tf.float64, out0: tf.float64}>\n",
            "<BatchDataset shapes: {input: (None, 24, 13), s0: (None, 16), c0: (None, 16), out0: (None, 1)}, types: {input: tf.float64, s0: tf.float64, c0: tf.float64, out0: tf.float64}>\n"
          ],
          "name": "stdout"
        }
      ]
    },
    {
      "cell_type": "code",
      "metadata": {
        "id": "fmviwmiQUehp",
        "colab_type": "code",
        "colab": {}
      },
      "source": [
        "## Validation dataset Non Anomalous Ground Truth\n",
        "val_arr_0 = np.zeros((1,24))\n",
        "for i in range(len(Y_val_non_anom)):\n",
        "  val_arr_0 = np.concatenate([val_arr_0, Y_val_non_anom[i].reshape(1, 24)], axis=0)\n",
        "val_arr_0 = np.delete(val_arr_0, (0), axis=0)\n",
        "\n",
        "## Validation dataset Anomalous Ground Truth\n",
        "val_arr_1 = np.zeros((1,24))\n",
        "for i in range(len(Y_val_anom)):\n",
        "  val_arr_1 = np.concatenate([val_arr_1, Y_val_anom[i].reshape(1, 24)], axis=0)\n",
        "val_arr_1 = np.delete(val_arr_1, (0), axis=0)"
      ],
      "execution_count": null,
      "outputs": []
    },
    {
      "cell_type": "code",
      "metadata": {
        "id": "fcvA-zTAaRaT",
        "colab_type": "code",
        "colab": {}
      },
      "source": [
        "## Test dataset Non Anomalous Ground Truth\n",
        "test_arr_0 = np.zeros((1,24))\n",
        "for i in range(len(Y_test_non_anom)):\n",
        "  test_arr_0 = np.concatenate([test_arr_0, Y_test_non_anom[i].reshape(1, 24)], axis=0)\n",
        "test_arr_0 = np.delete(test_arr_0, (0), axis=0)\n",
        "\n",
        "## Test dataset Anomalous Ground Truth\n",
        "test_arr_1 = np.zeros((1,24))\n",
        "for i in range(len(Y_test_anom)):\n",
        "  test_arr_1 = np.concatenate([test_arr_1, Y_test_anom[i].reshape(1, 24)], axis=0)\n",
        "test_arr_1 = np.delete(test_arr_1, (0), axis=0)"
      ],
      "execution_count": null,
      "outputs": []
    },
    {
      "cell_type": "code",
      "metadata": {
        "id": "q-A5hDtHZPnj",
        "colab_type": "code",
        "colab": {}
      },
      "source": [
        "# outlier label Validation data \n",
        "anomaly_label_val = np.concatenate([np.zeros((len(Y_val_non_anom))), np.ones((len(Y_val_anom)))], axis=0)\n",
        "\n",
        "# outlier label Test Data\n",
        "anomaly_label_test = np.concatenate([np.zeros((len(Y_test_non_anom))), np.ones((len(Y_test_anom)))], axis=0)"
      ],
      "execution_count": null,
      "outputs": []
    },
    {
      "cell_type": "code",
      "metadata": {
        "id": "N_HWOA05Whhb",
        "colab_type": "code",
        "colab": {}
      },
      "source": [
        "def calc_mse(y_true,y_pred):\n",
        "  return ((y_true - y_pred)**2).mean(axis=1)"
      ],
      "execution_count": null,
      "outputs": []
    },
    {
      "cell_type": "code",
      "metadata": {
        "id": "OU1Gv3MMT2E2",
        "colab_type": "code",
        "colab": {}
      },
      "source": [
        "## predicted windows Validation - Non Anomalous\n",
        "pred_val_non_anom = model.predict(val_dataset_non_anom)\n",
        "#Validation score - Non Anomalous \n",
        "val_anomaly_score_non_anom = calc_mse(val_arr_0, pred_val_non_anom)\n",
        "\n",
        "## predicted windows Validation - Anomalous\n",
        "pred_val_anom = model.predict(val_dataset_anom)\n",
        "#Validation score - Anomalous \n",
        "val_anomaly_score_anom = calc_mse(val_arr_1, pred_val_anom)\n",
        "\n",
        "# anomaly score - Validation\n",
        "val_score = np.concatenate([val_anomaly_score_non_anom, val_anomaly_score_anom], axis=0)"
      ],
      "execution_count": null,
      "outputs": []
    },
    {
      "cell_type": "code",
      "metadata": {
        "id": "pScvrEQ7GtZ2",
        "colab_type": "code",
        "colab": {
          "base_uri": "https://localhost:8080/",
          "height": 569
        },
        "outputId": "93f5b9dd-2d62-4d48-e7f0-eb49aec55435"
      },
      "source": [
        "for i, binwidth in enumerate([0.05]): # log_7\n",
        "      # Draw the plot\n",
        "      plt.hist(val_anomaly_score_non_anom, color = 'red', edgecolor = 'black', bins = int((5)/binwidth),range=(0,5), density=False)\n",
        "      plt.title(\"MSE for Non - Anomalous Windows\", fontsize=10)\n",
        "      plt.xlabel('MSE (bin size = 0.05)', fontsize=10)\n",
        "      plt.ylabel('no. of windows', fontsize=10)\n",
        "      # plt.savefig(\"Non_Anom_MSE_Model.pdf\")\n",
        "      plt.show()\n",
        "      plt.hist(val_anomaly_score_anom, color = 'yellow', edgecolor = 'black', bins = int((5)/binwidth),range=(0,5), density=False)\n",
        "      # , bins = int((5)/binwidth),range=(0,5)\n",
        "      plt.title(\"MSE for Anomalous Windows\", fontsize=10)\n",
        "      # # Title and labels\n",
        "      # plt.title('Histogram with Binwidth ='+ str(binwidth))\n",
        "      plt.xlabel('MSE (bin size = 0.05)', fontsize=10)\n",
        "      plt.ylabel('no. of windows', fontsize=10)\n",
        "      # plt.savefig(\"Anom_MSE_Model_2.pdf\")\n",
        "      plt.show()"
      ],
      "execution_count": null,
      "outputs": [
        {
          "output_type": "display_data",
          "data": {
            "image/png": "[encoded data removed]",
            "text/plain": [
              "<Figure size 432x288 with 1 Axes>"
            ]
          },
          "metadata": {
            "tags": [],
            "needs_background": "light"
          }
        },
        {
          "output_type": "display_data",
          "data": {
            "image/png": "[encoded data removed]",
            "text/plain": [
              "<Figure size 432x288 with 1 Axes>"
            ]
          },
          "metadata": {
            "tags": [],
            "needs_background": "light"
          }
        }
      ]
    },
    {
      "cell_type": "code",
      "metadata": {
        "id": "q-nrX3yK4ULV",
        "colab_type": "code",
        "colab": {
          "base_uri": "https://localhost:8080/",
          "height": 282
        },
        "outputId": "9df4328f-487a-4650-f27c-a1dc01612359"
      },
      "source": [
        "sns.distplot(val_anomaly_score_non_anom, bins=100)"
      ],
      "execution_count": null,
      "outputs": [
        {
          "output_type": "execute_result",
          "data": {
            "text/plain": [
              "<matplotlib.axes._subplots.AxesSubplot at 0x7fa581979630>"
            ]
          },
          "metadata": {
            "tags": []
          },
          "execution_count": 71
        },
        {
          "output_type": "display_data",
          "data": {
            "image/png": "[encoded data removed]",
            "text/plain": [
              "<Figure size 432x288 with 1 Axes>"
            ]
          },
          "metadata": {
            "tags": [],
            "needs_background": "light"
          }
        }
      ]
    },
    {
      "cell_type": "code",
      "metadata": {
        "id": "cV1rH5PE5M7t",
        "colab_type": "code",
        "colab": {
          "base_uri": "https://localhost:8080/",
          "height": 282
        },
        "outputId": "27048258-c3b0-4405-e59f-dac17bc16fde"
      },
      "source": [
        "sns.distplot(val_anomaly_score_anom, bins = 100)"
      ],
      "execution_count": null,
      "outputs": [
        {
          "output_type": "execute_result",
          "data": {
            "text/plain": [
              "<matplotlib.axes._subplots.AxesSubplot at 0x7fa580e32470>"
            ]
          },
          "metadata": {
            "tags": []
          },
          "execution_count": 72
        },
        {
          "output_type": "display_data",
          "data": {
            "image/png": "[encoded data removed]",
            "text/plain": [
              "<Figure size 432x288 with 1 Axes>"
            ]
          },
          "metadata": {
            "tags": [],
            "needs_background": "light"
          }
        }
      ]
    },
    {
      "cell_type": "code",
      "metadata": {
        "id": "2pc_2fDpaqiC",
        "colab_type": "code",
        "colab": {}
      },
      "source": [
        "## predicted windows Test - Non Anomalous\n",
        "pred_test_non_anom = model.predict(test_dataset_non_anom)\n",
        "# Test score - Non Anomalous \n",
        "test_anomaly_score_non_anom = calc_mse(test_arr_0, pred_test_non_anom)\n",
        "\n",
        "## predicted windows Test - Anomalous\n",
        "pred_test_anom = model.predict(test_dataset_anom)\n",
        "# Test score - Anomalous \n",
        "test_anomaly_score_anom = calc_mse(test_arr_1, pred_test_anom)\n",
        "\n",
        "# anomaly score - Test\n",
        "test_score = np.concatenate([test_anomaly_score_non_anom, test_anomaly_score_anom], axis=0)"
      ],
      "execution_count": null,
      "outputs": []
    },
    {
      "cell_type": "code",
      "metadata": {
        "id": "j1Q4OMs5cQPC",
        "colab_type": "code",
        "colab": {}
      },
      "source": [
        "# set threshold on the validation data \n",
        "threshold = 0.8"
      ],
      "execution_count": null,
      "outputs": []
    },
    {
      "cell_type": "code",
      "metadata": {
        "id": "jCsoydRHdFHJ",
        "colab_type": "code",
        "colab": {
          "base_uri": "https://localhost:8080/",
          "height": 34
        },
        "outputId": "d2ab6dd6-665b-4cbd-9c45-02056062adc8"
      },
      "source": [
        "print(\"threshold : \", threshold)\n",
        "# convet scores to label using the calculated labels \n",
        "val_label_pred = (val_score > threshold).astype('int')"
      ],
      "execution_count": null,
      "outputs": [
        {
          "output_type": "stream",
          "text": [
            "threshold :  0.8\n"
          ],
          "name": "stdout"
        }
      ]
    },
    {
      "cell_type": "code",
      "metadata": {
        "id": "7_v0x13tdNye",
        "colab_type": "code",
        "colab": {
          "base_uri": "https://localhost:8080/",
          "height": 102
        },
        "outputId": "c087fd61-bbe8-4c6d-bcf9-684d3521ce08"
      },
      "source": [
        "# evaluate and print the results on Validation data \n",
        "print(\"\\nOn Validation Data:\")\n",
        "tn, fp, fn, tp = metrics.confusion_matrix(anomaly_label_val, val_label_pred).ravel()\n",
        "p = tp/(tp+fp)\n",
        "r = tp/(tp+fn)\n",
        "f1 = 2*p*r/(p+r)\n",
        "print(\"Precision : {}\".format(p))\n",
        "print(\"Recall : {}\".format(r))\n",
        "print(\"F1 score : {}\".format(f1))"
      ],
      "execution_count": null,
      "outputs": [
        {
          "output_type": "stream",
          "text": [
            "\n",
            "On Validation Data:\n",
            "Precision : 0.9858585858585859\n",
            "Recall : 0.6386041439476554\n",
            "F1 score : 0.7751158173395103\n"
          ],
          "name": "stdout"
        }
      ]
    },
    {
      "cell_type": "code",
      "metadata": {
        "id": "aHtkVFWKd-x5",
        "colab_type": "code",
        "colab": {
          "base_uri": "https://localhost:8080/",
          "height": 34
        },
        "outputId": "769597a6-fa24-40d2-8b70-5f170e2ba438"
      },
      "source": [
        "print(\"threshold : \", threshold)\n",
        "# convet scores to label using the calculated labels \n",
        "test_label_pred = (test_score > threshold).astype('int')"
      ],
      "execution_count": null,
      "outputs": [
        {
          "output_type": "stream",
          "text": [
            "threshold :  0.8\n"
          ],
          "name": "stdout"
        }
      ]
    },
    {
      "cell_type": "code",
      "metadata": {
        "id": "Vdhv8pdFeEKI",
        "colab_type": "code",
        "colab": {
          "base_uri": "https://localhost:8080/",
          "height": 102
        },
        "outputId": "eef209b9-0b43-49b4-980a-2f349879a4bc"
      },
      "source": [
        "# evaluate and print the results on Validation data \n",
        "print(\"\\nOn Test Data:\")\n",
        "tn, fp, fn, tp = metrics.confusion_matrix(anomaly_label_test, test_label_pred).ravel()\n",
        "p = tp/(tp+fp)\n",
        "r = tp/(tp+fn)\n",
        "f1 = 2*p*r/(p+r)\n",
        "print(\"Precision : {}\".format(p))\n",
        "print(\"Recall : {}\".format(r))\n",
        "print(\"F1 score : {}\".format(f1))"
      ],
      "execution_count": null,
      "outputs": [
        {
          "output_type": "stream",
          "text": [
            "\n",
            "On Test Data:\n",
            "Precision : 0.9967628016480282\n",
            "Recall : 0.6333603440752976\n",
            "F1 score : 0.7745550177230628\n"
          ],
          "name": "stdout"
        }
      ]
    },
    {
      "cell_type": "code",
      "metadata": {
        "id": "f55IhAQ5ewky",
        "colab_type": "code",
        "colab": {}
      },
      "source": [
        ""
      ],
      "execution_count": null,
      "outputs": []
    }
  ]
}