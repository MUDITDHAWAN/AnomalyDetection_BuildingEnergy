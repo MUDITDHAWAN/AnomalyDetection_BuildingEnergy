{
  "nbformat": 4,
  "nbformat_minor": 0,
  "metadata": {
    "kernelspec": {
      "name": "python3",
      "display_name": "Python 3"
    },
    "language_info": {
      "codemirror_mode": {
        "name": "ipython",
        "version": 3
      },
      "file_extension": ".py",
      "mimetype": "text/x-python",
      "name": "python",
      "nbconvert_exporter": "python",
      "pygments_lexer": "ipython3",
      "version": "3.6.6"
    },
    "colab": {
      "name": "Baseline_Conv_final.ipynb",
      "provenance": [],
      "collapsed_sections": [],
      "machine_shape": "hm"
    }
  },
  "cells": [
    {
      "cell_type": "code",
      "metadata": {
        "id": "cvVDR7QzxiWQ",
        "colab_type": "code",
        "colab": {
          "base_uri": "https://localhost:8080/",
          "height": 122
        },
        "outputId": "f92a0ad9-6036-40f1-f73a-24c7505c7004"
      },
      "source": [
        "from google.colab import drive\n",
        "drive.mount('/content/drive') "
      ],
      "execution_count": null,
      "outputs": [
        {
          "output_type": "stream",
          "text": [
            "Go to this URL in a browser: https://accounts.google.com/o/oauth2/auth?client_id=947318989803-6bn6qk8qdgf4n4g3pfee6491hc0brc4i.apps.googleusercontent.com&redirect_uri=urn%3aietf%3awg%3aoauth%3a2.0%3aoob&response_type=code&scope=email%20https%3a%2f%2fwww.googleapis.com%2fauth%2fdocs.test%20https%3a%2f%2fwww.googleapis.com%2fauth%2fdrive%20https%3a%2f%2fwww.googleapis.com%2fauth%2fdrive.photos.readonly%20https%3a%2f%2fwww.googleapis.com%2fauth%2fpeopleapi.readonly\n",
            "\n",
            "Enter your authorization code:\n",
            "··········\n",
            "Mounted at /content/drive\n"
          ],
          "name": "stdout"
        }
      ]
    },
    {
      "cell_type": "code",
      "metadata": {
        "id": "bdvWfWGwxRXi",
        "colab_type": "code",
        "colab": {}
      },
      "source": [
        "import os\n",
        "import pickle\n",
        "import pandas as pd\n",
        "import numpy as np\n",
        "import tensorflow as tf\n",
        "from tensorflow.keras import layers\n",
        "from tensorflow.keras import Model\n",
        "import time\n",
        "import matplotlib.pyplot as plt\n",
        "import random"
      ],
      "execution_count": null,
      "outputs": []
    },
    {
      "cell_type": "code",
      "metadata": {
        "id": "WHtb-3pxxRQ-",
        "colab_type": "code",
        "colab": {}
      },
      "source": [
        "os.chdir(\"/content/drive/My Drive/Anomaly detection - BuildSys2020/\")"
      ],
      "execution_count": null,
      "outputs": []
    },
    {
      "cell_type": "code",
      "metadata": {
        "id": "jGbwMZYsxRKY",
        "colab_type": "code",
        "colab": {}
      },
      "source": [
        "# For reproducibility\n",
        "np.random.seed(12)\n",
        "tf.random.set_seed(12)\n",
        "random.seed(1)"
      ],
      "execution_count": null,
      "outputs": []
    },
    {
      "cell_type": "code",
      "metadata": {
        "id": "-rb-lDwvxRDw",
        "colab_type": "code",
        "colab": {}
      },
      "source": [
        "def usable_features(df_building, features_used):  # for droping the features not to be considered in the model\n",
        "  ## df_building - pandas dataframe of the datset\n",
        "  ## features_used - features to be included in the cleaned dataset\n",
        "\n",
        "  # creating list of columns that are not used \n",
        "  col = df_building.columns\n",
        "  features_not_used = [] # store columns that won't be used\n",
        "  for x in col:\n",
        "    if x not in features_used:\n",
        "      features_not_used.append(x)\n",
        "\n",
        "  # drop the columns\n",
        "  df_building= df_building.drop(features_not_used, axis = 1) # dropping not used features \n",
        "\n",
        "  # to fill NA data we simply replace the values with 0\n",
        "  df_building = df_building.fillna(0)\n",
        "  \n",
        "  return df_building"
      ],
      "execution_count": null,
      "outputs": []
    },
    {
      "cell_type": "code",
      "metadata": {
        "id": "6qGiZRhVxb53",
        "colab_type": "code",
        "colab": {}
      },
      "source": [
        "def normalize_minmax(df, col):  # function to normalize the columns \n",
        "    ## df - data frame containing the columns\n",
        "    ## columns to be normalized  \n",
        "    result = df.copy()\n",
        "    for feature_name in col:\n",
        "        max_value = df[feature_name].max()\n",
        "        min_value = df[feature_name].min()\n",
        "\n",
        "        print(\"Feature Name : {}  :  Max Value - {} ; Min Value - {}\".format(feature_name, max_value, min_value))\n",
        "        # normalize \n",
        "        result[feature_name] = (df[feature_name] - min_value) / (max_value - min_value)\n",
        "    return result "
      ],
      "execution_count": null,
      "outputs": []
    },
    {
      "cell_type": "code",
      "metadata": {
        "id": "WtN1AvLI2kWb",
        "colab_type": "code",
        "colab": {}
      },
      "source": [
        "def normalize_zAlgo(df, col):  # function to normalize the columns \n",
        "    ## df - data frame containing the columns\n",
        "    ## columns to be normalized  \n",
        "    result = df.copy()\n",
        "    for feature_name in col:\n",
        "        std_value = df[feature_name].std()\n",
        "        mean_value = df[feature_name].mean()\n",
        "\n",
        "        print(\"Feature Name : {}  :  Std Value - {} ; Mean Value - {}\".format(feature_name, std_value, mean_value))\n",
        "        # normalize \n",
        "        result[feature_name] = (df[feature_name] - mean_value) / std_value\n",
        "    return result"
      ],
      "execution_count": null,
      "outputs": []
    },
    {
      "cell_type": "code",
      "metadata": {
        "id": "3syDC9Amxbuj",
        "colab_type": "code",
        "colab": {}
      },
      "source": [
        "def clean_dataset_ashrae(dataset, meter_types, features_used, z_columns, minmax_columns):\n",
        "  ## meter_types - list of meters to be included \n",
        "  ## features_used - list of features to be included in the final data\n",
        "  ## z_columns - list of columns to be normalized with Z algorithm\n",
        "  ## minmax_columns - list of columns to be normalized with min-max normalization\n",
        "\n",
        "  meter_dataset = dataset.loc[dataset['meter']==0]\n",
        "  \n",
        "  # create a new column  \n",
        "  meter_dataset['meter_reading_log'] = np.log(meter_dataset['meter_reading']+1) \n",
        "\n",
        "  #convert categorical data type to int\n",
        "  meter_dataset['primary_use'] = meter_dataset['primary_use'].astype('category')\n",
        "  unique_primUse_list = list(meter_dataset.primary_use.unique())\n",
        "  unique_primUse_dict = {unique_primUse_list[i]: i for i in range(0, len(unique_primUse_list))}\n",
        "  meter_dataset['primary_use'] = meter_dataset['primary_use'].map(unique_primUse_dict).astype(int)\n",
        "\n",
        "  # remove columns that won't be included in the model's input \n",
        "  df_train = usable_features(meter_dataset, features_used)\n",
        "\n",
        "  # normalize features \n",
        "  df_train_norm1 = normalize_zAlgo(df_train, z_columns) # z-algorithm\n",
        "  df_train_norm = normalize_zAlgo(df_train_norm1, minmax_columns) # min-max scaler\n",
        "\n",
        "  print(\"df_train_norm shape {}\".format(df_train_norm.shape))\n",
        "  return df_train_norm"
      ],
      "execution_count": null,
      "outputs": []
    },
    {
      "cell_type": "code",
      "metadata": {
        "id": "aKGwrhmWiLKy",
        "colab_type": "code",
        "colab": {}
      },
      "source": [
        "## creating input sequence of length - seq_length\n",
        "def create_windows(arr_data, arr_anomaly_label, arr_op, seq_length, nb_features):\n",
        "  ## arr_data - normalized dataset as a numpy array \n",
        "  ## arr_op - array containing anomaly labels for each time step \n",
        "  ## seq_length - wiindow length \n",
        "  ## nb_features - no. of features to be used as input \n",
        "\n",
        "  anom_x = [] # storing anomalous windows - input \n",
        "  non_anom_x = [] # storing non-anomalous windows - input \n",
        "  anom_y = [] # storing anomalous windows - output \n",
        "  non_anom_y = [] # storing non-anomalous windows - output \n",
        "\n",
        "  # run a loop to move a seq_length size window across data non-overlapping\n",
        "  for i in range(0,arr_data.shape[0]//seq_length):\n",
        "\n",
        "    # slice the window \n",
        "    window_features = arr_data[i*seq_length:(i+1)*seq_length].reshape((seq_length, nb_features))   # window of seq_length\n",
        "    window_output = arr_op[i*seq_length:(i+1)*seq_length].reshape((seq_length,1))\n",
        "\n",
        "    cond_input = np.concatenate((window_output, window_features[0][0].reshape((1,1))))\n",
        "\n",
        "    is_anomaly = np.count_nonzero(arr_anomaly_label[i*seq_length:(i+1)*seq_length])  #if even at one time point anomaly is present the window would be considered anomalous\n",
        "    # print(is_anomaly)\n",
        "\n",
        "    if is_anomaly > 0 :  # separating the anomalous and non-anomalous data \n",
        "      anom_x.append(cond_input)\n",
        "      anom_y.append(window_output)\n",
        "    else:\n",
        "      non_anom_x.append(cond_input)\n",
        "      non_anom_y.append(window_output)\n",
        "\n",
        "  return non_anom_x, non_anom_y, anom_x, anom_y "
      ],
      "execution_count": null,
      "outputs": []
    },
    {
      "cell_type": "code",
      "metadata": {
        "id": "m7HUnaYIxbfr",
        "colab_type": "code",
        "colab": {}
      },
      "source": [
        "def mix_data(data_x, data_y):\n",
        "  #  Mix Data (to make it similar to i.i.d)\n",
        "  data_idx = np.random.permutation(len(data_x))\n",
        "\n",
        "\n",
        "  output_data_x = []  # Store shuffled data\n",
        "  output_data_y = []\n",
        "\n",
        "  for i in range(len(data_x)):\n",
        "    output_data_x.append(data_x[data_idx[i]])\n",
        "    output_data_y.append(data_y[data_idx[i]])\n",
        "\n",
        "  print(\"ouput_x shape {} , {}\".format(len(output_data_x), output_data_x[0].shape))\n",
        "  return output_data_x, output_data_y"
      ],
      "execution_count": null,
      "outputs": []
    },
    {
      "cell_type": "code",
      "metadata": {
        "id": "1f0BWA_XINKz",
        "colab_type": "code",
        "colab": {}
      },
      "source": [
        "with open('ashrae_rank1_train_clean.pkl', 'rb') as f:\n",
        "      dataset = pickle.load(f)"
      ],
      "execution_count": null,
      "outputs": []
    },
    {
      "cell_type": "code",
      "metadata": {
        "id": "APqiUfxZxbTb",
        "colab_type": "code",
        "colab": {}
      },
      "source": [
        "def load_data_ashrae(dataset, meter_types, features_used, z_columns, minmax_columns, seq_length, nb_buildings, output_feature):\n",
        "  ## seq_length - window length \n",
        "  ## nb_buildings - no of buildings for the input samples \n",
        "  ## output_feature - feature that would be taken as the output to be predicted \n",
        "\n",
        "  ## import the dataset \n",
        "  \n",
        "\n",
        "  df_final_train_norm = clean_dataset_ashrae(dataset, meter_types, features_used, z_columns, minmax_columns)\n",
        "\n",
        "  # lists to store final input data  \n",
        "  anom_x = []\n",
        "  anom_y = []\n",
        "  non_anom_x = []\n",
        "  non_anom_y = []\n",
        "\n",
        "  # group data on the basis of their building_id \n",
        "  grp_data = df_final_train_norm.groupby('building_id')\n",
        "\n",
        "  # create a random list of building whose data would be considered \n",
        "  list_buildings = random.sample(list(grp_data.groups.keys()), nb_buildings)\n",
        "\n",
        "  # loop throught the building ids - segregate them into Anomalous and Non-Anomalouws windows\n",
        "  for grp_no in list_buildings:\n",
        "\n",
        "    # pick a building id whose data needs to be added into final input data\n",
        "    building_data = grp_data.get_group(grp_no)\n",
        "    #building_id is not needed anymore \n",
        "    building_data = building_data.drop('building_id', axis = 1) # dropping not used features \n",
        "\n",
        "    # separating labels from the data \n",
        "    arr_labels = building_data['is_bad_meter_reading'].to_numpy()\n",
        "    # label is not not need anymore \n",
        "    building_data = building_data.drop('is_bad_meter_reading', axis = 1) # dropping not used features \n",
        "\n",
        "    # separating output_feature from the data \n",
        "    arr_output = building_data[output_feature].to_numpy()\n",
        "    # output_feature is not not need anymore \n",
        "    building_data = building_data.drop(output_feature, axis = 1) # dropping not used features \n",
        "\n",
        "    # making sure the data is sequential \n",
        "    building_data.sort_values(\"timestamp\", axis = 0, ascending = True) \n",
        "    building_data = building_data.drop('timestamp', axis = 1) # dropping not used features \n",
        "\n",
        "    # creating numpy array of remaining features \n",
        "    building_data = building_data.to_numpy()\n",
        "\n",
        "    # creating windowed data\n",
        "    nb_features = building_data.shape[1]\n",
        "    na_x, na_y, a_x, a_y = create_windows(building_data, arr_labels, arr_output, seq_length, nb_features)\n",
        "\n",
        "    print(\" na_x - len {}, shape {} \".format(len(na_x), na_x[0].shape))\n",
        "    # print(\" a_x - len {}\".format(len(a_x)))\n",
        "    # accumulating single bulding data \n",
        "    anom_x.extend(a_x)\n",
        "    anom_y.extend(a_y)\n",
        "    non_anom_x.extend(na_x)\n",
        "    non_anom_y.extend(na_y)\n",
        "\n",
        "  # making data similar to i.i.d.\n",
        "  anom_x, anom_y = mix_data(anom_x, anom_y)\n",
        "  non_anom_x, non_anom_y = mix_data(non_anom_x, non_anom_y)\n",
        "\n",
        "  return non_anom_x, non_anom_y, anom_x, anom_y "
      ],
      "execution_count": null,
      "outputs": []
    },
    {
      "cell_type": "code",
      "metadata": {
        "id": "DkgdptDh4XsF",
        "colab_type": "code",
        "colab": {}
      },
      "source": [
        "## change these lists as per model's input \n",
        "meter_types = [0] \n",
        "\n",
        "features_used = ['building_id','timestamp', 'month', 'is_bad_meter_reading','meter_reading_log']\n",
        "\n",
        "z_columns = []          \n",
        "\n",
        "minmax_columns = ['month']\n",
        "\n",
        "seq_length = 24 \n",
        "\n",
        "\n",
        "nb_buildings = 145\n",
        "\n",
        "output_feature = 'meter_reading_log'"
      ],
      "execution_count": null,
      "outputs": []
    },
    {
      "cell_type": "code",
      "metadata": {
        "id": "HtFXHogzxbK1",
        "colab_type": "code",
        "colab": {
          "base_uri": "https://localhost:8080/",
          "height": 1000
        },
        "outputId": "240627aa-573a-400c-c016-5830ca43a261"
      },
      "source": [
        "non_anom_x, non_anom_y, anom_x, anom_y = load_data_ashrae(dataset, meter_types, features_used, z_columns, minmax_columns, seq_length, nb_buildings, output_feature)"
      ],
      "execution_count": null,
      "outputs": [
        {
          "output_type": "stream",
          "text": [
            "/usr/local/lib/python3.6/dist-packages/ipykernel_launcher.py:10: SettingWithCopyWarning: \n",
            "A value is trying to be set on a copy of a slice from a DataFrame.\n",
            "Try using .loc[row_indexer,col_indexer] = value instead\n",
            "\n",
            "See the caveats in the documentation: https://pandas.pydata.org/pandas-docs/stable/user_guide/indexing.html#returning-a-view-versus-a-copy\n",
            "  # Remove the CWD from sys.path while we load stuff.\n",
            "/usr/local/lib/python3.6/dist-packages/ipykernel_launcher.py:13: SettingWithCopyWarning: \n",
            "A value is trying to be set on a copy of a slice from a DataFrame.\n",
            "Try using .loc[row_indexer,col_indexer] = value instead\n",
            "\n",
            "See the caveats in the documentation: https://pandas.pydata.org/pandas-docs/stable/user_guide/indexing.html#returning-a-view-versus-a-copy\n",
            "  del sys.path[0]\n",
            "/usr/local/lib/python3.6/dist-packages/ipykernel_launcher.py:16: SettingWithCopyWarning: \n",
            "A value is trying to be set on a copy of a slice from a DataFrame.\n",
            "Try using .loc[row_indexer,col_indexer] = value instead\n",
            "\n",
            "See the caveats in the documentation: https://pandas.pydata.org/pandas-docs/stable/user_guide/indexing.html#returning-a-view-versus-a-copy\n",
            "  app.launch_new_instance()\n"
          ],
          "name": "stderr"
        },
        {
          "output_type": "stream",
          "text": [
            "Feature Name : month  :  Std Value - 3.4435748699115054 ; Mean Value - 6.552057846381409\n",
            "df_train_norm shape (12060910, 5)\n",
            " na_x - len 354, shape (25, 1) \n",
            " na_x - len 351, shape (25, 1) \n",
            " na_x - len 361, shape (25, 1) \n",
            " na_x - len 353, shape (25, 1) \n",
            " na_x - len 357, shape (25, 1) \n",
            " na_x - len 361, shape (25, 1) \n",
            " na_x - len 339, shape (25, 1) \n",
            " na_x - len 342, shape (25, 1) \n",
            " na_x - len 311, shape (25, 1) \n",
            " na_x - len 365, shape (25, 1) \n",
            " na_x - len 363, shape (25, 1) \n",
            " na_x - len 340, shape (25, 1) \n",
            " na_x - len 268, shape (25, 1) \n",
            " na_x - len 225, shape (25, 1) \n",
            " na_x - len 252, shape (25, 1) \n",
            " na_x - len 341, shape (25, 1) \n",
            " na_x - len 335, shape (25, 1) \n",
            " na_x - len 224, shape (25, 1) \n",
            " na_x - len 343, shape (25, 1) \n",
            " na_x - len 339, shape (25, 1) \n",
            " na_x - len 365, shape (25, 1) \n",
            " na_x - len 332, shape (25, 1) \n",
            " na_x - len 339, shape (25, 1) \n",
            " na_x - len 365, shape (25, 1) \n",
            " na_x - len 224, shape (25, 1) \n",
            " na_x - len 178, shape (25, 1) \n",
            " na_x - len 225, shape (25, 1) \n",
            " na_x - len 222, shape (25, 1) \n",
            " na_x - len 364, shape (25, 1) \n",
            " na_x - len 223, shape (25, 1) \n",
            " na_x - len 364, shape (25, 1) \n",
            " na_x - len 306, shape (25, 1) \n",
            " na_x - len 364, shape (25, 1) \n",
            " na_x - len 341, shape (25, 1) \n",
            " na_x - len 224, shape (25, 1) \n",
            " na_x - len 351, shape (25, 1) \n",
            " na_x - len 365, shape (25, 1) \n",
            " na_x - len 343, shape (25, 1) \n",
            " na_x - len 352, shape (25, 1) \n",
            " na_x - len 338, shape (25, 1) \n",
            " na_x - len 363, shape (25, 1) \n",
            " na_x - len 361, shape (25, 1) \n",
            " na_x - len 364, shape (25, 1) \n",
            " na_x - len 311, shape (25, 1) \n",
            " na_x - len 363, shape (25, 1) \n",
            " na_x - len 140, shape (25, 1) \n",
            " na_x - len 298, shape (25, 1) \n",
            " na_x - len 225, shape (25, 1) \n",
            " na_x - len 307, shape (25, 1) \n",
            " na_x - len 364, shape (25, 1) \n",
            " na_x - len 311, shape (25, 1) \n",
            " na_x - len 341, shape (25, 1) \n",
            " na_x - len 364, shape (25, 1) \n",
            " na_x - len 300, shape (25, 1) \n",
            " na_x - len 236, shape (25, 1) \n",
            " na_x - len 307, shape (25, 1) \n",
            " na_x - len 245, shape (25, 1) \n",
            " na_x - len 363, shape (25, 1) \n",
            " na_x - len 365, shape (25, 1) \n",
            " na_x - len 311, shape (25, 1) \n",
            " na_x - len 365, shape (25, 1) \n",
            " na_x - len 127, shape (25, 1) \n",
            " na_x - len 365, shape (25, 1) \n",
            " na_x - len 296, shape (25, 1) \n",
            " na_x - len 363, shape (25, 1) \n",
            " na_x - len 364, shape (25, 1) \n",
            " na_x - len 310, shape (25, 1) \n",
            " na_x - len 294, shape (25, 1) \n",
            " na_x - len 225, shape (25, 1) \n",
            " na_x - len 343, shape (25, 1) \n",
            " na_x - len 364, shape (25, 1) \n",
            " na_x - len 299, shape (25, 1) \n",
            " na_x - len 328, shape (25, 1) \n",
            " na_x - len 311, shape (25, 1) \n",
            " na_x - len 364, shape (25, 1) \n",
            " na_x - len 365, shape (25, 1) \n",
            " na_x - len 364, shape (25, 1) \n",
            " na_x - len 311, shape (25, 1) \n",
            " na_x - len 363, shape (25, 1) \n",
            " na_x - len 330, shape (25, 1) \n",
            " na_x - len 303, shape (25, 1) \n",
            " na_x - len 311, shape (25, 1) \n",
            " na_x - len 365, shape (25, 1) \n",
            " na_x - len 333, shape (25, 1) \n",
            " na_x - len 364, shape (25, 1) \n",
            " na_x - len 352, shape (25, 1) \n",
            " na_x - len 351, shape (25, 1) \n",
            " na_x - len 349, shape (25, 1) \n",
            " na_x - len 225, shape (25, 1) \n",
            " na_x - len 342, shape (25, 1) \n",
            " na_x - len 224, shape (25, 1) \n",
            " na_x - len 365, shape (25, 1) \n",
            " na_x - len 335, shape (25, 1) \n",
            " na_x - len 328, shape (25, 1) \n",
            " na_x - len 354, shape (25, 1) \n",
            " na_x - len 104, shape (25, 1) \n",
            " na_x - len 311, shape (25, 1) \n",
            " na_x - len 364, shape (25, 1) \n",
            " na_x - len 307, shape (25, 1) \n",
            " na_x - len 365, shape (25, 1) \n",
            " na_x - len 365, shape (25, 1) \n",
            " na_x - len 224, shape (25, 1) \n",
            " na_x - len 364, shape (25, 1) \n",
            " na_x - len 364, shape (25, 1) \n",
            " na_x - len 361, shape (25, 1) \n",
            " na_x - len 355, shape (25, 1) \n",
            " na_x - len 289, shape (25, 1) \n",
            " na_x - len 365, shape (25, 1) \n",
            " na_x - len 360, shape (25, 1) \n",
            " na_x - len 356, shape (25, 1) \n",
            " na_x - len 305, shape (25, 1) \n",
            " na_x - len 342, shape (25, 1) \n",
            " na_x - len 363, shape (25, 1) \n",
            " na_x - len 311, shape (25, 1) \n",
            " na_x - len 336, shape (25, 1) \n",
            " na_x - len 221, shape (25, 1) \n",
            " na_x - len 364, shape (25, 1) \n",
            " na_x - len 364, shape (25, 1) \n",
            " na_x - len 354, shape (25, 1) \n",
            " na_x - len 364, shape (25, 1) \n",
            " na_x - len 364, shape (25, 1) \n",
            " na_x - len 96, shape (25, 1) \n",
            " na_x - len 344, shape (25, 1) \n",
            " na_x - len 284, shape (25, 1) \n",
            " na_x - len 346, shape (25, 1) \n",
            " na_x - len 351, shape (25, 1) \n",
            " na_x - len 362, shape (25, 1) \n",
            " na_x - len 339, shape (25, 1) \n",
            " na_x - len 363, shape (25, 1) \n",
            " na_x - len 362, shape (25, 1) \n",
            " na_x - len 97, shape (25, 1) \n",
            " na_x - len 254, shape (25, 1) \n",
            " na_x - len 350, shape (25, 1) \n",
            " na_x - len 360, shape (25, 1) \n",
            " na_x - len 224, shape (25, 1) \n",
            " na_x - len 355, shape (25, 1) \n",
            " na_x - len 348, shape (25, 1) \n",
            " na_x - len 298, shape (25, 1) \n",
            " na_x - len 301, shape (25, 1) \n",
            " na_x - len 337, shape (25, 1) \n",
            " na_x - len 338, shape (25, 1) \n",
            " na_x - len 336, shape (25, 1) \n",
            " na_x - len 225, shape (25, 1) \n",
            " na_x - len 359, shape (25, 1) \n",
            " na_x - len 311, shape (25, 1) \n",
            "ouput_x shape 4859 , (25, 1)\n",
            "ouput_x shape 46182 , (25, 1)\n"
          ],
          "name": "stdout"
        }
      ]
    },
    {
      "cell_type": "code",
      "metadata": {
        "id": "3Jf42zRP_DPa",
        "colab_type": "code",
        "colab": {}
      },
      "source": [
        "def split_data(train_percent, val_percent, test_percent, output_non_anom_x, output_non_anom_y ):\n",
        "\n",
        "  # train dataset\n",
        "  X_train_non_anom = output_non_anom_x[:int((len(output_non_anom_y)*train_percent))]\n",
        "  Y_train_non_anom = output_non_anom_y[:int((len(output_non_anom_y)*train_percent))]\n",
        "\n",
        "  # validation dataset\n",
        "  X_val_non_anom = output_non_anom_x[int((len(output_non_anom_y)*train_percent)):-int((len(output_non_anom_y)*test_percent) )]\n",
        "  Y_val_non_anom = output_non_anom_y[int((len(output_non_anom_y)*train_percent)):-int((len(output_non_anom_y)*test_percent) )]\n",
        "\n",
        "  # test dataset                                                          \n",
        "  X_test_non_anom = output_non_anom_x[-int(len(output_non_anom_y)*test_percent):]\n",
        "  Y_test_non_anom = output_non_anom_y[-int(len(output_non_anom_y)*test_percent):]     \n",
        "\n",
        "  return  X_train_non_anom, Y_train_non_anom, X_val_non_anom, Y_val_non_anom, X_test_non_anom, Y_test_non_anom"
      ],
      "execution_count": null,
      "outputs": []
    },
    {
      "cell_type": "code",
      "metadata": {
        "id": "yz3ufudCuoTR",
        "colab_type": "code",
        "colab": {}
      },
      "source": [
        "train_percent = 0.8\n",
        "val_percent = 0.1\n",
        "test_percent = 0.1"
      ],
      "execution_count": null,
      "outputs": []
    },
    {
      "cell_type": "code",
      "metadata": {
        "id": "7GruIOx1A8fZ",
        "colab_type": "code",
        "colab": {}
      },
      "source": [
        "X_train_non_anom, Y_train_non_anom, X_val_non_anom, Y_val_non_anom, X_test_non_anom, Y_test_non_anom = split_data(train_percent, val_percent, test_percent, non_anom_x, non_anom_y)"
      ],
      "execution_count": null,
      "outputs": []
    },
    {
      "cell_type": "code",
      "metadata": {
        "id": "iWK1WtPNlHBQ",
        "colab_type": "code",
        "colab": {}
      },
      "source": [
        "from numpy import percentile"
      ],
      "execution_count": null,
      "outputs": []
    },
    {
      "cell_type": "code",
      "metadata": {
        "id": "SyEGpQ--mipl",
        "colab_type": "code",
        "colab": {}
      },
      "source": [
        "X_train_anom, Y_train_anom, X_val_anom, Y_val_anom, X_test_anom, Y_test_anom = split_data(train_percent, val_percent, test_percent, anom_x, anom_y)"
      ],
      "execution_count": null,
      "outputs": []
    },
    {
      "cell_type": "code",
      "metadata": {
        "id": "0qUMQAHN5ecI",
        "colab_type": "code",
        "colab": {}
      },
      "source": [
        "os.chdir(\"/content/drive/My Drive/ASHRAEData/\")"
      ],
      "execution_count": null,
      "outputs": []
    },
    {
      "cell_type": "code",
      "metadata": {
        "id": "o4BLMZWT46dU",
        "colab_type": "code",
        "colab": {}
      },
      "source": [
        "## libraries to create the model \n",
        "from tensorflow.keras.layers import  MaxPool1D, Input, MaxPool1D, UpSampling1D\n",
        "from tensorflow.keras.layers import  Dense, Activation, Dropout, Reshape, Conv1D\n",
        "from tensorflow.keras.optimizers import Adam\n",
        "from tensorflow.keras.utils import to_categorical\n",
        "from tensorflow.keras.models import load_model, Model\n",
        "import tensorflow.keras.backend as K"
      ],
      "execution_count": null,
      "outputs": []
    },
    {
      "cell_type": "code",
      "metadata": {
        "id": "lbSdu1Lb4qO8",
        "colab_type": "code",
        "colab": {}
      },
      "source": [
        "tf.keras.backend.clear_session()"
      ],
      "execution_count": null,
      "outputs": []
    },
    {
      "cell_type": "code",
      "metadata": {
        "id": "wBfiIbaq4qLq",
        "colab_type": "code",
        "colab": {}
      },
      "source": [
        "def compile_model(model):\n",
        "    opt = Adam(lr=0.0001)\n",
        "    model.compile(optimizer=opt, loss='mse', metrics='mse')\n",
        "    return model"
      ],
      "execution_count": null,
      "outputs": []
    },
    {
      "cell_type": "code",
      "metadata": {
        "id": "3JbmkA_74qIJ",
        "colab_type": "code",
        "colab": {}
      },
      "source": [
        "def generate_model_autoencoder1(input_len, name):\n",
        "  input_encoder = Input(shape=(input_len,))  # input layer\n",
        "  ip = Dropout(0.05)(input_encoder)\n",
        "  encoder = Reshape((input_len,1))(ip)\n",
        "\n",
        "  encoder = Conv1D(12, 2, strides=1, padding='same', data_format='channels_last', activation='tanh')(encoder)\n",
        "  encoder = MaxPool1D(pool_size=2, data_format='channels_last')(encoder)\n",
        "\n",
        "  encoder = Conv1D(6, 2, strides=1, padding='same', data_format='channels_last', activation='tanh')(encoder)  \n",
        "  encoder = MaxPool1D(pool_size=2, data_format='channels_last')(encoder)\n",
        "\n",
        "  encoder = Conv1D(1, 2, strides=1, padding='same', data_format='channels_last', activation='tanh')(encoder)  \n",
        "  encoder = MaxPool1D(pool_size=2, data_format='channels_last')(encoder)\n",
        "\n",
        "  decoder = Conv1D(1, 2, strides=1, padding='same', data_format='channels_last', activation='tanh')(encoder)  \n",
        "  decoder = UpSampling1D(size=2)(decoder)\n",
        "\n",
        "  decoder = Conv1D(6, 2, strides=1, padding='same', data_format='channels_last', activation='tanh')(decoder)  \n",
        "  decoder = UpSampling1D(size=2)(decoder)\n",
        "\n",
        "  decoder = Conv1D(12, 2, strides=1, padding='same', data_format='channels_last', activation='tanh')(decoder)  \n",
        "  decoder = UpSampling1D(size=2)(decoder)\n",
        "\n",
        "  decoded = decoder = Conv1D(1, 2, strides=1, padding='same', data_format='channels_last', activation='relu')(decoder) \n",
        "  \n",
        "  model = Model(input_encoder, decoded, name = name)\n",
        "\n",
        "  return model"
      ],
      "execution_count": null,
      "outputs": []
    },
    {
      "cell_type": "code",
      "metadata": {
        "id": "dGcwS5jQ5FgA",
        "colab_type": "code",
        "colab": {}
      },
      "source": [
        "autoencoder1 = generate_model_autoencoder1(24,  \"AutoencoderConv-\")"
      ],
      "execution_count": null,
      "outputs": []
    },
    {
      "cell_type": "code",
      "metadata": {
        "id": "_hqa3ppQ5Fb8",
        "colab_type": "code",
        "colab": {}
      },
      "source": [
        "autoencoder1 = compile_model(autoencoder1)"
      ],
      "execution_count": null,
      "outputs": []
    },
    {
      "cell_type": "code",
      "metadata": {
        "id": "3eeB1-Ez4qRx",
        "colab_type": "code",
        "colab": {
          "base_uri": "https://localhost:8080/",
          "height": 51
        },
        "outputId": "808a4086-0208-45fe-e34c-75f12760b95a"
      },
      "source": [
        "## create dataset \n",
        "train_dataset_autoencoder1 = tf.data.Dataset.from_tensor_slices((Y_train_non_anom,Y_train_non_anom))\n",
        "\n",
        "val_dataset_autoencoder1 = tf.data.Dataset.from_tensor_slices((Y_val_non_anom, Y_val_non_anom))\n",
        "\n",
        "\n",
        "BATCH_SIZE_TRAIN = 32\n",
        "BATCH_SIZE_VAL = 16\n",
        "\n",
        "train_dataset_autoencoder1 = train_dataset_autoencoder1.batch(BATCH_SIZE_TRAIN)\n",
        "val_dataset_autoencoder1 = val_dataset_autoencoder1.batch(BATCH_SIZE_VAL)\n",
        "print(train_dataset_autoencoder1)\n",
        "print(val_dataset_autoencoder1)"
      ],
      "execution_count": null,
      "outputs": [
        {
          "output_type": "stream",
          "text": [
            "<BatchDataset shapes: ((None, 24, 1), (None, 24, 1)), types: (tf.float32, tf.float32)>\n",
            "<BatchDataset shapes: ((None, 24, 1), (None, 24, 1)), types: (tf.float32, tf.float32)>\n"
          ],
          "name": "stdout"
        }
      ]
    },
    {
      "cell_type": "code",
      "metadata": {
        "id": "ygkJvIrg5FXw",
        "colab_type": "code",
        "colab": {}
      },
      "source": [
        "checkpoint_path = './final_models_4/baseline_model3.ckpt'\n",
        "model_callback = tf.keras.callbacks.ModelCheckpoint(\n",
        "    checkpoint_path, monitor='val_loss', save_best_only=True,\n",
        "    save_weights_only=True, mode='min', save_freq='epoch')\n",
        "tensorboard_callback = tf.keras.callbacks.TensorBoard(log_dir='logs/fit3/baseline_model3')\n",
        "early_stopping = tf.keras.callbacks.EarlyStopping( monitor='val_loss', patience=60, min_delta=0.0001)"
      ],
      "execution_count": null,
      "outputs": []
    },
    {
      "cell_type": "code",
      "metadata": {
        "id": "lKZgC2dR5FTj",
        "colab_type": "code",
        "colab": {
          "base_uri": "https://localhost:8080/",
          "height": 1000
        },
        "outputId": "bee2b125-f822-42ec-aac4-d2c3a15d27b9"
      },
      "source": [
        "autoencoder1.fit(train_dataset_autoencoder1, epochs=300, validation_data = val_dataset_autoencoder1, callbacks=[model_callback, tensorboard_callback, early_stopping])"
      ],
      "execution_count": null,
      "outputs": [
        {
          "output_type": "stream",
          "text": [
            "Epoch 1/300\n",
            "1155/1155 [==============================] - 7s 6ms/step - loss: 9.7583 - mse: 9.7583 - val_loss: 3.3464 - val_mse: 3.3464\n",
            "Epoch 2/300\n",
            "1155/1155 [==============================] - 6s 5ms/step - loss: 2.7799 - mse: 2.7799 - val_loss: 2.3471 - val_mse: 2.3471\n",
            "Epoch 3/300\n",
            "1155/1155 [==============================] - 7s 6ms/step - loss: 1.2832 - mse: 1.2832 - val_loss: 0.9571 - val_mse: 0.9571\n",
            "Epoch 4/300\n",
            "1155/1155 [==============================] - 7s 6ms/step - loss: 0.7819 - mse: 0.7819 - val_loss: 0.6665 - val_mse: 0.6665\n",
            "Epoch 5/300\n",
            "1155/1155 [==============================] - 7s 6ms/step - loss: 0.5280 - mse: 0.5280 - val_loss: 0.4532 - val_mse: 0.4532\n",
            "Epoch 6/300\n",
            "1155/1155 [==============================] - 7s 6ms/step - loss: 0.3510 - mse: 0.3510 - val_loss: 0.3148 - val_mse: 0.3148\n",
            "Epoch 7/300\n",
            "1155/1155 [==============================] - 7s 6ms/step - loss: 0.2383 - mse: 0.2383 - val_loss: 0.2330 - val_mse: 0.2330\n",
            "Epoch 8/300\n",
            "1155/1155 [==============================] - 7s 6ms/step - loss: 0.1703 - mse: 0.1703 - val_loss: 0.1889 - val_mse: 0.1889\n",
            "Epoch 9/300\n",
            "1155/1155 [==============================] - 7s 6ms/step - loss: 0.1235 - mse: 0.1235 - val_loss: 0.1432 - val_mse: 0.1432\n",
            "Epoch 10/300\n",
            "1155/1155 [==============================] - 7s 6ms/step - loss: 0.0923 - mse: 0.0923 - val_loss: 0.1304 - val_mse: 0.1304\n",
            "Epoch 11/300\n",
            "1155/1155 [==============================] - 7s 6ms/step - loss: 0.0724 - mse: 0.0724 - val_loss: 0.1162 - val_mse: 0.1162\n",
            "Epoch 12/300\n",
            "1155/1155 [==============================] - 7s 6ms/step - loss: 0.0613 - mse: 0.0613 - val_loss: 0.1046 - val_mse: 0.1046\n",
            "Epoch 13/300\n",
            "1155/1155 [==============================] - 7s 6ms/step - loss: 0.0565 - mse: 0.0565 - val_loss: 0.1094 - val_mse: 0.1094\n",
            "Epoch 14/300\n",
            "1155/1155 [==============================] - 7s 6ms/step - loss: 0.0530 - mse: 0.0530 - val_loss: 0.1073 - val_mse: 0.1073\n",
            "Epoch 15/300\n",
            "1155/1155 [==============================] - 7s 6ms/step - loss: 0.0508 - mse: 0.0508 - val_loss: 0.1060 - val_mse: 0.1060\n",
            "Epoch 16/300\n",
            "1155/1155 [==============================] - 7s 6ms/step - loss: 0.0494 - mse: 0.0494 - val_loss: 0.1020 - val_mse: 0.1020\n",
            "Epoch 17/300\n",
            "1155/1155 [==============================] - 7s 6ms/step - loss: 0.0478 - mse: 0.0478 - val_loss: 0.0959 - val_mse: 0.0959\n",
            "Epoch 18/300\n",
            "1155/1155 [==============================] - 7s 6ms/step - loss: 0.0467 - mse: 0.0467 - val_loss: 0.0990 - val_mse: 0.0990\n",
            "Epoch 19/300\n",
            "1155/1155 [==============================] - 7s 6ms/step - loss: 0.0458 - mse: 0.0458 - val_loss: 0.0917 - val_mse: 0.0917\n",
            "Epoch 20/300\n",
            "1155/1155 [==============================] - 7s 6ms/step - loss: 0.0451 - mse: 0.0451 - val_loss: 0.1007 - val_mse: 0.1007\n",
            "Epoch 21/300\n",
            "1155/1155 [==============================] - 7s 6ms/step - loss: 0.0448 - mse: 0.0448 - val_loss: 0.0916 - val_mse: 0.0916\n",
            "Epoch 22/300\n",
            "1155/1155 [==============================] - 7s 6ms/step - loss: 0.0441 - mse: 0.0441 - val_loss: 0.0972 - val_mse: 0.0972\n",
            "Epoch 23/300\n",
            "1155/1155 [==============================] - 7s 6ms/step - loss: 0.0436 - mse: 0.0436 - val_loss: 0.0959 - val_mse: 0.0959\n",
            "Epoch 24/300\n",
            "1155/1155 [==============================] - 7s 6ms/step - loss: 0.0430 - mse: 0.0430 - val_loss: 0.0940 - val_mse: 0.0940\n",
            "Epoch 25/300\n",
            "1155/1155 [==============================] - 7s 6ms/step - loss: 0.0431 - mse: 0.0431 - val_loss: 0.0958 - val_mse: 0.0958\n",
            "Epoch 26/300\n",
            "1155/1155 [==============================] - 7s 6ms/step - loss: 0.0424 - mse: 0.0424 - val_loss: 0.0892 - val_mse: 0.0892\n",
            "Epoch 27/300\n",
            "1155/1155 [==============================] - 7s 6ms/step - loss: 0.0424 - mse: 0.0424 - val_loss: 0.0932 - val_mse: 0.0932\n",
            "Epoch 28/300\n",
            "1155/1155 [==============================] - 7s 6ms/step - loss: 0.0419 - mse: 0.0419 - val_loss: 0.0926 - val_mse: 0.0926\n",
            "Epoch 29/300\n",
            "1155/1155 [==============================] - 7s 6ms/step - loss: 0.0418 - mse: 0.0418 - val_loss: 0.0912 - val_mse: 0.0912\n",
            "Epoch 30/300\n",
            "1155/1155 [==============================] - 7s 6ms/step - loss: 0.0412 - mse: 0.0412 - val_loss: 0.0891 - val_mse: 0.0891\n",
            "Epoch 31/300\n",
            "1155/1155 [==============================] - 7s 6ms/step - loss: 0.0410 - mse: 0.0410 - val_loss: 0.0893 - val_mse: 0.0893\n",
            "Epoch 32/300\n",
            "1155/1155 [==============================] - 7s 6ms/step - loss: 0.0409 - mse: 0.0409 - val_loss: 0.0953 - val_mse: 0.0953\n",
            "Epoch 33/300\n",
            "1155/1155 [==============================] - 7s 6ms/step - loss: 0.0406 - mse: 0.0406 - val_loss: 0.0917 - val_mse: 0.0917\n",
            "Epoch 34/300\n",
            "1155/1155 [==============================] - 7s 6ms/step - loss: 0.0402 - mse: 0.0402 - val_loss: 0.0941 - val_mse: 0.0941\n",
            "Epoch 35/300\n",
            "1155/1155 [==============================] - 7s 6ms/step - loss: 0.0400 - mse: 0.0400 - val_loss: 0.0910 - val_mse: 0.0910\n",
            "Epoch 36/300\n",
            "1155/1155 [==============================] - 7s 6ms/step - loss: 0.0398 - mse: 0.0398 - val_loss: 0.0894 - val_mse: 0.0894\n",
            "Epoch 37/300\n",
            "1155/1155 [==============================] - 7s 6ms/step - loss: 0.0396 - mse: 0.0396 - val_loss: 0.0884 - val_mse: 0.0884\n",
            "Epoch 38/300\n",
            "1155/1155 [==============================] - 7s 6ms/step - loss: 0.0396 - mse: 0.0396 - val_loss: 0.0928 - val_mse: 0.0928\n",
            "Epoch 39/300\n",
            "1155/1155 [==============================] - 7s 6ms/step - loss: 0.0393 - mse: 0.0393 - val_loss: 0.0946 - val_mse: 0.0946\n",
            "Epoch 40/300\n",
            "1155/1155 [==============================] - 7s 6ms/step - loss: 0.0393 - mse: 0.0393 - val_loss: 0.0885 - val_mse: 0.0885\n",
            "Epoch 41/300\n",
            "1155/1155 [==============================] - 7s 6ms/step - loss: 0.0390 - mse: 0.0390 - val_loss: 0.0929 - val_mse: 0.0929\n",
            "Epoch 42/300\n",
            "1155/1155 [==============================] - 7s 6ms/step - loss: 0.0389 - mse: 0.0389 - val_loss: 0.0906 - val_mse: 0.0906\n",
            "Epoch 43/300\n",
            "1155/1155 [==============================] - 7s 6ms/step - loss: 0.0387 - mse: 0.0387 - val_loss: 0.0853 - val_mse: 0.0853\n",
            "Epoch 44/300\n",
            "1155/1155 [==============================] - 7s 6ms/step - loss: 0.0386 - mse: 0.0386 - val_loss: 0.0886 - val_mse: 0.0886\n",
            "Epoch 45/300\n",
            "1155/1155 [==============================] - 7s 6ms/step - loss: 0.0382 - mse: 0.0382 - val_loss: 0.0898 - val_mse: 0.0898\n",
            "Epoch 46/300\n",
            "1155/1155 [==============================] - 7s 6ms/step - loss: 0.0383 - mse: 0.0383 - val_loss: 0.0872 - val_mse: 0.0872\n",
            "Epoch 47/300\n",
            "1155/1155 [==============================] - 7s 6ms/step - loss: 0.0382 - mse: 0.0382 - val_loss: 0.0870 - val_mse: 0.0870\n",
            "Epoch 48/300\n",
            "1155/1155 [==============================] - 7s 6ms/step - loss: 0.0381 - mse: 0.0381 - val_loss: 0.0938 - val_mse: 0.0938\n",
            "Epoch 49/300\n",
            "1155/1155 [==============================] - 8s 7ms/step - loss: 0.0380 - mse: 0.0380 - val_loss: 0.0844 - val_mse: 0.0844\n",
            "Epoch 50/300\n",
            "1155/1155 [==============================] - 7s 6ms/step - loss: 0.0378 - mse: 0.0378 - val_loss: 0.0856 - val_mse: 0.0856\n",
            "Epoch 51/300\n",
            "1155/1155 [==============================] - 7s 6ms/step - loss: 0.0378 - mse: 0.0378 - val_loss: 0.0863 - val_mse: 0.0863\n",
            "Epoch 52/300\n",
            "1155/1155 [==============================] - 7s 6ms/step - loss: 0.0375 - mse: 0.0375 - val_loss: 0.0875 - val_mse: 0.0875\n",
            "Epoch 53/300\n",
            "1155/1155 [==============================] - 7s 6ms/step - loss: 0.0377 - mse: 0.0377 - val_loss: 0.0909 - val_mse: 0.0909\n",
            "Epoch 54/300\n",
            "1155/1155 [==============================] - 7s 6ms/step - loss: 0.0376 - mse: 0.0376 - val_loss: 0.0863 - val_mse: 0.0863\n",
            "Epoch 55/300\n",
            "1155/1155 [==============================] - 7s 6ms/step - loss: 0.0376 - mse: 0.0376 - val_loss: 0.0918 - val_mse: 0.0918\n",
            "Epoch 56/300\n",
            "1155/1155 [==============================] - 7s 6ms/step - loss: 0.0374 - mse: 0.0374 - val_loss: 0.0858 - val_mse: 0.0858\n",
            "Epoch 57/300\n",
            "1155/1155 [==============================] - 7s 6ms/step - loss: 0.0372 - mse: 0.0372 - val_loss: 0.0880 - val_mse: 0.0880\n",
            "Epoch 58/300\n",
            "1155/1155 [==============================] - 7s 6ms/step - loss: 0.0374 - mse: 0.0374 - val_loss: 0.0880 - val_mse: 0.0880\n",
            "Epoch 59/300\n",
            "1155/1155 [==============================] - 7s 6ms/step - loss: 0.0373 - mse: 0.0373 - val_loss: 0.0890 - val_mse: 0.0890\n",
            "Epoch 60/300\n",
            "1155/1155 [==============================] - 7s 6ms/step - loss: 0.0371 - mse: 0.0371 - val_loss: 0.0913 - val_mse: 0.0913\n",
            "Epoch 61/300\n",
            "1155/1155 [==============================] - 7s 6ms/step - loss: 0.0370 - mse: 0.0370 - val_loss: 0.0875 - val_mse: 0.0875\n",
            "Epoch 62/300\n",
            "1155/1155 [==============================] - 7s 6ms/step - loss: 0.0370 - mse: 0.0370 - val_loss: 0.0834 - val_mse: 0.0834\n",
            "Epoch 63/300\n",
            "1155/1155 [==============================] - 7s 6ms/step - loss: 0.0370 - mse: 0.0370 - val_loss: 0.0881 - val_mse: 0.0881\n",
            "Epoch 64/300\n",
            "1155/1155 [==============================] - 7s 6ms/step - loss: 0.0369 - mse: 0.0369 - val_loss: 0.0899 - val_mse: 0.0899\n",
            "Epoch 65/300\n",
            "1155/1155 [==============================] - 7s 6ms/step - loss: 0.0369 - mse: 0.0369 - val_loss: 0.0906 - val_mse: 0.0906\n",
            "Epoch 66/300\n",
            "1155/1155 [==============================] - 7s 6ms/step - loss: 0.0370 - mse: 0.0370 - val_loss: 0.0889 - val_mse: 0.0889\n",
            "Epoch 67/300\n",
            "1155/1155 [==============================] - 7s 6ms/step - loss: 0.0368 - mse: 0.0368 - val_loss: 0.0882 - val_mse: 0.0882\n",
            "Epoch 68/300\n",
            "1155/1155 [==============================] - 7s 6ms/step - loss: 0.0369 - mse: 0.0369 - val_loss: 0.0879 - val_mse: 0.0879\n",
            "Epoch 69/300\n",
            "1155/1155 [==============================] - 7s 6ms/step - loss: 0.0367 - mse: 0.0367 - val_loss: 0.0872 - val_mse: 0.0872\n",
            "Epoch 70/300\n",
            "1155/1155 [==============================] - 7s 6ms/step - loss: 0.0367 - mse: 0.0367 - val_loss: 0.0854 - val_mse: 0.0854\n",
            "Epoch 71/300\n",
            "1155/1155 [==============================] - 7s 6ms/step - loss: 0.0368 - mse: 0.0368 - val_loss: 0.0861 - val_mse: 0.0861\n",
            "Epoch 72/300\n",
            "1155/1155 [==============================] - 7s 6ms/step - loss: 0.0365 - mse: 0.0365 - val_loss: 0.0858 - val_mse: 0.0858\n",
            "Epoch 73/300\n",
            "1155/1155 [==============================] - 7s 6ms/step - loss: 0.0366 - mse: 0.0366 - val_loss: 0.0945 - val_mse: 0.0945\n",
            "Epoch 74/300\n",
            "1155/1155 [==============================] - 7s 6ms/step - loss: 0.0365 - mse: 0.0365 - val_loss: 0.0891 - val_mse: 0.0891\n",
            "Epoch 75/300\n",
            "1155/1155 [==============================] - 7s 6ms/step - loss: 0.0365 - mse: 0.0365 - val_loss: 0.0939 - val_mse: 0.0939\n",
            "Epoch 76/300\n",
            "1155/1155 [==============================] - 7s 6ms/step - loss: 0.0365 - mse: 0.0365 - val_loss: 0.0871 - val_mse: 0.0871\n",
            "Epoch 77/300\n",
            "1155/1155 [==============================] - 7s 6ms/step - loss: 0.0364 - mse: 0.0364 - val_loss: 0.0879 - val_mse: 0.0879\n",
            "Epoch 78/300\n",
            "1155/1155 [==============================] - 7s 6ms/step - loss: 0.0365 - mse: 0.0365 - val_loss: 0.0913 - val_mse: 0.0913\n",
            "Epoch 79/300\n",
            "1155/1155 [==============================] - 7s 6ms/step - loss: 0.0365 - mse: 0.0365 - val_loss: 0.0885 - val_mse: 0.0885\n",
            "Epoch 80/300\n",
            "1155/1155 [==============================] - 7s 6ms/step - loss: 0.0364 - mse: 0.0364 - val_loss: 0.0903 - val_mse: 0.0903\n",
            "Epoch 81/300\n",
            "1155/1155 [==============================] - 7s 6ms/step - loss: 0.0365 - mse: 0.0365 - val_loss: 0.0958 - val_mse: 0.0958\n",
            "Epoch 82/300\n",
            "1155/1155 [==============================] - 7s 6ms/step - loss: 0.0363 - mse: 0.0363 - val_loss: 0.0905 - val_mse: 0.0905\n",
            "Epoch 83/300\n",
            "1155/1155 [==============================] - 7s 6ms/step - loss: 0.0364 - mse: 0.0364 - val_loss: 0.0892 - val_mse: 0.0892\n",
            "Epoch 84/300\n",
            "1155/1155 [==============================] - 7s 6ms/step - loss: 0.0363 - mse: 0.0363 - val_loss: 0.0932 - val_mse: 0.0932\n",
            "Epoch 85/300\n",
            "1155/1155 [==============================] - 7s 6ms/step - loss: 0.0363 - mse: 0.0363 - val_loss: 0.0934 - val_mse: 0.0934\n",
            "Epoch 86/300\n",
            "1155/1155 [==============================] - 7s 6ms/step - loss: 0.0362 - mse: 0.0362 - val_loss: 0.0916 - val_mse: 0.0916\n",
            "Epoch 87/300\n",
            "1155/1155 [==============================] - 7s 6ms/step - loss: 0.0363 - mse: 0.0363 - val_loss: 0.0901 - val_mse: 0.0901\n",
            "Epoch 88/300\n",
            "1155/1155 [==============================] - 7s 6ms/step - loss: 0.0361 - mse: 0.0361 - val_loss: 0.0902 - val_mse: 0.0902\n",
            "Epoch 89/300\n",
            "1155/1155 [==============================] - 7s 6ms/step - loss: 0.0362 - mse: 0.0362 - val_loss: 0.0888 - val_mse: 0.0888\n",
            "Epoch 90/300\n",
            "1155/1155 [==============================] - 7s 6ms/step - loss: 0.0361 - mse: 0.0361 - val_loss: 0.0885 - val_mse: 0.0885\n",
            "Epoch 91/300\n",
            "1155/1155 [==============================] - 7s 6ms/step - loss: 0.0360 - mse: 0.0360 - val_loss: 0.0906 - val_mse: 0.0906\n",
            "Epoch 92/300\n",
            "1155/1155 [==============================] - 7s 6ms/step - loss: 0.0362 - mse: 0.0362 - val_loss: 0.0902 - val_mse: 0.0902\n",
            "Epoch 93/300\n",
            "1155/1155 [==============================] - 8s 7ms/step - loss: 0.0361 - mse: 0.0361 - val_loss: 0.0922 - val_mse: 0.0922\n",
            "Epoch 94/300\n",
            "1155/1155 [==============================] - 7s 6ms/step - loss: 0.0361 - mse: 0.0361 - val_loss: 0.0880 - val_mse: 0.0880\n",
            "Epoch 95/300\n",
            "1155/1155 [==============================] - 7s 6ms/step - loss: 0.0361 - mse: 0.0361 - val_loss: 0.0863 - val_mse: 0.0863\n",
            "Epoch 96/300\n",
            "1155/1155 [==============================] - 7s 6ms/step - loss: 0.0359 - mse: 0.0359 - val_loss: 0.0884 - val_mse: 0.0884\n",
            "Epoch 97/300\n",
            "1155/1155 [==============================] - 7s 6ms/step - loss: 0.0361 - mse: 0.0361 - val_loss: 0.0850 - val_mse: 0.0850\n",
            "Epoch 98/300\n",
            "1155/1155 [==============================] - 7s 6ms/step - loss: 0.0360 - mse: 0.0360 - val_loss: 0.0903 - val_mse: 0.0903\n",
            "Epoch 99/300\n",
            "1155/1155 [==============================] - 7s 6ms/step - loss: 0.0360 - mse: 0.0360 - val_loss: 0.0875 - val_mse: 0.0875\n",
            "Epoch 100/300\n",
            "1155/1155 [==============================] - 7s 6ms/step - loss: 0.0359 - mse: 0.0359 - val_loss: 0.0884 - val_mse: 0.0884\n",
            "Epoch 101/300\n",
            "1155/1155 [==============================] - 7s 6ms/step - loss: 0.0360 - mse: 0.0360 - val_loss: 0.0930 - val_mse: 0.0930\n",
            "Epoch 102/300\n",
            "1155/1155 [==============================] - 7s 6ms/step - loss: 0.0360 - mse: 0.0360 - val_loss: 0.0900 - val_mse: 0.0900\n",
            "Epoch 103/300\n",
            "1155/1155 [==============================] - 7s 6ms/step - loss: 0.0358 - mse: 0.0358 - val_loss: 0.0915 - val_mse: 0.0915\n",
            "Epoch 104/300\n",
            "1155/1155 [==============================] - 7s 6ms/step - loss: 0.0358 - mse: 0.0358 - val_loss: 0.0936 - val_mse: 0.0936\n",
            "Epoch 105/300\n",
            "1155/1155 [==============================] - 7s 6ms/step - loss: 0.0358 - mse: 0.0358 - val_loss: 0.0926 - val_mse: 0.0926\n",
            "Epoch 106/300\n",
            "1155/1155 [==============================] - 7s 6ms/step - loss: 0.0359 - mse: 0.0359 - val_loss: 0.0908 - val_mse: 0.0908\n",
            "Epoch 107/300\n",
            "1155/1155 [==============================] - 7s 6ms/step - loss: 0.0359 - mse: 0.0359 - val_loss: 0.0890 - val_mse: 0.0890\n",
            "Epoch 108/300\n",
            "1155/1155 [==============================] - 7s 6ms/step - loss: 0.0359 - mse: 0.0359 - val_loss: 0.0920 - val_mse: 0.0920\n",
            "Epoch 109/300\n",
            "1155/1155 [==============================] - 7s 6ms/step - loss: 0.0360 - mse: 0.0360 - val_loss: 0.0903 - val_mse: 0.0903\n",
            "Epoch 110/300\n",
            "1155/1155 [==============================] - 7s 6ms/step - loss: 0.0359 - mse: 0.0359 - val_loss: 0.0896 - val_mse: 0.0896\n",
            "Epoch 111/300\n",
            "1155/1155 [==============================] - 7s 6ms/step - loss: 0.0357 - mse: 0.0357 - val_loss: 0.0889 - val_mse: 0.0889\n",
            "Epoch 112/300\n",
            "1155/1155 [==============================] - 7s 6ms/step - loss: 0.0358 - mse: 0.0358 - val_loss: 0.0884 - val_mse: 0.0884\n",
            "Epoch 113/300\n",
            "1155/1155 [==============================] - 7s 6ms/step - loss: 0.0357 - mse: 0.0357 - val_loss: 0.0864 - val_mse: 0.0864\n",
            "Epoch 114/300\n",
            "1155/1155 [==============================] - 7s 6ms/step - loss: 0.0357 - mse: 0.0357 - val_loss: 0.0871 - val_mse: 0.0871\n",
            "Epoch 115/300\n",
            "1155/1155 [==============================] - 7s 6ms/step - loss: 0.0357 - mse: 0.0357 - val_loss: 0.0877 - val_mse: 0.0877\n",
            "Epoch 116/300\n",
            "1155/1155 [==============================] - 7s 6ms/step - loss: 0.0356 - mse: 0.0356 - val_loss: 0.0886 - val_mse: 0.0886\n",
            "Epoch 117/300\n",
            "1155/1155 [==============================] - 7s 6ms/step - loss: 0.0357 - mse: 0.0357 - val_loss: 0.0846 - val_mse: 0.0846\n",
            "Epoch 118/300\n",
            "1155/1155 [==============================] - 7s 6ms/step - loss: 0.0356 - mse: 0.0356 - val_loss: 0.0927 - val_mse: 0.0927\n",
            "Epoch 119/300\n",
            "1155/1155 [==============================] - 7s 6ms/step - loss: 0.0357 - mse: 0.0357 - val_loss: 0.0931 - val_mse: 0.0931\n",
            "Epoch 120/300\n",
            "1155/1155 [==============================] - 7s 6ms/step - loss: 0.0358 - mse: 0.0358 - val_loss: 0.0937 - val_mse: 0.0937\n",
            "Epoch 121/300\n",
            "1155/1155 [==============================] - 7s 6ms/step - loss: 0.0356 - mse: 0.0356 - val_loss: 0.0910 - val_mse: 0.0910\n",
            "Epoch 122/300\n",
            "1155/1155 [==============================] - 7s 6ms/step - loss: 0.0356 - mse: 0.0356 - val_loss: 0.0925 - val_mse: 0.0925\n"
          ],
          "name": "stdout"
        },
        {
          "output_type": "execute_result",
          "data": {
            "text/plain": [
              "<tensorflow.python.keras.callbacks.History at 0x7f0652a49d68>"
            ]
          },
          "metadata": {
            "tags": []
          },
          "execution_count": 32
        }
      ]
    },
    {
      "cell_type": "code",
      "metadata": {
        "id": "HPfZEtnd5FP7",
        "colab_type": "code",
        "colab": {}
      },
      "source": [
        "tf.keras.backend.clear_session()"
      ],
      "execution_count": null,
      "outputs": []
    },
    {
      "cell_type": "code",
      "metadata": {
        "id": "R-nEm3-g4qBu",
        "colab_type": "code",
        "colab": {}
      },
      "source": [
        "def generate_model_autoencoder2(input_len, name):\n",
        "  input_encoder = Input(shape=(input_len,))  # input layer\n",
        "  ip = Dropout(0.05)(input_encoder)\n",
        "  encoder = Reshape((input_len,1))(ip)\n",
        "\n",
        "  encoder = Conv1D(12, 2, strides=1, padding='same', data_format='channels_last', activation='tanh')(encoder)\n",
        "  encoder = MaxPool1D(pool_size=2, data_format='channels_last')(encoder)\n",
        "\n",
        "  encoder = Conv1D(6, 2, strides=1, padding='same', data_format='channels_last', activation='tanh')(encoder)  \n",
        "  encoder = MaxPool1D(pool_size=2, data_format='channels_last')(encoder)\n",
        "\n",
        "  encoder = Conv1D(1, 2, strides=1, padding='same', data_format='channels_last', activation='tanh')(encoder)  \n",
        "  encoder = MaxPool1D(pool_size=2, data_format='channels_last')(encoder)\n",
        "\n",
        "  decoder = Conv1D(1, 2, strides=1, padding='same', data_format='channels_last', activation='tanh')(encoder)  \n",
        "  decoder = UpSampling1D(size=2)(decoder)\n",
        "\n",
        "  decoder = Conv1D(6, 2, strides=1, padding='same', data_format='channels_last', activation='tanh')(decoder)  \n",
        "  decoder = UpSampling1D(size=2)(decoder)\n",
        "\n",
        "  decoder = Conv1D(12, 2, strides=1, padding='same', data_format='channels_last', activation='tanh')(decoder)  \n",
        "  decoder = UpSampling1D(size=2)(decoder)\n",
        "\n",
        "  decoded = decoder = Conv1D(1, 2, strides=1, padding='same', data_format='channels_last', activation='relu')(decoder) \n",
        "  \n",
        "  model = Model(input_encoder, decoded, name = name)\n",
        "\n",
        "  return model"
      ],
      "execution_count": null,
      "outputs": []
    },
    {
      "cell_type": "code",
      "metadata": {
        "id": "wL0IYFP4-275",
        "colab_type": "code",
        "colab": {}
      },
      "source": [
        "autoencoder2 = generate_model_autoencoder2(25,  \"AutoencoderBasic-Cond\")"
      ],
      "execution_count": null,
      "outputs": []
    },
    {
      "cell_type": "code",
      "metadata": {
        "id": "QwTLiqsK-4o4",
        "colab_type": "code",
        "colab": {}
      },
      "source": [
        "autoencoder2 = compile_model(autoencoder2)"
      ],
      "execution_count": null,
      "outputs": []
    },
    {
      "cell_type": "code",
      "metadata": {
        "id": "xvBSpQ3C-542",
        "colab_type": "code",
        "colab": {
          "base_uri": "https://localhost:8080/",
          "height": 697
        },
        "outputId": "0fc944c3-a42e-4ee2-b68f-9bd658c0e979"
      },
      "source": [
        "autoencoder2.summary()"
      ],
      "execution_count": null,
      "outputs": [
        {
          "output_type": "stream",
          "text": [
            "Model: \"AutoencoderBasic-Cond\"\n",
            "_________________________________________________________________\n",
            "Layer (type)                 Output Shape              Param #   \n",
            "=================================================================\n",
            "input_1 (InputLayer)         [(None, 25)]              0         \n",
            "_________________________________________________________________\n",
            "dropout (Dropout)            (None, 25)                0         \n",
            "_________________________________________________________________\n",
            "reshape (Reshape)            (None, 25, 1)             0         \n",
            "_________________________________________________________________\n",
            "conv1d (Conv1D)              (None, 25, 12)            36        \n",
            "_________________________________________________________________\n",
            "max_pooling1d (MaxPooling1D) (None, 12, 12)            0         \n",
            "_________________________________________________________________\n",
            "conv1d_1 (Conv1D)            (None, 12, 6)             150       \n",
            "_________________________________________________________________\n",
            "max_pooling1d_1 (MaxPooling1 (None, 6, 6)              0         \n",
            "_________________________________________________________________\n",
            "conv1d_2 (Conv1D)            (None, 6, 1)              13        \n",
            "_________________________________________________________________\n",
            "max_pooling1d_2 (MaxPooling1 (None, 3, 1)              0         \n",
            "_________________________________________________________________\n",
            "conv1d_3 (Conv1D)            (None, 3, 1)              3         \n",
            "_________________________________________________________________\n",
            "up_sampling1d (UpSampling1D) (None, 6, 1)              0         \n",
            "_________________________________________________________________\n",
            "conv1d_4 (Conv1D)            (None, 6, 6)              18        \n",
            "_________________________________________________________________\n",
            "up_sampling1d_1 (UpSampling1 (None, 12, 6)             0         \n",
            "_________________________________________________________________\n",
            "conv1d_5 (Conv1D)            (None, 12, 12)            156       \n",
            "_________________________________________________________________\n",
            "up_sampling1d_2 (UpSampling1 (None, 24, 12)            0         \n",
            "_________________________________________________________________\n",
            "conv1d_6 (Conv1D)            (None, 24, 1)             25        \n",
            "=================================================================\n",
            "Total params: 401\n",
            "Trainable params: 401\n",
            "Non-trainable params: 0\n",
            "_________________________________________________________________\n"
          ],
          "name": "stdout"
        }
      ]
    },
    {
      "cell_type": "code",
      "metadata": {
        "id": "yt7KC_lA-7JR",
        "colab_type": "code",
        "colab": {}
      },
      "source": [
        "checkpoint_path = './final_models_4/baseline_model4.ckpt'\n",
        "model_callback = tf.keras.callbacks.ModelCheckpoint(\n",
        "    checkpoint_path, monitor='val_loss', save_best_only=True,\n",
        "    save_weights_only=True, mode='min', save_freq='epoch')\n",
        "tensorboard_callback = tf.keras.callbacks.TensorBoard(log_dir='logs/fit3/baseline_model4')\n",
        "early_stopping = tf.keras.callbacks.EarlyStopping( monitor='val_loss', patience=60, min_delta=0.0001)"
      ],
      "execution_count": null,
      "outputs": []
    },
    {
      "cell_type": "code",
      "metadata": {
        "id": "8_xLJvYV--6h",
        "colab_type": "code",
        "colab": {
          "base_uri": "https://localhost:8080/",
          "height": 51
        },
        "outputId": "b7309749-6f88-4bd9-cee3-6ae9f56123d0"
      },
      "source": [
        "train_dataset_autoencoder2 = tf.data.Dataset.from_tensor_slices((X_train_non_anom,Y_train_non_anom))\n",
        "\n",
        "val_dataset_autoencoder2 = tf.data.Dataset.from_tensor_slices((X_val_non_anom, Y_val_non_anom))\n",
        "\n",
        "\n",
        "BATCH_SIZE_TRAIN = 32\n",
        "BATCH_SIZE_VAL = 16\n",
        "\n",
        "train_dataset_autoencoder2 = train_dataset_autoencoder2.batch(BATCH_SIZE_TRAIN)\n",
        "val_dataset_autoencoder2 = val_dataset_autoencoder2.batch(BATCH_SIZE_VAL)\n",
        "print(train_dataset_autoencoder2)\n",
        "print(val_dataset_autoencoder2)"
      ],
      "execution_count": null,
      "outputs": [
        {
          "output_type": "stream",
          "text": [
            "<BatchDataset shapes: ((None, 25, 1), (None, 24, 1)), types: (tf.float64, tf.float32)>\n",
            "<BatchDataset shapes: ((None, 25, 1), (None, 24, 1)), types: (tf.float64, tf.float32)>\n"
          ],
          "name": "stdout"
        }
      ]
    },
    {
      "cell_type": "code",
      "metadata": {
        "id": "rtUm8jHY_O28",
        "colab_type": "code",
        "colab": {
          "base_uri": "https://localhost:8080/",
          "height": 1000
        },
        "outputId": "af6ce80b-ea05-4d5e-b480-78935e5349ab"
      },
      "source": [
        "autoencoder2.fit(train_dataset_autoencoder2, epochs=300, validation_data = val_dataset_autoencoder2, callbacks=[model_callback, tensorboard_callback, early_stopping])"
      ],
      "execution_count": null,
      "outputs": [
        {
          "output_type": "stream",
          "text": [
            "Epoch 1/300\n",
            "1155/1155 [==============================] - 10s 8ms/step - loss: 12.4943 - mse: 12.4943 - val_loss: 4.0807 - val_mse: 4.0807\n",
            "Epoch 2/300\n",
            "1155/1155 [==============================] - 10s 8ms/step - loss: 2.1415 - mse: 2.1415 - val_loss: 1.5011 - val_mse: 1.5011\n",
            "Epoch 3/300\n",
            "1155/1155 [==============================] - 10s 8ms/step - loss: 1.3731 - mse: 1.3731 - val_loss: 1.3285 - val_mse: 1.3285\n",
            "Epoch 4/300\n",
            "1155/1155 [==============================] - 10s 8ms/step - loss: 1.1877 - mse: 1.1877 - val_loss: 1.1230 - val_mse: 1.1230\n",
            "Epoch 5/300\n",
            "1155/1155 [==============================] - 10s 8ms/step - loss: 0.9834 - mse: 0.9834 - val_loss: 0.9136 - val_mse: 0.9136\n",
            "Epoch 6/300\n",
            "1155/1155 [==============================] - 10s 8ms/step - loss: 0.7834 - mse: 0.7834 - val_loss: 0.7171 - val_mse: 0.7171\n",
            "Epoch 7/300\n",
            "1155/1155 [==============================] - 10s 8ms/step - loss: 0.5995 - mse: 0.5995 - val_loss: 0.5411 - val_mse: 0.5411\n",
            "Epoch 8/300\n",
            "1155/1155 [==============================] - 10s 8ms/step - loss: 0.4403 - mse: 0.4403 - val_loss: 0.3862 - val_mse: 0.3862\n",
            "Epoch 9/300\n",
            "1155/1155 [==============================] - 11s 9ms/step - loss: 0.3016 - mse: 0.3016 - val_loss: 0.2660 - val_mse: 0.2660\n",
            "Epoch 10/300\n",
            "1155/1155 [==============================] - 10s 9ms/step - loss: 0.2007 - mse: 0.2007 - val_loss: 0.1716 - val_mse: 0.1716\n",
            "Epoch 11/300\n",
            "1155/1155 [==============================] - 10s 8ms/step - loss: 0.1399 - mse: 0.1399 - val_loss: 0.1467 - val_mse: 0.1467\n",
            "Epoch 12/300\n",
            "1155/1155 [==============================] - 10s 8ms/step - loss: 0.1051 - mse: 0.1051 - val_loss: 0.1333 - val_mse: 0.1333\n",
            "Epoch 13/300\n",
            "1155/1155 [==============================] - 10s 9ms/step - loss: 0.0843 - mse: 0.0843 - val_loss: 0.1134 - val_mse: 0.1134\n",
            "Epoch 14/300\n",
            "1155/1155 [==============================] - 10s 8ms/step - loss: 0.0713 - mse: 0.0713 - val_loss: 0.1088 - val_mse: 0.1088\n",
            "Epoch 15/300\n",
            "1155/1155 [==============================] - 9s 8ms/step - loss: 0.0622 - mse: 0.0622 - val_loss: 0.1141 - val_mse: 0.1141\n",
            "Epoch 16/300\n",
            "1155/1155 [==============================] - 9s 8ms/step - loss: 0.0559 - mse: 0.0559 - val_loss: 0.1026 - val_mse: 0.1026\n",
            "Epoch 17/300\n",
            "1155/1155 [==============================] - 10s 8ms/step - loss: 0.0522 - mse: 0.0522 - val_loss: 0.1065 - val_mse: 0.1065\n",
            "Epoch 18/300\n",
            "1155/1155 [==============================] - 10s 8ms/step - loss: 0.0496 - mse: 0.0496 - val_loss: 0.0953 - val_mse: 0.0953\n",
            "Epoch 19/300\n",
            "1155/1155 [==============================] - 9s 8ms/step - loss: 0.0481 - mse: 0.0481 - val_loss: 0.1018 - val_mse: 0.1018\n",
            "Epoch 20/300\n",
            "1155/1155 [==============================] - 9s 8ms/step - loss: 0.0469 - mse: 0.0469 - val_loss: 0.0930 - val_mse: 0.0930\n",
            "Epoch 21/300\n",
            "1155/1155 [==============================] - 9s 8ms/step - loss: 0.0459 - mse: 0.0459 - val_loss: 0.0916 - val_mse: 0.0916\n",
            "Epoch 22/300\n",
            "1155/1155 [==============================] - 9s 8ms/step - loss: 0.0449 - mse: 0.0449 - val_loss: 0.0917 - val_mse: 0.0917\n",
            "Epoch 23/300\n",
            "1155/1155 [==============================] - 9s 8ms/step - loss: 0.0443 - mse: 0.0443 - val_loss: 0.0912 - val_mse: 0.0912\n",
            "Epoch 24/300\n",
            "1155/1155 [==============================] - 9s 8ms/step - loss: 0.0440 - mse: 0.0440 - val_loss: 0.0866 - val_mse: 0.0866\n",
            "Epoch 25/300\n",
            "1155/1155 [==============================] - 9s 8ms/step - loss: 0.0432 - mse: 0.0432 - val_loss: 0.0957 - val_mse: 0.0957\n",
            "Epoch 26/300\n",
            "1155/1155 [==============================] - 9s 8ms/step - loss: 0.0430 - mse: 0.0430 - val_loss: 0.0873 - val_mse: 0.0873\n",
            "Epoch 27/300\n",
            "1155/1155 [==============================] - 9s 8ms/step - loss: 0.0424 - mse: 0.0424 - val_loss: 0.0878 - val_mse: 0.0878\n",
            "Epoch 28/300\n",
            "1155/1155 [==============================] - 9s 8ms/step - loss: 0.0423 - mse: 0.0423 - val_loss: 0.0886 - val_mse: 0.0886\n",
            "Epoch 29/300\n",
            "1155/1155 [==============================] - 9s 8ms/step - loss: 0.0419 - mse: 0.0419 - val_loss: 0.0876 - val_mse: 0.0876\n",
            "Epoch 30/300\n",
            "1155/1155 [==============================] - 9s 8ms/step - loss: 0.0419 - mse: 0.0419 - val_loss: 0.0936 - val_mse: 0.0936\n",
            "Epoch 31/300\n",
            "1155/1155 [==============================] - 9s 8ms/step - loss: 0.0414 - mse: 0.0414 - val_loss: 0.0915 - val_mse: 0.0915\n",
            "Epoch 32/300\n",
            "1155/1155 [==============================] - 9s 8ms/step - loss: 0.0412 - mse: 0.0412 - val_loss: 0.0885 - val_mse: 0.0885\n",
            "Epoch 33/300\n",
            "1155/1155 [==============================] - 9s 8ms/step - loss: 0.0411 - mse: 0.0411 - val_loss: 0.0873 - val_mse: 0.0873\n",
            "Epoch 34/300\n",
            "1155/1155 [==============================] - 9s 8ms/step - loss: 0.0408 - mse: 0.0408 - val_loss: 0.0909 - val_mse: 0.0909\n",
            "Epoch 35/300\n",
            "1155/1155 [==============================] - 9s 8ms/step - loss: 0.0408 - mse: 0.0408 - val_loss: 0.0931 - val_mse: 0.0931\n",
            "Epoch 36/300\n",
            "1155/1155 [==============================] - 9s 8ms/step - loss: 0.0405 - mse: 0.0405 - val_loss: 0.0886 - val_mse: 0.0886\n",
            "Epoch 37/300\n",
            "1155/1155 [==============================] - 9s 8ms/step - loss: 0.0403 - mse: 0.0403 - val_loss: 0.0930 - val_mse: 0.0930\n",
            "Epoch 38/300\n",
            "1155/1155 [==============================] - 9s 8ms/step - loss: 0.0402 - mse: 0.0402 - val_loss: 0.0821 - val_mse: 0.0821\n",
            "Epoch 39/300\n",
            "1155/1155 [==============================] - 9s 8ms/step - loss: 0.0401 - mse: 0.0401 - val_loss: 0.0851 - val_mse: 0.0851\n",
            "Epoch 40/300\n",
            "1155/1155 [==============================] - 9s 8ms/step - loss: 0.0398 - mse: 0.0398 - val_loss: 0.0935 - val_mse: 0.0935\n",
            "Epoch 41/300\n",
            "1155/1155 [==============================] - 9s 8ms/step - loss: 0.0398 - mse: 0.0398 - val_loss: 0.0883 - val_mse: 0.0883\n",
            "Epoch 42/300\n",
            "1155/1155 [==============================] - 11s 9ms/step - loss: 0.0397 - mse: 0.0397 - val_loss: 0.0901 - val_mse: 0.0901\n",
            "Epoch 43/300\n",
            "1155/1155 [==============================] - 10s 8ms/step - loss: 0.0397 - mse: 0.0397 - val_loss: 0.0879 - val_mse: 0.0879\n",
            "Epoch 44/300\n",
            "1155/1155 [==============================] - 9s 8ms/step - loss: 0.0395 - mse: 0.0395 - val_loss: 0.0901 - val_mse: 0.0901\n",
            "Epoch 45/300\n",
            "1155/1155 [==============================] - 10s 8ms/step - loss: 0.0394 - mse: 0.0394 - val_loss: 0.0919 - val_mse: 0.0919\n",
            "Epoch 46/300\n",
            "1155/1155 [==============================] - 10s 8ms/step - loss: 0.0393 - mse: 0.0393 - val_loss: 0.0911 - val_mse: 0.0911\n",
            "Epoch 47/300\n",
            "1155/1155 [==============================] - 9s 8ms/step - loss: 0.0393 - mse: 0.0393 - val_loss: 0.0892 - val_mse: 0.0892\n",
            "Epoch 48/300\n",
            "1155/1155 [==============================] - 9s 8ms/step - loss: 0.0390 - mse: 0.0390 - val_loss: 0.0972 - val_mse: 0.0972\n",
            "Epoch 49/300\n",
            "1155/1155 [==============================] - 9s 8ms/step - loss: 0.0390 - mse: 0.0390 - val_loss: 0.0887 - val_mse: 0.0887\n",
            "Epoch 50/300\n",
            "1155/1155 [==============================] - 9s 8ms/step - loss: 0.0389 - mse: 0.0389 - val_loss: 0.0894 - val_mse: 0.0894\n",
            "Epoch 51/300\n",
            "1155/1155 [==============================] - 9s 8ms/step - loss: 0.0387 - mse: 0.0387 - val_loss: 0.0918 - val_mse: 0.0918\n",
            "Epoch 52/300\n",
            "1155/1155 [==============================] - 9s 8ms/step - loss: 0.0390 - mse: 0.0390 - val_loss: 0.0881 - val_mse: 0.0881\n",
            "Epoch 53/300\n",
            "1155/1155 [==============================] - 10s 8ms/step - loss: 0.0387 - mse: 0.0387 - val_loss: 0.0865 - val_mse: 0.0865\n",
            "Epoch 54/300\n",
            "1155/1155 [==============================] - 9s 8ms/step - loss: 0.0386 - mse: 0.0386 - val_loss: 0.0887 - val_mse: 0.0887\n",
            "Epoch 55/300\n",
            "1155/1155 [==============================] - 9s 8ms/step - loss: 0.0387 - mse: 0.0387 - val_loss: 0.0911 - val_mse: 0.0911\n",
            "Epoch 56/300\n",
            "1155/1155 [==============================] - 9s 8ms/step - loss: 0.0385 - mse: 0.0385 - val_loss: 0.0915 - val_mse: 0.0915\n",
            "Epoch 57/300\n",
            "1155/1155 [==============================] - 9s 8ms/step - loss: 0.0384 - mse: 0.0384 - val_loss: 0.0898 - val_mse: 0.0898\n",
            "Epoch 58/300\n",
            "1155/1155 [==============================] - 9s 8ms/step - loss: 0.0381 - mse: 0.0381 - val_loss: 0.0977 - val_mse: 0.0977\n",
            "Epoch 59/300\n",
            "1155/1155 [==============================] - 9s 8ms/step - loss: 0.0383 - mse: 0.0383 - val_loss: 0.0896 - val_mse: 0.0896\n",
            "Epoch 60/300\n",
            "1155/1155 [==============================] - 9s 8ms/step - loss: 0.0382 - mse: 0.0382 - val_loss: 0.0922 - val_mse: 0.0922\n",
            "Epoch 61/300\n",
            "1155/1155 [==============================] - 9s 8ms/step - loss: 0.0381 - mse: 0.0381 - val_loss: 0.0911 - val_mse: 0.0911\n",
            "Epoch 62/300\n",
            "1155/1155 [==============================] - 9s 8ms/step - loss: 0.0380 - mse: 0.0380 - val_loss: 0.0894 - val_mse: 0.0894\n",
            "Epoch 63/300\n",
            "1155/1155 [==============================] - 9s 8ms/step - loss: 0.0381 - mse: 0.0381 - val_loss: 0.0954 - val_mse: 0.0954\n",
            "Epoch 64/300\n",
            "1155/1155 [==============================] - 9s 8ms/step - loss: 0.0381 - mse: 0.0381 - val_loss: 0.0897 - val_mse: 0.0897\n",
            "Epoch 65/300\n",
            "1155/1155 [==============================] - 10s 8ms/step - loss: 0.0378 - mse: 0.0378 - val_loss: 0.0932 - val_mse: 0.0932\n",
            "Epoch 66/300\n",
            "1155/1155 [==============================] - 10s 8ms/step - loss: 0.0379 - mse: 0.0379 - val_loss: 0.0922 - val_mse: 0.0922\n",
            "Epoch 67/300\n",
            "1155/1155 [==============================] - 10s 8ms/step - loss: 0.0378 - mse: 0.0378 - val_loss: 0.0932 - val_mse: 0.0932\n",
            "Epoch 68/300\n",
            "1155/1155 [==============================] - 10s 8ms/step - loss: 0.0379 - mse: 0.0379 - val_loss: 0.0899 - val_mse: 0.0899\n",
            "Epoch 69/300\n",
            "1155/1155 [==============================] - 10s 8ms/step - loss: 0.0377 - mse: 0.0377 - val_loss: 0.0959 - val_mse: 0.0959\n",
            "Epoch 70/300\n",
            "1155/1155 [==============================] - 10s 8ms/step - loss: 0.0376 - mse: 0.0376 - val_loss: 0.0895 - val_mse: 0.0895\n",
            "Epoch 71/300\n",
            "1155/1155 [==============================] - 10s 9ms/step - loss: 0.0376 - mse: 0.0376 - val_loss: 0.0861 - val_mse: 0.0861\n",
            "Epoch 72/300\n",
            "1155/1155 [==============================] - 10s 9ms/step - loss: 0.0375 - mse: 0.0375 - val_loss: 0.0929 - val_mse: 0.0929\n",
            "Epoch 73/300\n",
            "1155/1155 [==============================] - 10s 8ms/step - loss: 0.0375 - mse: 0.0375 - val_loss: 0.0900 - val_mse: 0.0900\n",
            "Epoch 74/300\n",
            "1155/1155 [==============================] - 11s 9ms/step - loss: 0.0375 - mse: 0.0375 - val_loss: 0.0971 - val_mse: 0.0971\n",
            "Epoch 75/300\n",
            "1155/1155 [==============================] - 11s 9ms/step - loss: 0.0374 - mse: 0.0374 - val_loss: 0.0951 - val_mse: 0.0951\n",
            "Epoch 76/300\n",
            "1155/1155 [==============================] - 10s 8ms/step - loss: 0.0375 - mse: 0.0375 - val_loss: 0.0915 - val_mse: 0.0915\n",
            "Epoch 77/300\n",
            "1155/1155 [==============================] - 10s 9ms/step - loss: 0.0374 - mse: 0.0374 - val_loss: 0.0955 - val_mse: 0.0955\n",
            "Epoch 78/300\n",
            "1155/1155 [==============================] - 10s 8ms/step - loss: 0.0375 - mse: 0.0375 - val_loss: 0.0899 - val_mse: 0.0899\n",
            "Epoch 79/300\n",
            "1155/1155 [==============================] - 10s 8ms/step - loss: 0.0374 - mse: 0.0374 - val_loss: 0.0925 - val_mse: 0.0925\n",
            "Epoch 80/300\n",
            "1155/1155 [==============================] - 10s 8ms/step - loss: 0.0373 - mse: 0.0373 - val_loss: 0.0948 - val_mse: 0.0948\n",
            "Epoch 81/300\n",
            "1155/1155 [==============================] - 10s 8ms/step - loss: 0.0372 - mse: 0.0372 - val_loss: 0.0924 - val_mse: 0.0924\n",
            "Epoch 82/300\n",
            "1155/1155 [==============================] - 10s 8ms/step - loss: 0.0372 - mse: 0.0372 - val_loss: 0.0951 - val_mse: 0.0951\n",
            "Epoch 83/300\n",
            "1155/1155 [==============================] - 10s 8ms/step - loss: 0.0371 - mse: 0.0371 - val_loss: 0.0901 - val_mse: 0.0901\n",
            "Epoch 84/300\n",
            "1155/1155 [==============================] - 10s 9ms/step - loss: 0.0370 - mse: 0.0370 - val_loss: 0.0906 - val_mse: 0.0906\n",
            "Epoch 85/300\n",
            "1155/1155 [==============================] - 10s 9ms/step - loss: 0.0372 - mse: 0.0372 - val_loss: 0.0910 - val_mse: 0.0910\n",
            "Epoch 86/300\n",
            "1155/1155 [==============================] - 10s 8ms/step - loss: 0.0371 - mse: 0.0371 - val_loss: 0.0939 - val_mse: 0.0939\n",
            "Epoch 87/300\n",
            "1155/1155 [==============================] - 10s 8ms/step - loss: 0.0371 - mse: 0.0371 - val_loss: 0.0957 - val_mse: 0.0957\n",
            "Epoch 88/300\n",
            "1155/1155 [==============================] - 10s 8ms/step - loss: 0.0369 - mse: 0.0369 - val_loss: 0.0876 - val_mse: 0.0876\n",
            "Epoch 89/300\n",
            "1155/1155 [==============================] - 10s 8ms/step - loss: 0.0368 - mse: 0.0368 - val_loss: 0.0902 - val_mse: 0.0902\n",
            "Epoch 90/300\n",
            "1155/1155 [==============================] - 10s 8ms/step - loss: 0.0369 - mse: 0.0369 - val_loss: 0.0938 - val_mse: 0.0938\n",
            "Epoch 91/300\n",
            "1155/1155 [==============================] - 10s 8ms/step - loss: 0.0369 - mse: 0.0369 - val_loss: 0.0923 - val_mse: 0.0923\n",
            "Epoch 92/300\n",
            "1155/1155 [==============================] - 10s 8ms/step - loss: 0.0368 - mse: 0.0368 - val_loss: 0.0944 - val_mse: 0.0944\n",
            "Epoch 93/300\n",
            "1155/1155 [==============================] - 10s 8ms/step - loss: 0.0367 - mse: 0.0367 - val_loss: 0.0929 - val_mse: 0.0929\n",
            "Epoch 94/300\n",
            "1155/1155 [==============================] - 10s 8ms/step - loss: 0.0367 - mse: 0.0367 - val_loss: 0.0944 - val_mse: 0.0944\n",
            "Epoch 95/300\n",
            "1155/1155 [==============================] - 10s 8ms/step - loss: 0.0368 - mse: 0.0368 - val_loss: 0.0929 - val_mse: 0.0929\n",
            "Epoch 96/300\n",
            "1155/1155 [==============================] - 10s 8ms/step - loss: 0.0366 - mse: 0.0366 - val_loss: 0.0953 - val_mse: 0.0953\n",
            "Epoch 97/300\n",
            "1155/1155 [==============================] - 10s 8ms/step - loss: 0.0367 - mse: 0.0367 - val_loss: 0.0916 - val_mse: 0.0916\n",
            "Epoch 98/300\n",
            "1155/1155 [==============================] - 10s 8ms/step - loss: 0.0366 - mse: 0.0366 - val_loss: 0.0853 - val_mse: 0.0853\n"
          ],
          "name": "stdout"
        },
        {
          "output_type": "execute_result",
          "data": {
            "text/plain": [
              "<tensorflow.python.keras.callbacks.History at 0x7f0650340f98>"
            ]
          },
          "metadata": {
            "tags": []
          },
          "execution_count": 40
        }
      ]
    },
    {
      "cell_type": "code",
      "metadata": {
        "id": "4uY7VkPm_U5F",
        "colab_type": "code",
        "colab": {}
      },
      "source": [
        "#Add metric"
      ],
      "execution_count": null,
      "outputs": []
    }
  ]
}