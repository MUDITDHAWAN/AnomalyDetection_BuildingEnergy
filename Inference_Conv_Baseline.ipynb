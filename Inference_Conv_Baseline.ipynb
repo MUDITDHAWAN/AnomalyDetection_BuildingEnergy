{
  "nbformat": 4,
  "nbformat_minor": 0,
  "metadata": {
    "kernelspec": {
      "name": "python3",
      "display_name": "Python 3"
    },
    "language_info": {
      "codemirror_mode": {
        "name": "ipython",
        "version": 3
      },
      "file_extension": ".py",
      "mimetype": "text/x-python",
      "name": "python",
      "nbconvert_exporter": "python",
      "pygments_lexer": "ipython3",
      "version": "3.6.6"
    },
    "colab": {
      "name": "Inference_Conv_Baseline.ipynb",
      "provenance": [],
      "collapsed_sections": [],
      "machine_shape": "hm"
    }
  },
  "cells": [
    {
      "cell_type": "code",
      "metadata": {
        "id": "cvVDR7QzxiWQ",
        "colab_type": "code",
        "colab": {
          "base_uri": "https://localhost:8080/",
          "height": 122
        },
        "outputId": "b383d39e-f54d-415d-df1b-0102880b722b"
      },
      "source": [
        "from google.colab import drive\n",
        "drive.mount('/content/drive') "
      ],
      "execution_count": 1,
      "outputs": [
        {
          "output_type": "stream",
          "text": [
            "Go to this URL in a browser: https://accounts.google.com/o/oauth2/auth?client_id=947318989803-6bn6qk8qdgf4n4g3pfee6491hc0brc4i.apps.googleusercontent.com&redirect_uri=urn%3aietf%3awg%3aoauth%3a2.0%3aoob&scope=email%20https%3a%2f%2fwww.googleapis.com%2fauth%2fdocs.test%20https%3a%2f%2fwww.googleapis.com%2fauth%2fdrive%20https%3a%2f%2fwww.googleapis.com%2fauth%2fdrive.photos.readonly%20https%3a%2f%2fwww.googleapis.com%2fauth%2fpeopleapi.readonly&response_type=code\n",
            "\n",
            "Enter your authorization code:\n",
            "··········\n",
            "Mounted at /content/drive\n"
          ],
          "name": "stdout"
        }
      ]
    },
    {
      "cell_type": "code",
      "metadata": {
        "id": "bdvWfWGwxRXi",
        "colab_type": "code",
        "colab": {
          "base_uri": "https://localhost:8080/",
          "height": 71
        },
        "outputId": "c96d64e0-9576-48b0-dc2e-f4bf3ce62220"
      },
      "source": [
        "import os\n",
        "import pickle\n",
        "import pandas as pd\n",
        "import numpy as np\n",
        "import tensorflow as tf\n",
        "import matplotlib.pyplot as plt\n",
        "import random\n",
        "import seaborn as sns\n",
        "from sklearn import metrics"
      ],
      "execution_count": 2,
      "outputs": [
        {
          "output_type": "stream",
          "text": [
            "/usr/local/lib/python3.6/dist-packages/statsmodels/tools/_testing.py:19: FutureWarning: pandas.util.testing is deprecated. Use the functions in the public API at pandas.testing instead.\n",
            "  import pandas.util.testing as tm\n"
          ],
          "name": "stderr"
        }
      ]
    },
    {
      "cell_type": "code",
      "metadata": {
        "id": "-S6GcA8R35CR",
        "colab_type": "code",
        "colab": {}
      },
      "source": [
        "## libraries to create the model \n",
        "from tensorflow.keras.layers import  MaxPool1D, Input, MaxPool1D, UpSampling1D\n",
        "from tensorflow.keras.layers import  Dense, Activation, Dropout, Reshape, Conv1D\n",
        "from tensorflow.keras.optimizers import Adam\n",
        "from tensorflow.keras.utils import to_categorical\n",
        "from tensorflow.keras.models import load_model, Model\n",
        "import tensorflow.keras.backend as K"
      ],
      "execution_count": 3,
      "outputs": []
    },
    {
      "cell_type": "code",
      "metadata": {
        "id": "jGbwMZYsxRKY",
        "colab_type": "code",
        "colab": {}
      },
      "source": [
        "# For reproducibility\n",
        "np.random.seed(12)\n",
        "tf.random.set_seed(12)\n",
        "random.seed(1)"
      ],
      "execution_count": 4,
      "outputs": []
    },
    {
      "cell_type": "code",
      "metadata": {
        "id": "qCCUP3qNV4F5",
        "colab_type": "code",
        "colab": {}
      },
      "source": [
        "dir_saved_data = \"/content/drive/My Drive/ASHRAEData/\"\n",
        "dir_saved_model = \"/content/drive/My Drive/ASHRAEData/\" "
      ],
      "execution_count": 5,
      "outputs": []
    },
    {
      "cell_type": "code",
      "metadata": {
        "id": "DkgdptDh4XsF",
        "colab_type": "code",
        "colab": {}
      },
      "source": [
        "## CAN BE CHANGED \n",
        "\n",
        "## change these lists as per model's input \n",
        "site_id= 0 \n",
        "\n",
        "## window length \n",
        "seq_length = 24 \n",
        "\n",
        "## name of the model for which data is prepared\n",
        "model_name = 'Baseline_Conv1'"
      ],
      "execution_count": 6,
      "outputs": []
    },
    {
      "cell_type": "code",
      "metadata": {
        "id": "hP5dJBYM346i",
        "colab_type": "code",
        "colab": {}
      },
      "source": [
        "## CAN BE CHANGED \n",
        "\n",
        "BATCH_SIZE_TEST = 32 ## Test batch size\n",
        "BATCH_SIZE_VAL = 16 ## Validation batch size"
      ],
      "execution_count": 7,
      "outputs": []
    },
    {
      "cell_type": "code",
      "metadata": {
        "id": "2HOfi6ERN3HT",
        "colab_type": "code",
        "colab": {}
      },
      "source": [
        "## Creating the model again to load weights\n",
        "tf.keras.backend.clear_session()"
      ],
      "execution_count": 8,
      "outputs": []
    },
    {
      "cell_type": "code",
      "metadata": {
        "id": "CZ0f2Y3p349u",
        "colab_type": "code",
        "colab": {}
      },
      "source": [
        "def generate_model_autoencoder1(input_len, name):\n",
        "  ## Creating the Non Conditional Convolutional De-noising Autoencoder Model\n",
        "\n",
        "  ## input layer\n",
        "  input_encoder = Input(shape=(input_len,)) \n",
        "  ## introducing Noise (can be changed)\n",
        "  ip = Dropout(0.05)(input_encoder) \n",
        "  encoder = Reshape((input_len,1))(ip)\n",
        "\n",
        "  ## First layer of the encoder \n",
        "  encoder = Conv1D(12, 2, strides=1, padding='same', data_format='channels_last', activation='tanh')(encoder)\n",
        "  encoder = MaxPool1D(pool_size=2, data_format='channels_last')(encoder)\n",
        "\n",
        "  ## Second layer of the encoder \n",
        "  encoder = Conv1D(6, 2, strides=1, padding='same', data_format='channels_last', activation='tanh')(encoder)  \n",
        "  encoder = MaxPool1D(pool_size=2, data_format='channels_last')(encoder)\n",
        "\n",
        "  ## Third and last layer of the encoder \n",
        "  encoder = Conv1D(1, 2, strides=1, padding='same', data_format='channels_last', activation='tanh')(encoder)  \n",
        "  encoder = MaxPool1D(pool_size=2, data_format='channels_last')(encoder)\n",
        "\n",
        "  ## Decoder first layer\n",
        "  decoder = Conv1D(1, 2, strides=1, padding='same', data_format='channels_last', activation='tanh')(encoder)  \n",
        "  decoder = UpSampling1D(size=2)(decoder)\n",
        "\n",
        "  ## Decoder second layer\n",
        "  decoder = Conv1D(6, 2, strides=1, padding='same', data_format='channels_last', activation='tanh')(decoder)  \n",
        "  decoder = UpSampling1D(size=2)(decoder)\n",
        "\n",
        "  ## Decoder third layer\n",
        "  decoder = Conv1D(12, 2, strides=1, padding='same', data_format='channels_last', activation='tanh')(decoder)  \n",
        "  decoder = UpSampling1D(size=2)(decoder)\n",
        "\n",
        "  ## output layer\n",
        "  decoded = decoder = Conv1D(1, 2, strides=1, padding='same', data_format='channels_last', activation='relu')(decoder) \n",
        "  \n",
        "  ## initalizing keras.Model instance\n",
        "  model = Model(input_encoder, decoded, name = name)\n",
        "\n",
        "  return model"
      ],
      "execution_count": 9,
      "outputs": []
    },
    {
      "cell_type": "code",
      "metadata": {
        "id": "oQ9aFhaI4XYO",
        "colab_type": "code",
        "colab": {}
      },
      "source": [
        "## Initialize the model\n",
        "model = generate_model_autoencoder1(seq_length,  model_name)"
      ],
      "execution_count": 10,
      "outputs": []
    },
    {
      "cell_type": "code",
      "metadata": {
        "id": "H8pG2gUEWbGt",
        "colab_type": "code",
        "colab": {}
      },
      "source": [
        "## Reading saved data Non - Anomalous\n",
        "os.chdir(dir_saved_data)\n",
        "\n",
        "# ## Reading training data\n",
        "# with open(\"./Baseline_data/Not_Conditional/\"+ \"site_id_\" + str(site_id)+\"/non_anom/train_data.pkl\", 'rb') as f:\n",
        "#   Y_train_non_anom = pickle.load(f)\n",
        "\n",
        "## Reading validation data\n",
        "with open(\"./Baseline_data/Not_Conditional/\"+ \"site_id_\" + str(site_id)+\"/non_anom/val_data.pkl\", 'rb') as f:\n",
        "  Y_val_non_anom = pickle.load(f)\n",
        "\n",
        "## Reading test data\n",
        "with open(\"./Baseline_data/Not_Conditional/\"+ \"site_id_\" + str(site_id)+\"/non_anom/test_data.pkl\", 'rb') as f:\n",
        "  Y_test_non_anom = pickle.load(f)"
      ],
      "execution_count": 11,
      "outputs": []
    },
    {
      "cell_type": "code",
      "metadata": {
        "id": "JbnV15THd1UL",
        "colab_type": "code",
        "colab": {}
      },
      "source": [
        "## Reading saved data Anomalous\n",
        "os.chdir(dir_saved_data)\n",
        "\n",
        "# ## Reading training data\n",
        "# with open(\"./Baseline_data/Not_Conditional/\"+ \"site_id_\" + str(site_id)+\"/anom/train_data.pkl\", 'rb') as f:\n",
        "#   Y_train_non_anom = pickle.load(f)\n",
        "\n",
        "## Reading validation data\n",
        "with open(\"./Baseline_data/Not_Conditional/\"+ \"site_id_\" + str(site_id)+\"/anom/val_data.pkl\", 'rb') as f:\n",
        "  Y_val_anom = pickle.load(f)\n",
        "\n",
        "## Reading test data\n",
        "with open(\"./Baseline_data/Not_Conditional/\"+ \"site_id_\" + str(site_id)+\"/anom/test_data.pkl\", 'rb') as f:\n",
        "  Y_test_anom = pickle.load(f)"
      ],
      "execution_count": 12,
      "outputs": []
    },
    {
      "cell_type": "code",
      "metadata": {
        "id": "68VErmXF900w",
        "colab_type": "code",
        "colab": {}
      },
      "source": [
        "os.chdir(dir_saved_model)"
      ],
      "execution_count": 15,
      "outputs": []
    },
    {
      "cell_type": "code",
      "metadata": {
        "id": "0wY-EjljTy_B",
        "colab_type": "code",
        "colab": {
          "base_uri": "https://localhost:8080/",
          "height": 34
        },
        "outputId": "4e5c8b87-e575-472b-832e-8636907b6678"
      },
      "source": [
        "## Loading weights for the model\n",
        "model.load_weights('./'+ model_name + \"/\" + \"_site_id_\"+ str(site_id) + '.ckpt')"
      ],
      "execution_count": 16,
      "outputs": [
        {
          "output_type": "execute_result",
          "data": {
            "text/plain": [
              "<tensorflow.python.training.tracking.util.CheckpointLoadStatus at 0x7fcd13f911d0>"
            ]
          },
          "metadata": {
            "tags": []
          },
          "execution_count": 16
        }
      ]
    },
    {
      "cell_type": "code",
      "metadata": {
        "id": "ZZvyodG4W-Qz",
        "colab_type": "code",
        "colab": {
          "base_uri": "https://localhost:8080/",
          "height": 51
        },
        "outputId": "abd438d2-eda3-41fd-b5e5-d3ef9e5d344d"
      },
      "source": [
        "## Creating Test annd Validation tf.dat.Dataset objects to do predictions for Non Anomalous\n",
        "\n",
        "## creating tf.Dataset objects Test Non Anomalous\n",
        "test_dataset_non_anom = tf.data.Dataset.from_tensor_slices((Y_test_non_anom,Y_test_non_anom))\n",
        "\n",
        "## creating tf.Dataset objects Validation Non Anomalous\n",
        "val_dataset_non_anom = tf.data.Dataset.from_tensor_slices((Y_val_non_anom,Y_val_non_anom))\n",
        "\n",
        "## Setting the batch size\n",
        "test_dataset_non_anom = test_dataset_non_anom.batch(BATCH_SIZE_TEST)\n",
        "val_dataset_non_anom = val_dataset_non_anom.batch(BATCH_SIZE_VAL)\n",
        "\n",
        "print(test_dataset_non_anom)\n",
        "print(val_dataset_non_anom)"
      ],
      "execution_count": 17,
      "outputs": [
        {
          "output_type": "stream",
          "text": [
            "<BatchDataset shapes: ((None, 24, 1), (None, 24, 1)), types: (tf.float32, tf.float32)>\n",
            "<BatchDataset shapes: ((None, 24, 1), (None, 24, 1)), types: (tf.float32, tf.float32)>\n"
          ],
          "name": "stdout"
        }
      ]
    },
    {
      "cell_type": "code",
      "metadata": {
        "id": "lDn5pzXuYDW5",
        "colab_type": "code",
        "colab": {
          "base_uri": "https://localhost:8080/",
          "height": 51
        },
        "outputId": "2171b99f-b4e8-47f7-a1bf-888579db3e8a"
      },
      "source": [
        "## Creating Test annd Validation tf.dat.Dataset objects to do predictions for Non Anomalous\n",
        "\n",
        "## creating tf.Dataset objects Test Anomalous\n",
        "test_dataset_anom = tf.data.Dataset.from_tensor_slices((Y_test_anom,Y_test_anom))\n",
        "\n",
        "## creating tf.Dataset objects Validation Anomalous\n",
        "val_dataset_anom = tf.data.Dataset.from_tensor_slices((Y_val_anom,Y_val_anom))\n",
        "\n",
        "## Setting the batch size\n",
        "test_dataset_anom = test_dataset_anom.batch(BATCH_SIZE_TEST)\n",
        "val_dataset_anom = val_dataset_anom.batch(BATCH_SIZE_VAL)\n",
        "\n",
        "print(test_dataset_anom)\n",
        "print(val_dataset_anom)"
      ],
      "execution_count": 18,
      "outputs": [
        {
          "output_type": "stream",
          "text": [
            "<BatchDataset shapes: ((None, 24, 1), (None, 24, 1)), types: (tf.float32, tf.float32)>\n",
            "<BatchDataset shapes: ((None, 24, 1), (None, 24, 1)), types: (tf.float32, tf.float32)>\n"
          ],
          "name": "stdout"
        }
      ]
    },
    {
      "cell_type": "code",
      "metadata": {
        "id": "fmviwmiQUehp",
        "colab_type": "code",
        "colab": {}
      },
      "source": [
        "## Validation dataset Non Anomalous Ground Truth\n",
        "val_arr_0 = np.zeros((1,24))\n",
        "for i in range(len(Y_val_non_anom)):\n",
        "  val_arr_0 = np.concatenate([val_arr_0, Y_val_non_anom[i].reshape(1, 24)], axis=0)\n",
        "val_arr_0 = np.delete(val_arr_0, (0), axis=0)\n",
        "\n",
        "## Validation dataset Anomalous Ground Truth\n",
        "val_arr_1 = np.zeros((1,24))\n",
        "for i in range(len(Y_val_anom)):\n",
        "  val_arr_1 = np.concatenate([val_arr_1, Y_val_anom[i].reshape(1, 24)], axis=0)\n",
        "val_arr_1 = np.delete(val_arr_1, (0), axis=0)"
      ],
      "execution_count": 24,
      "outputs": []
    },
    {
      "cell_type": "code",
      "metadata": {
        "id": "fcvA-zTAaRaT",
        "colab_type": "code",
        "colab": {}
      },
      "source": [
        "## Test dataset Non Anomalous Ground Truth\n",
        "test_arr_0 = np.zeros((1,24))\n",
        "for i in range(len(Y_test_non_anom)):\n",
        "  test_arr_0 = np.concatenate([test_arr_0, Y_test_non_anom[i].reshape(1, 24)], axis=0)\n",
        "test_arr_0 = np.delete(test_arr_0, (0), axis=0)\n",
        "\n",
        "## Test dataset Anomalous Ground Truth\n",
        "test_arr_1 = np.zeros((1,24))\n",
        "for i in range(len(Y_test_anom)):\n",
        "  test_arr_1 = np.concatenate([test_arr_1, Y_test_anom[i].reshape(1, 24)], axis=0)\n",
        "test_arr_1 = np.delete(test_arr_1, (0), axis=0)"
      ],
      "execution_count": 25,
      "outputs": []
    },
    {
      "cell_type": "code",
      "metadata": {
        "id": "q-A5hDtHZPnj",
        "colab_type": "code",
        "colab": {}
      },
      "source": [
        "# outlier label Validation data \n",
        "anomaly_label_val = np.concatenate([np.zeros((len(Y_val_non_anom))), np.ones((len(Y_val_anom)))], axis=0)\n",
        "\n",
        "# outlier label Test Data\n",
        "anomaly_label_test = np.concatenate([np.zeros((len(Y_test_non_anom))), np.ones((len(Y_test_anom)))], axis=0)"
      ],
      "execution_count": 26,
      "outputs": []
    },
    {
      "cell_type": "code",
      "metadata": {
        "id": "N_HWOA05Whhb",
        "colab_type": "code",
        "colab": {}
      },
      "source": [
        "def calc_mse(y_true,y_pred):\n",
        "  return ((y_true - y_pred)**2).mean(axis=1)"
      ],
      "execution_count": 27,
      "outputs": []
    },
    {
      "cell_type": "code",
      "metadata": {
        "id": "OU1Gv3MMT2E2",
        "colab_type": "code",
        "colab": {}
      },
      "source": [
        "## predicted windows Validation - Non Anomalous\n",
        "pred_val_non_anom = model.predict(val_dataset_non_anom)\n",
        "pred_val_non_anom = pred_val_non_anom.reshape((pred_val_non_anom.shape[0], pred_val_non_anom.shape[1]))\n",
        "\n",
        "#Validation score - Non Anomalous \n",
        "val_anomaly_score_non_anom = calc_mse(val_arr_0, pred_val_non_anom)\n",
        "\n",
        "## predicted windows Validation - Anomalous\n",
        "pred_val_anom = model.predict(val_dataset_anom)\n",
        "pred_val_anom = pred_val_anom.reshape((pred_val_anom.shape[0], pred_val_anom.shape[1]))\n",
        "#Validation score - Anomalous \n",
        "val_anomaly_score_anom = calc_mse(val_arr_1, pred_val_anom)\n",
        "\n",
        "# anomaly score - Validation\n",
        "val_score = np.concatenate([val_anomaly_score_non_anom, val_anomaly_score_anom], axis=0)"
      ],
      "execution_count": 29,
      "outputs": []
    },
    {
      "cell_type": "code",
      "metadata": {
        "id": "pScvrEQ7GtZ2",
        "colab_type": "code",
        "colab": {
          "base_uri": "https://localhost:8080/",
          "height": 569
        },
        "outputId": "1d599483-7764-4fe5-983f-bedd59126dc3"
      },
      "source": [
        "for i, binwidth in enumerate([0.05]): # log_7\n",
        "      # Draw the plot\n",
        "      plt.hist(val_anomaly_score_non_anom, color = 'red', edgecolor = 'black', bins = int((5)/binwidth),range=(0,5), density=False)\n",
        "      plt.title(\"MSE for Non - Anomalous Windows\", fontsize=10)\n",
        "      plt.xlabel('MSE (bin size = 0.05)', fontsize=10)\n",
        "      plt.ylabel('no. of windows', fontsize=10)\n",
        "      # plt.savefig(\"Non_Anom_MSE_Model.pdf\")\n",
        "      plt.show()\n",
        "      plt.hist(val_anomaly_score_anom, color = 'yellow', edgecolor = 'black', bins = int((5)/binwidth),range=(0,5), density=False)\n",
        "      # , bins = int((5)/binwidth),range=(0,5)\n",
        "      plt.title(\"MSE for Anomalous Windows\", fontsize=10)\n",
        "      # # Title and labels\n",
        "      # plt.title('Histogram with Binwidth ='+ str(binwidth))\n",
        "      plt.xlabel('MSE (bin size = 0.05)', fontsize=10)\n",
        "      plt.ylabel('no. of windows', fontsize=10)\n",
        "      # plt.savefig(\"Anom_MSE_Model_2.pdf\")\n",
        "      plt.show()"
      ],
      "execution_count": 30,
      "outputs": [
        {
          "output_type": "display_data",
          "data": {
            "image/png": "[encoded data removed]",
            "text/plain": [
              "<Figure size 432x288 with 1 Axes>"
            ]
          },
          "metadata": {
            "tags": [],
            "needs_background": "light"
          }
        },
        {
          "output_type": "display_data",
          "data": {
            "image/png": "[encoded data removed]",
            "text/plain": [
              "<Figure size 432x288 with 1 Axes>"
            ]
          },
          "metadata": {
            "tags": [],
            "needs_background": "light"
          }
        }
      ]
    },
    {
      "cell_type": "code",
      "metadata": {
        "id": "q-nrX3yK4ULV",
        "colab_type": "code",
        "colab": {
          "base_uri": "https://localhost:8080/",
          "height": 282
        },
        "outputId": "3039acf6-e801-42e5-9a98-8dc91dface60"
      },
      "source": [
        "sns.distplot(val_anomaly_score_non_anom, bins=100)"
      ],
      "execution_count": 31,
      "outputs": [
        {
          "output_type": "execute_result",
          "data": {
            "text/plain": [
              "<matplotlib.axes._subplots.AxesSubplot at 0x7fcd144fa4a8>"
            ]
          },
          "metadata": {
            "tags": []
          },
          "execution_count": 31
        },
        {
          "output_type": "display_data",
          "data": {
            "image/png": "[encoded data removed]",
            "text/plain": [
              "<Figure size 432x288 with 1 Axes>"
            ]
          },
          "metadata": {
            "tags": [],
            "needs_background": "light"
          }
        }
      ]
    },
    {
      "cell_type": "code",
      "metadata": {
        "id": "cV1rH5PE5M7t",
        "colab_type": "code",
        "colab": {
          "base_uri": "https://localhost:8080/",
          "height": 283
        },
        "outputId": "e81ee33c-e9c2-4ef4-f85d-6373fc3b367b"
      },
      "source": [
        "sns.distplot(val_anomaly_score_anom, bins = 100)"
      ],
      "execution_count": 32,
      "outputs": [
        {
          "output_type": "execute_result",
          "data": {
            "text/plain": [
              "<matplotlib.axes._subplots.AxesSubplot at 0x7fcd14447dd8>"
            ]
          },
          "metadata": {
            "tags": []
          },
          "execution_count": 32
        },
        {
          "output_type": "display_data",
          "data": {
            "image/png": "[encoded data removed]",
            "text/plain": [
              "<Figure size 432x288 with 1 Axes>"
            ]
          },
          "metadata": {
            "tags": [],
            "needs_background": "light"
          }
        }
      ]
    },
    {
      "cell_type": "code",
      "metadata": {
        "id": "2pc_2fDpaqiC",
        "colab_type": "code",
        "colab": {}
      },
      "source": [
        "## predicted windows Test - Non Anomalous\n",
        "pred_test_non_anom = model.predict(test_dataset_non_anom)\n",
        "pred_test_non_anom = pred_test_non_anom.reshape((pred_test_non_anom.shape[0], pred_test_non_anom.shape[1]))\n",
        "# Test score - Non Anomalous \n",
        "test_anomaly_score_non_anom = calc_mse(test_arr_0, pred_test_non_anom)\n",
        "\n",
        "## predicted windows Test - Anomalous\n",
        "pred_test_anom = model.predict(test_dataset_anom)\n",
        "pred_test_anom = pred_test_anom.reshape((pred_test_anom.shape[0], pred_test_anom.shape[1]))\n",
        "# Test score - Anomalous \n",
        "test_anomaly_score_anom = calc_mse(test_arr_1, pred_test_anom)\n",
        "\n",
        "# anomaly score - Test\n",
        "test_score = np.concatenate([test_anomaly_score_non_anom, test_anomaly_score_anom], axis=0)"
      ],
      "execution_count": 34,
      "outputs": []
    },
    {
      "cell_type": "code",
      "metadata": {
        "id": "j1Q4OMs5cQPC",
        "colab_type": "code",
        "colab": {}
      },
      "source": [
        "# set threshold on the validation data \n",
        "threshold = 0.2"
      ],
      "execution_count": 35,
      "outputs": []
    },
    {
      "cell_type": "code",
      "metadata": {
        "id": "jCsoydRHdFHJ",
        "colab_type": "code",
        "colab": {
          "base_uri": "https://localhost:8080/",
          "height": 34
        },
        "outputId": "a672c093-8758-4743-d3cf-8eef9bd052b9"
      },
      "source": [
        "print(\"threshold : \", threshold)\n",
        "# convet scores to label using the calculated labels \n",
        "val_label_pred = (val_score > threshold).astype('int')"
      ],
      "execution_count": 36,
      "outputs": [
        {
          "output_type": "stream",
          "text": [
            "threshold :  0.2\n"
          ],
          "name": "stdout"
        }
      ]
    },
    {
      "cell_type": "code",
      "metadata": {
        "id": "7_v0x13tdNye",
        "colab_type": "code",
        "colab": {
          "base_uri": "https://localhost:8080/",
          "height": 102
        },
        "outputId": "5f99f431-e962-4dcd-e9db-ec89c7ec8ac4"
      },
      "source": [
        "# evaluate and print the results on Validation data \n",
        "print(\"\\nOn Validation Data:\")\n",
        "tn, fp, fn, tp = metrics.confusion_matrix(anomaly_label_val, val_label_pred).ravel()\n",
        "p = tp/(tp+fp)\n",
        "r = tp/(tp+fn)\n",
        "f1 = 2*p*r/(p+r)\n",
        "print(\"Precision : {}\".format(p))\n",
        "print(\"Recall : {}\".format(r))\n",
        "print(\"F1 score : {}\".format(f1))"
      ],
      "execution_count": 37,
      "outputs": [
        {
          "output_type": "stream",
          "text": [
            "\n",
            "On Validation Data:\n",
            "Precision : 0.921311475409836\n",
            "Recall : 0.06128680479825518\n",
            "F1 score : 0.1149284253578732\n"
          ],
          "name": "stdout"
        }
      ]
    },
    {
      "cell_type": "code",
      "metadata": {
        "id": "aHtkVFWKd-x5",
        "colab_type": "code",
        "colab": {
          "base_uri": "https://localhost:8080/",
          "height": 34
        },
        "outputId": "2d0c20ae-f873-419a-b473-0a14788f7ecf"
      },
      "source": [
        "print(\"threshold : \", threshold)\n",
        "# convet scores to label using the calculated labels \n",
        "test_label_pred = (test_score > threshold).astype('int')"
      ],
      "execution_count": 40,
      "outputs": [
        {
          "output_type": "stream",
          "text": [
            "threshold :  0.2\n"
          ],
          "name": "stdout"
        }
      ]
    },
    {
      "cell_type": "code",
      "metadata": {
        "id": "Vdhv8pdFeEKI",
        "colab_type": "code",
        "colab": {
          "base_uri": "https://localhost:8080/",
          "height": 102
        },
        "outputId": "9ab20f87-6f39-43f1-e6ee-9e3dee16209a"
      },
      "source": [
        "# evaluate and print the results on Validation data \n",
        "print(\"\\nOn Test Data:\")\n",
        "tn, fp, fn, tp = metrics.confusion_matrix(anomaly_label_test, test_label_pred).ravel()\n",
        "p = tp/(tp+fp)\n",
        "r = tp/(tp+fn)\n",
        "f1 = 2*p*r/(p+r)\n",
        "print(\"Precision : {}\".format(p))\n",
        "print(\"Recall : {}\".format(r))\n",
        "print(\"F1 score : {}\".format(f1))"
      ],
      "execution_count": 41,
      "outputs": [
        {
          "output_type": "stream",
          "text": [
            "\n",
            "On Test Data:\n",
            "Precision : 0.9740018570102136\n",
            "Recall : 0.06538677304743502\n",
            "F1 score : 0.1225467289719626\n"
          ],
          "name": "stdout"
        }
      ]
    }
  ]
}