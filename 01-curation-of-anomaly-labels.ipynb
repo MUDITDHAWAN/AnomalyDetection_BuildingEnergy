{
 "cells": [
  {
   "cell_type": "markdown",
   "metadata": {},
   "source": [
    "# Aggregate anomaly labels from top-5 solutions from the ASHRAE competition"
   ]
  },
  {
   "cell_type": "code",
   "execution_count": 9,
   "metadata": {
    "ExecuteTime": {
     "end_time": "2020-08-10T10:11:02.528444Z",
     "start_time": "2020-08-10T10:11:02.525443Z"
    }
   },
   "outputs": [],
   "source": [
    "import pandas as pd"
   ]
  },
  {
   "cell_type": "markdown",
   "metadata": {},
   "source": [
    "#### 1. Process the outlier lables from first ranked solution \n",
    "- The file sol1_bad_meter_readings.csv contains the outliers (is_bad_meter_reading == 1) "
   ]
  },
  {
   "cell_type": "code",
   "execution_count": 10,
   "metadata": {
    "ExecuteTime": {
     "end_time": "2020-08-10T10:11:03.614448Z",
     "start_time": "2020-08-10T10:11:02.530448Z"
    }
   },
   "outputs": [
    {
     "name": "stdout",
     "output_type": "stream",
     "text": [
      "<class 'pandas.core.frame.DataFrame'>\n",
      "RangeIndex: 20216100 entries, 0 to 20216099\n",
      "Data columns (total 1 columns):\n",
      "is_bad_meter_reading    int64\n",
      "dtypes: int64(1)\n",
      "memory usage: 154.2 MB\n",
      "None\n"
     ]
    },
    {
     "data": {
      "text/plain": [
       "0    18901626\n",
       "1     1314474\n",
       "Name: rank1_outlier, dtype: int64"
      ]
     },
     "execution_count": 10,
     "metadata": {},
     "output_type": "execute_result"
    }
   ],
   "source": [
    "rank1 = pd.read_csv('data/rank1_bad_meter_readings.csv')\n",
    "print(rank1.info())\n",
    "rank1.columns = ['rank1_outlier']\n",
    "rank1.rank1_outlier.value_counts()"
   ]
  },
  {
   "cell_type": "markdown",
   "metadata": {
    "ExecuteTime": {
     "end_time": "2020-08-10T09:22:59.121047Z",
     "start_time": "2020-08-10T09:22:59.117047Z"
    }
   },
   "source": [
    "#### 2. Process the outlier lables from the second ranked solution \n",
    "- The file sol2_rows_to_drop.csv contains the index to the outlier rows"
   ]
  },
  {
   "cell_type": "code",
   "execution_count": 11,
   "metadata": {
    "ExecuteTime": {
     "end_time": "2020-08-10T10:11:04.842447Z",
     "start_time": "2020-08-10T10:11:03.616447Z"
    }
   },
   "outputs": [
    {
     "name": "stdout",
     "output_type": "stream",
     "text": [
      "<class 'pandas.core.frame.DataFrame'>\n",
      "RangeIndex: 986260 entries, 0 to 986259\n",
      "Data columns (total 1 columns):\n",
      "rank2_outlier    986260 non-null int64\n",
      "dtypes: int64(1)\n",
      "memory usage: 7.5 MB\n",
      "None\n"
     ]
    },
    {
     "data": {
      "text/plain": [
       "0    19229840\n",
       "1      986260\n",
       "Name: rank2_outlier, dtype: int64"
      ]
     },
     "execution_count": 11,
     "metadata": {},
     "output_type": "execute_result"
    }
   ],
   "source": [
    "rank2_drop = pd.read_csv('data/rank2_rows_to_drop.csv', header=None, names = ['rank2_outlier'])\n",
    "print(rank2_drop.info())\n",
    "\n",
    "rank2 = rank1.copy()\n",
    "rank2.columns = ['rank2_outlier']\n",
    "rank2.rank2_outlier = 0\n",
    "rank2.iloc[rank2_drop.rank2_outlier] = 1\n",
    "rank2.rank2_outlier.value_counts()"
   ]
  },
  {
   "cell_type": "markdown",
   "metadata": {
    "ExecuteTime": {
     "end_time": "2020-08-10T09:28:51.604287Z",
     "start_time": "2020-08-10T09:28:51.591321Z"
    }
   },
   "source": [
    "#### 3. Process the outlier lables from third ranked solution "
   ]
  },
  {
   "cell_type": "code",
   "execution_count": 16,
   "metadata": {
    "ExecuteTime": {
     "end_time": "2020-08-10T10:14:17.337385Z",
     "start_time": "2020-08-10T10:14:16.396422Z"
    }
   },
   "outputs": [
    {
     "name": "stdout",
     "output_type": "stream",
     "text": [
      "<class 'pandas.core.frame.DataFrame'>\n",
      "RangeIndex: 525023 entries, 0 to 525022\n",
      "Data columns (total 1 columns):\n",
      "rank3_outlier    525023 non-null int64\n",
      "dtypes: int64(1)\n",
      "memory usage: 4.0 MB\n",
      "None\n"
     ]
    },
    {
     "data": {
      "text/plain": [
       "0    19691077\n",
       "1      525023\n",
       "Name: rank3_outlier, dtype: int64"
      ]
     },
     "execution_count": 16,
     "metadata": {},
     "output_type": "execute_result"
    }
   ],
   "source": [
    "# train1 = pd.read_feather('./data/rank3_train_cleanup_001.feather')\n",
    "# print(train1.info())\n",
    "rank3_drop = pd.read_csv('./data/rank3_rows_to_drop.csv', header=None, names = ['rank3_outlier'])\n",
    "print(rank3_drop.info())\n",
    "\n",
    "rank3 = rank1.copy()\n",
    "rank3.columns = ['rank3_outlier']\n",
    "rank3.rank3_outlier = 0\n",
    "rank3.iloc[rank3_drop.rank3_outlier] = 1\n",
    "rank3.rank3_outlier.value_counts()"
   ]
  },
  {
   "cell_type": "markdown",
   "metadata": {},
   "source": [
    "#### 4. Process the outlier lables from fourth ranked solution "
   ]
  },
  {
   "cell_type": "code",
   "execution_count": 39,
   "metadata": {
    "ExecuteTime": {
     "end_time": "2020-08-10T13:32:11.706658Z",
     "start_time": "2020-08-10T13:31:30.378639Z"
    }
   },
   "outputs": [
    {
     "name": "stdout",
     "output_type": "stream",
     "text": [
      "<class 'pandas.core.frame.DataFrame'>\n",
      "RangeIndex: 20216100 entries, 0 to 20216099\n",
      "Data columns (total 1 columns):\n",
      "exception    int64\n",
      "dtypes: int64(1)\n",
      "memory usage: 154.2 MB\n",
      "None\n"
     ]
    },
    {
     "data": {
      "text/plain": [
       " 0    16258788\n",
       "-1     1923669\n",
       "-3     1051924\n",
       " 3      452505\n",
       " 1      365029\n",
       "-2       85465\n",
       " 2       78720\n",
       "Name: exception, dtype: int64"
      ]
     },
     "execution_count": 39,
     "metadata": {},
     "output_type": "execute_result"
    }
   ],
   "source": [
    "rank4_exp = pd.read_pickle('./data/rank4_train_exception.pkl')\n",
    "rank4_exp.to_csv('./data/rank4_train_exception.csv')\n",
    "print(rank4_exp.info())\n",
    "rank4_exp.exception.value_counts()"
   ]
  },
  {
   "cell_type": "code",
   "execution_count": 40,
   "metadata": {
    "ExecuteTime": {
     "end_time": "2020-08-10T13:34:35.490564Z",
     "start_time": "2020-08-10T13:34:32.812563Z"
    }
   },
   "outputs": [
    {
     "name": "stdout",
     "output_type": "stream",
     "text": [
      "<class 'pandas.core.frame.DataFrame'>\n",
      "RangeIndex: 20216100 entries, 0 to 20216099\n",
      "Data columns (total 33 columns):\n",
      "building_id                    int16\n",
      "meter                          int8\n",
      "timestamp                      datetime64[ns]\n",
      "meter_reading                  float64\n",
      "DT_M                           int8\n",
      "DT_W                           int8\n",
      "DT_D                           int16\n",
      "DT_hour                        int8\n",
      "DT_day_week                    int8\n",
      "DT_day_month                   int8\n",
      "DT_week_month                  int8\n",
      "site_id                        int8\n",
      "primary_use                    int8\n",
      "square_feet                    int32\n",
      "year_built                     float16\n",
      "floor_count                    float16\n",
      "air_temperature                float64\n",
      "cloud_coverage                 float16\n",
      "dew_temperature                float64\n",
      "precip_depth_1_hr              float16\n",
      "sea_level_pressure             float64\n",
      "wind_direction                 float16\n",
      "wind_speed                     float64\n",
      "offset                         float64\n",
      "air_temperature_min_lag3       float16\n",
      "air_temperature_min_lag18      float16\n",
      "air_temperature_std_lag18      float16\n",
      "cloud_coverage_median_lag18    float16\n",
      "exception                      int64\n",
      "site_id_uid_enc                int64\n",
      "g_meter_site_id_uid_enc        int8\n",
      "building_median                float16\n",
      "building_min                   float16\n",
      "dtypes: datetime64[ns](1), float16(11), float64(6), int16(2), int32(1), int64(2), int8(10)\n",
      "memory usage: 2.1 GB\n",
      "None\n"
     ]
    },
    {
     "data": {
      "text/plain": [
       " 0    16255437\n",
       "-1     1923669\n",
       "-3     1051924\n",
       " 3      452505\n",
       " 1      365029\n",
       "-2       85465\n",
       " 2       78720\n",
       " 4        3351\n",
       "Name: exception, dtype: int64"
      ]
     },
     "execution_count": 40,
     "metadata": {},
     "output_type": "execute_result"
    }
   ],
   "source": [
    "rank4_train = pd.read_pickle('./data/rank4_train_df.pkl')\n",
    "print(rank4_train.info())\n",
    "rank4_train.exception.value_counts()"
   ]
  },
  {
   "cell_type": "code",
   "execution_count": 47,
   "metadata": {
    "ExecuteTime": {
     "end_time": "2020-08-10T13:47:37.823852Z",
     "start_time": "2020-08-10T13:47:33.849824Z"
    }
   },
   "outputs": [
    {
     "name": "stdout",
     "output_type": "stream",
     "text": [
      "(20216100, 33) (19857254, 33) 358846\n"
     ]
    },
    {
     "data": {
      "text/plain": [
       " 0    16255437\n",
       "-1     1923669\n",
       "-3     1051924\n",
       " 1      359291\n",
       " 3      102748\n",
       "-2       85465\n",
       " 2       78720\n",
       "Name: exception, dtype: int64"
      ]
     },
     "execution_count": 47,
     "metadata": {},
     "output_type": "execute_result"
    }
   ],
   "source": [
    "# https://github.com/buds-lab/ashrae-great-energy-predictor-3-solution-analysis/blob/master/solutions/rank-4/model1/fork-of-as-2kfold-model6-xgb-fr7d12-fold0.ipynb\n",
    "tr_x = rank4_train.copy()\n",
    "tr_x = tr_x[(((tr_x.site_id == 0) & (tr_x.exception != 1) & (tr_x.exception != 3)) | (tr_x.site_id != 0)) & (tr_x.exception != 4)]\n",
    "print(rank4_train.shape, tr_x.shape, rank4_train.shape[0]-tr_x.shape[0])\n",
    "tr_x.exception.value_counts()"
   ]
  },
  {
   "cell_type": "code",
   "execution_count": 48,
   "metadata": {
    "ExecuteTime": {
     "end_time": "2020-08-10T13:47:45.614376Z",
     "start_time": "2020-08-10T13:47:42.097414Z"
    }
   },
   "outputs": [
    {
     "name": "stdout",
     "output_type": "stream",
     "text": [
      "(20216100, 33) (19395215, 33) 820885\n"
     ]
    },
    {
     "data": {
      "text/plain": [
       " 0    16255437\n",
       "-1     1923669\n",
       "-3     1051924\n",
       "-2       85465\n",
       " 2       78720\n",
       "Name: exception, dtype: int64"
      ]
     },
     "execution_count": 48,
     "metadata": {},
     "output_type": "execute_result"
    }
   ],
   "source": [
    "#https://github.com/buds-lab/ashrae-great-energy-predictor-3-solution-analysis/blob/master/solutions/rank-4/model2/as-meter2-no-1099-xgb-meter0-fold0.ipynb\n",
    "tr_x = rank4_train.copy()    \n",
    "tr_x = tr_x[(tr_x.exception != 3) & (tr_x.exception != 1) & (tr_x.exception != 4)]\n",
    "print(rank4_train.shape, tr_x.shape, rank4_train.shape[0]-tr_x.shape[0])\n",
    "\n",
    "tr_x.exception.value_counts()"
   ]
  },
  {
   "cell_type": "code",
   "execution_count": 50,
   "metadata": {
    "ExecuteTime": {
     "end_time": "2020-08-10T13:50:22.748542Z",
     "start_time": "2020-08-10T13:50:13.842580Z"
    }
   },
   "outputs": [
    {
     "name": "stdout",
     "output_type": "stream",
     "text": [
      "(20216100, 4) (19852422, 4) 363678\n"
     ]
    }
   ],
   "source": [
    "# https://github.com/buds-lab/ashrae-great-energy-predictor-3-solution-analysis/blob/master/solutions/rank-4/model3/ashrae-kfold-lightgbm-without-leak-1-08.ipynb\n",
    "train = pd.read_csv('./data/train.csv')\n",
    "\n",
    "train_df = train.copy()\n",
    "train_df = train_df.copy()[train_df['building_id'] != 1099]\n",
    "train_df = train_df.query('not (building_id <= 104 & meter == 0 & timestamp <= \"2016-05-20\")')\n",
    "\n",
    "print(train.shape, train_df.shape, train.shape[0] - train_df.shape[0])"
   ]
  },
  {
   "cell_type": "code",
   "execution_count": 62,
   "metadata": {
    "ExecuteTime": {
     "end_time": "2020-08-10T14:01:41.542204Z",
     "start_time": "2020-08-10T14:01:40.701215Z"
    }
   },
   "outputs": [
    {
     "data": {
      "text/plain": [
       "0    19395215\n",
       "1      820885\n",
       "Name: rank4_outlier, dtype: int64"
      ]
     },
     "execution_count": 62,
     "metadata": {},
     "output_type": "execute_result"
    }
   ],
   "source": [
    "rank4 = rank1.copy()\n",
    "rank4.columns = ['rank4_outlier']\n",
    "rank4.rank4_outlier = 1\n",
    "rank4.iloc[tr_x.index] = 0\n",
    "rank4.rank4_outlier.value_counts()"
   ]
  },
  {
   "cell_type": "markdown",
   "metadata": {},
   "source": [
    "#### 5. Process the outlier lables from fifth ranked solution "
   ]
  },
  {
   "cell_type": "code",
   "execution_count": 53,
   "metadata": {
    "ExecuteTime": {
     "end_time": "2020-08-10T13:58:19.397545Z",
     "start_time": "2020-08-10T13:58:19.395546Z"
    }
   },
   "outputs": [],
   "source": [
    "##TODO.."
   ]
  },
  {
   "cell_type": "markdown",
   "metadata": {},
   "source": [
    "#### Merge all anomaly labels"
   ]
  },
  {
   "cell_type": "code",
   "execution_count": 63,
   "metadata": {
    "ExecuteTime": {
     "end_time": "2020-08-10T14:01:48.223060Z",
     "start_time": "2020-08-10T14:01:45.079116Z"
    }
   },
   "outputs": [
    {
     "name": "stderr",
     "output_type": "stream",
     "text": [
      "C:\\Users\\sbbpan\\AppData\\Local\\Continuum\\anaconda3\\lib\\site-packages\\ipykernel_launcher.py:1: FutureWarning: Sorting because non-concatenation axis is not aligned. A future version\n",
      "of pandas will change to not sort by default.\n",
      "\n",
      "To accept the future behavior, pass 'sort=False'.\n",
      "\n",
      "To retain the current behavior and silence the warning, pass 'sort=True'.\n",
      "\n",
      "  \"\"\"Entry point for launching an IPython kernel.\n"
     ]
    },
    {
     "name": "stdout",
     "output_type": "stream",
     "text": [
      "<class 'pandas.core.frame.DataFrame'>\n",
      "Int64Index: 80864400 entries, 0 to 20216099\n",
      "Data columns (total 4 columns):\n",
      "rank1_outlier    float64\n",
      "rank2_outlier    float64\n",
      "rank3_outlier    float64\n",
      "rank4_outlier    float64\n",
      "dtypes: float64(4)\n",
      "memory usage: 3.0 GB\n",
      "None\n"
     ]
    },
    {
     "data": {
      "text/html": [
       "<div>\n",
       "<style scoped>\n",
       "    .dataframe tbody tr th:only-of-type {\n",
       "        vertical-align: middle;\n",
       "    }\n",
       "\n",
       "    .dataframe tbody tr th {\n",
       "        vertical-align: top;\n",
       "    }\n",
       "\n",
       "    .dataframe thead th {\n",
       "        text-align: right;\n",
       "    }\n",
       "</style>\n",
       "<table border=\"1\" class=\"dataframe\">\n",
       "  <thead>\n",
       "    <tr style=\"text-align: right;\">\n",
       "      <th></th>\n",
       "      <th>rank1_outlier</th>\n",
       "      <th>rank2_outlier</th>\n",
       "      <th>rank3_outlier</th>\n",
       "      <th>rank4_outlier</th>\n",
       "    </tr>\n",
       "  </thead>\n",
       "  <tbody>\n",
       "    <tr>\n",
       "      <td>0</td>\n",
       "      <td>1.0</td>\n",
       "      <td>NaN</td>\n",
       "      <td>NaN</td>\n",
       "      <td>NaN</td>\n",
       "    </tr>\n",
       "    <tr>\n",
       "      <td>1</td>\n",
       "      <td>1.0</td>\n",
       "      <td>NaN</td>\n",
       "      <td>NaN</td>\n",
       "      <td>NaN</td>\n",
       "    </tr>\n",
       "    <tr>\n",
       "      <td>2</td>\n",
       "      <td>1.0</td>\n",
       "      <td>NaN</td>\n",
       "      <td>NaN</td>\n",
       "      <td>NaN</td>\n",
       "    </tr>\n",
       "    <tr>\n",
       "      <td>3</td>\n",
       "      <td>1.0</td>\n",
       "      <td>NaN</td>\n",
       "      <td>NaN</td>\n",
       "      <td>NaN</td>\n",
       "    </tr>\n",
       "    <tr>\n",
       "      <td>4</td>\n",
       "      <td>1.0</td>\n",
       "      <td>NaN</td>\n",
       "      <td>NaN</td>\n",
       "      <td>NaN</td>\n",
       "    </tr>\n",
       "  </tbody>\n",
       "</table>\n",
       "</div>"
      ],
      "text/plain": [
       "   rank1_outlier  rank2_outlier  rank3_outlier  rank4_outlier\n",
       "0            1.0            NaN            NaN            NaN\n",
       "1            1.0            NaN            NaN            NaN\n",
       "2            1.0            NaN            NaN            NaN\n",
       "3            1.0            NaN            NaN            NaN\n",
       "4            1.0            NaN            NaN            NaN"
      ]
     },
     "execution_count": 63,
     "metadata": {},
     "output_type": "execute_result"
    }
   ],
   "source": [
    "df_anomaly = pd.concat([rank1, rank2, rank3, rank4])\n",
    "print(df_anomaly.info())\n",
    "df_anomaly.head()"
   ]
  },
  {
   "cell_type": "code",
   "execution_count": 64,
   "metadata": {
    "ExecuteTime": {
     "end_time": "2020-08-10T14:02:22.845450Z",
     "start_time": "2020-08-10T14:02:17.258484Z"
    }
   },
   "outputs": [
    {
     "data": {
      "text/html": [
       "<div>\n",
       "<style scoped>\n",
       "    .dataframe tbody tr th:only-of-type {\n",
       "        vertical-align: middle;\n",
       "    }\n",
       "\n",
       "    .dataframe tbody tr th {\n",
       "        vertical-align: top;\n",
       "    }\n",
       "\n",
       "    .dataframe thead th {\n",
       "        text-align: right;\n",
       "    }\n",
       "</style>\n",
       "<table border=\"1\" class=\"dataframe\">\n",
       "  <thead>\n",
       "    <tr style=\"text-align: right;\">\n",
       "      <th></th>\n",
       "      <th>count</th>\n",
       "      <th>mean</th>\n",
       "      <th>std</th>\n",
       "      <th>min</th>\n",
       "      <th>25%</th>\n",
       "      <th>50%</th>\n",
       "      <th>75%</th>\n",
       "      <th>max</th>\n",
       "    </tr>\n",
       "  </thead>\n",
       "  <tbody>\n",
       "    <tr>\n",
       "      <td>rank1_outlier</td>\n",
       "      <td>20216100.0</td>\n",
       "      <td>0.065021</td>\n",
       "      <td>0.246563</td>\n",
       "      <td>0.0</td>\n",
       "      <td>0.0</td>\n",
       "      <td>0.0</td>\n",
       "      <td>0.0</td>\n",
       "      <td>1.0</td>\n",
       "    </tr>\n",
       "    <tr>\n",
       "      <td>rank2_outlier</td>\n",
       "      <td>20216100.0</td>\n",
       "      <td>0.048786</td>\n",
       "      <td>0.215420</td>\n",
       "      <td>0.0</td>\n",
       "      <td>0.0</td>\n",
       "      <td>0.0</td>\n",
       "      <td>0.0</td>\n",
       "      <td>1.0</td>\n",
       "    </tr>\n",
       "    <tr>\n",
       "      <td>rank3_outlier</td>\n",
       "      <td>20216100.0</td>\n",
       "      <td>0.025971</td>\n",
       "      <td>0.159047</td>\n",
       "      <td>0.0</td>\n",
       "      <td>0.0</td>\n",
       "      <td>0.0</td>\n",
       "      <td>0.0</td>\n",
       "      <td>1.0</td>\n",
       "    </tr>\n",
       "    <tr>\n",
       "      <td>rank4_outlier</td>\n",
       "      <td>20216100.0</td>\n",
       "      <td>0.040606</td>\n",
       "      <td>0.197375</td>\n",
       "      <td>0.0</td>\n",
       "      <td>0.0</td>\n",
       "      <td>0.0</td>\n",
       "      <td>0.0</td>\n",
       "      <td>1.0</td>\n",
       "    </tr>\n",
       "  </tbody>\n",
       "</table>\n",
       "</div>"
      ],
      "text/plain": [
       "                    count      mean       std  min  25%  50%  75%  max\n",
       "rank1_outlier  20216100.0  0.065021  0.246563  0.0  0.0  0.0  0.0  1.0\n",
       "rank2_outlier  20216100.0  0.048786  0.215420  0.0  0.0  0.0  0.0  1.0\n",
       "rank3_outlier  20216100.0  0.025971  0.159047  0.0  0.0  0.0  0.0  1.0\n",
       "rank4_outlier  20216100.0  0.040606  0.197375  0.0  0.0  0.0  0.0  1.0"
      ]
     },
     "execution_count": 64,
     "metadata": {},
     "output_type": "execute_result"
    }
   ],
   "source": [
    "df_anomaly.describe().T"
   ]
  },
  {
   "cell_type": "code",
   "execution_count": 65,
   "metadata": {
    "ExecuteTime": {
     "end_time": "2020-08-10T14:06:00.572175Z",
     "start_time": "2020-08-10T14:02:40.396319Z"
    }
   },
   "outputs": [],
   "source": [
    "df_anomaly.to_csv('./data/anomaly_labels.csv', index=False)"
   ]
  }
 ],
 "metadata": {
  "kernelspec": {
   "display_name": "Python 3",
   "language": "python",
   "name": "python3"
  },
  "language_info": {
   "codemirror_mode": {
    "name": "ipython",
    "version": 3
   },
   "file_extension": ".py",
   "mimetype": "text/x-python",
   "name": "python",
   "nbconvert_exporter": "python",
   "pygments_lexer": "ipython3",
   "version": "3.7.4"
  }
 },
 "nbformat": 4,
 "nbformat_minor": 2
}
