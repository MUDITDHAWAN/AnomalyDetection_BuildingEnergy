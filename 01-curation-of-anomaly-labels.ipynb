{
 "cells": [
  {
   "cell_type": "markdown",
   "metadata": {},
   "source": [
    "# Aggregate anomaly labels from top-5 solutions from the ASHRAE competition"
   ]
  },
  {
   "cell_type": "code",
   "execution_count": 1,
   "metadata": {
    "ExecuteTime": {
     "end_time": "2020-08-11T18:07:02.960644Z",
     "start_time": "2020-08-11T18:07:01.150183Z"
    }
   },
   "outputs": [],
   "source": [
    "import pandas as pd"
   ]
  },
  {
   "cell_type": "markdown",
   "metadata": {},
   "source": [
    "#### 1. Process the outlier lables from first ranked solution \n",
    "- The file rank1_bad_meter_readings.csv contains the outliers (is_bad_meter_reading == 1) "
   ]
  },
  {
   "cell_type": "code",
   "execution_count": 2,
   "metadata": {
    "ExecuteTime": {
     "end_time": "2020-08-11T18:07:04.007636Z",
     "start_time": "2020-08-11T18:07:02.961621Z"
    }
   },
   "outputs": [
    {
     "name": "stdout",
     "output_type": "stream",
     "text": [
      "<class 'pandas.core.frame.DataFrame'>\n",
      "RangeIndex: 20216100 entries, 0 to 20216099\n",
      "Data columns (total 1 columns):\n",
      "is_bad_meter_reading    int64\n",
      "dtypes: int64(1)\n",
      "memory usage: 154.2 MB\n",
      "None\n"
     ]
    },
    {
     "data": {
      "text/plain": [
       "0    18901626\n",
       "1     1314474\n",
       "Name: rank1_outlier, dtype: int64"
      ]
     },
     "execution_count": 2,
     "metadata": {},
     "output_type": "execute_result"
    }
   ],
   "source": [
    "rank1 = pd.read_csv('data/rank1_bad_meter_readings.csv')\n",
    "print(rank1.info())\n",
    "rank1.columns = ['rank1_outlier']\n",
    "rank1.rank1_outlier.value_counts()"
   ]
  },
  {
   "cell_type": "markdown",
   "metadata": {
    "ExecuteTime": {
     "end_time": "2020-08-10T09:22:59.121047Z",
     "start_time": "2020-08-10T09:22:59.117047Z"
    }
   },
   "source": [
    "#### 2. Process the outlier lables from the second ranked solution \n",
    "- The file rank2_rows_to_drop.csv contains the index to the outlier rows"
   ]
  },
  {
   "cell_type": "code",
   "execution_count": 3,
   "metadata": {
    "ExecuteTime": {
     "end_time": "2020-08-11T18:07:04.965623Z",
     "start_time": "2020-08-11T18:07:04.010623Z"
    }
   },
   "outputs": [
    {
     "name": "stdout",
     "output_type": "stream",
     "text": [
      "<class 'pandas.core.frame.DataFrame'>\n",
      "RangeIndex: 986260 entries, 0 to 986259\n",
      "Data columns (total 1 columns):\n",
      "rank2_outlier    986260 non-null int64\n",
      "dtypes: int64(1)\n",
      "memory usage: 7.5 MB\n",
      "None\n"
     ]
    },
    {
     "data": {
      "text/plain": [
       "0    19229840\n",
       "1      986260\n",
       "Name: rank2_outlier, dtype: int64"
      ]
     },
     "execution_count": 3,
     "metadata": {},
     "output_type": "execute_result"
    }
   ],
   "source": [
    "rank2_drop = pd.read_csv('data/rank2_rows_to_drop.csv', header=None, names = ['rank2_outlier'])\n",
    "print(rank2_drop.info())\n",
    "\n",
    "rank2 = rank1.copy()\n",
    "rank2.columns = ['rank2_outlier']\n",
    "rank2.rank2_outlier = 0\n",
    "rank2.iloc[rank2_drop.rank2_outlier] = 1\n",
    "rank2.rank2_outlier.value_counts()"
   ]
  },
  {
   "cell_type": "markdown",
   "metadata": {
    "ExecuteTime": {
     "end_time": "2020-08-10T09:28:51.604287Z",
     "start_time": "2020-08-10T09:28:51.591321Z"
    }
   },
   "source": [
    "#### 3. Process the outlier lables from third ranked solution \n",
    "- The file rank3_rows_to_drop.csv contains the index to the outlier rows"
   ]
  },
  {
   "cell_type": "code",
   "execution_count": 4,
   "metadata": {
    "ExecuteTime": {
     "end_time": "2020-08-11T18:07:05.829662Z",
     "start_time": "2020-08-11T18:07:04.967622Z"
    }
   },
   "outputs": [
    {
     "name": "stdout",
     "output_type": "stream",
     "text": [
      "<class 'pandas.core.frame.DataFrame'>\n",
      "RangeIndex: 525023 entries, 0 to 525022\n",
      "Data columns (total 1 columns):\n",
      "rank3_outlier    525023 non-null int64\n",
      "dtypes: int64(1)\n",
      "memory usage: 4.0 MB\n",
      "None\n"
     ]
    },
    {
     "data": {
      "text/plain": [
       "0    19691077\n",
       "1      525023\n",
       "Name: rank3_outlier, dtype: int64"
      ]
     },
     "execution_count": 4,
     "metadata": {},
     "output_type": "execute_result"
    }
   ],
   "source": [
    "# train1 = pd.read_feather('./data/rank3_train_cleanup_001.feather')\n",
    "# print(train1.info())\n",
    "rank3_drop = pd.read_csv('./data/rank3_rows_to_drop.csv', header=None, names = ['rank3_outlier'])\n",
    "print(rank3_drop.info())\n",
    "\n",
    "rank3 = rank1.copy()\n",
    "rank3.columns = ['rank3_outlier']\n",
    "rank3.rank3_outlier = 0\n",
    "rank3.iloc[rank3_drop.rank3_outlier] = 1\n",
    "rank3.rank3_outlier.value_counts()"
   ]
  },
  {
   "cell_type": "markdown",
   "metadata": {},
   "source": [
    "#### 4. Process the outlier lables from fourth ranked solution "
   ]
  },
  {
   "cell_type": "code",
   "execution_count": 5,
   "metadata": {
    "ExecuteTime": {
     "end_time": "2020-08-11T18:07:05.835622Z",
     "start_time": "2020-08-11T18:07:05.831625Z"
    }
   },
   "outputs": [],
   "source": [
    "# # https://github.com/buds-lab/ashrae-great-energy-predictor-3-solution-analysis/blob/master/solutions/rank-4/exception_label/fork-of-ashrae-eda-exception-label5.ipynb\n",
    "# rank4_exp = pd.read_pickle('./data/rank4_train_exception.pkl')\n",
    "# rank4_exp.to_csv('./data/rank4_train_exception.csv', index=False)\n",
    "# print(rank4_exp.info())\n",
    "# rank4_exp.exception.value_counts()"
   ]
  },
  {
   "cell_type": "code",
   "execution_count": 6,
   "metadata": {
    "ExecuteTime": {
     "end_time": "2020-08-11T18:07:05.841633Z",
     "start_time": "2020-08-11T18:07:05.837622Z"
    }
   },
   "outputs": [],
   "source": [
    "# rank4_train = pd.read_pickle('./data/rank4_train_df.pkl')\n",
    "# #print(rank4_train.info())\n",
    "# rank4_train.exception.value_counts()"
   ]
  },
  {
   "cell_type": "markdown",
   "metadata": {},
   "source": [
    "##### Outliers from model1"
   ]
  },
  {
   "cell_type": "code",
   "execution_count": 7,
   "metadata": {
    "ExecuteTime": {
     "end_time": "2020-08-11T18:07:05.847629Z",
     "start_time": "2020-08-11T18:07:05.843629Z"
    }
   },
   "outputs": [],
   "source": [
    "# # https://github.com/buds-lab/ashrae-great-energy-predictor-3-solution-analysis/blob/master/solutions/rank-4/model1/fork-of-as-2kfold-model6-xgb-fr7d12-fold0.ipynb\n",
    "# tr_x = rank4_train.copy()\n",
    "# tr_x = tr_x[(((tr_x.site_id == 0) & (tr_x.exception != 1) & (tr_x.exception != 3)) | (tr_x.site_id != 0)) & (tr_x.exception != 4)]\n",
    "# print(rank4_train.shape, tr_x.shape, rank4_train.shape[0]-tr_x.shape[0])\n",
    "# print(tr_x.exception.value_counts())\n",
    "\n",
    "# outlier_rows = rank4_train.index.difference(tr_x.index)\n",
    "# rows_to_drop = pd.DataFrame({'rows_to_drop':outlier_rows})\n",
    "# rows_to_drop.to_csv('./data/rank4_model1_rows_to_drop.csv', index=False)\n",
    "# rows_to_drop.info()"
   ]
  },
  {
   "cell_type": "markdown",
   "metadata": {},
   "source": [
    "##### Outliers from model2"
   ]
  },
  {
   "cell_type": "code",
   "execution_count": 8,
   "metadata": {
    "ExecuteTime": {
     "end_time": "2020-08-11T18:07:05.854625Z",
     "start_time": "2020-08-11T18:07:05.849628Z"
    }
   },
   "outputs": [],
   "source": [
    "# #https://github.com/buds-lab/ashrae-great-energy-predictor-3-solution-analysis/blob/master/solutions/rank-4/model2/as-meter2-no-1099-xgb-meter0-fold0.ipynb\n",
    "# tr_x = rank4_train.copy()    \n",
    "# tr_x = tr_x[(tr_x.exception != 3) & (tr_x.exception != 1) & (tr_x.exception != 4)]\n",
    "# print(rank4_train.shape, tr_x.shape, rank4_train.shape[0]-tr_x.shape[0])\n",
    "# print(tr_x.exception.value_counts())\n",
    "\n",
    "# outlier_rows = rank4_train.index.difference(tr_x.index)\n",
    "# rows_to_drop = pd.DataFrame({'rows_to_drop':outlier_rows})\n",
    "# rows_to_drop.to_csv('./data/rank4_model2_rows_to_drop.csv', index=False)\n",
    "# rows_to_drop.info()"
   ]
  },
  {
   "cell_type": "markdown",
   "metadata": {},
   "source": [
    "##### Outliers from model3"
   ]
  },
  {
   "cell_type": "code",
   "execution_count": 9,
   "metadata": {
    "ExecuteTime": {
     "end_time": "2020-08-11T18:07:05.860627Z",
     "start_time": "2020-08-11T18:07:05.856626Z"
    }
   },
   "outputs": [],
   "source": [
    "# # https://github.com/buds-lab/ashrae-great-energy-predictor-3-solution-analysis/blob/master/solutions/rank-4/model3/ashrae-kfold-lightgbm-without-leak-1-08.ipynb\n",
    "# train_filtered = rank4_train.copy()\n",
    "# train_filtered = train_filtered[train_filtered['building_id'] != 1099]\n",
    "# train_filtered = train_filtered.query('not (building_id <= 104 & meter == 0 & timestamp <= \"2016-05-20\")')\n",
    "\n",
    "# print(rank4_train.shape, train_filtered.shape, rank4_train.shape[0] - train_filtered.shape[0])\n",
    "\n",
    "# outlier_rows = rank4_train.index.difference(train_filtered.index)\n",
    "# rows_to_drop = pd.DataFrame({'rows_to_drop':outlier_rows})\n",
    "# rows_to_drop.to_csv('./data/rank4_model3_rows_to_drop.csv', index=False)\n",
    "# rows_to_drop.info()"
   ]
  },
  {
   "cell_type": "code",
   "execution_count": 10,
   "metadata": {
    "ExecuteTime": {
     "end_time": "2020-08-11T18:08:32.230107Z",
     "start_time": "2020-08-11T18:07:05.861623Z"
    }
   },
   "outputs": [
    {
     "name": "stdout",
     "output_type": "stream",
     "text": [
      "     model1    model2    model3   outlier\n",
      "0  19857254  19395215  19852320  19379447\n",
      "1    358846    820885    363780    836653\n"
     ]
    },
    {
     "data": {
      "text/html": [
       "<div>\n",
       "<style scoped>\n",
       "    .dataframe tbody tr th:only-of-type {\n",
       "        vertical-align: middle;\n",
       "    }\n",
       "\n",
       "    .dataframe tbody tr th {\n",
       "        vertical-align: top;\n",
       "    }\n",
       "\n",
       "    .dataframe thead th {\n",
       "        text-align: right;\n",
       "    }\n",
       "</style>\n",
       "<table border=\"1\" class=\"dataframe\">\n",
       "  <thead>\n",
       "    <tr style=\"text-align: right;\">\n",
       "      <th></th>\n",
       "      <th>count</th>\n",
       "      <th>mean</th>\n",
       "      <th>std</th>\n",
       "      <th>min</th>\n",
       "      <th>25%</th>\n",
       "      <th>50%</th>\n",
       "      <th>75%</th>\n",
       "      <th>max</th>\n",
       "    </tr>\n",
       "  </thead>\n",
       "  <tbody>\n",
       "    <tr>\n",
       "      <th>model1</th>\n",
       "      <td>20216100.0</td>\n",
       "      <td>0.017751</td>\n",
       "      <td>0.132043</td>\n",
       "      <td>0.0</td>\n",
       "      <td>0.0</td>\n",
       "      <td>0.0</td>\n",
       "      <td>0.0</td>\n",
       "      <td>1.0</td>\n",
       "    </tr>\n",
       "    <tr>\n",
       "      <th>model2</th>\n",
       "      <td>20216100.0</td>\n",
       "      <td>0.040606</td>\n",
       "      <td>0.197375</td>\n",
       "      <td>0.0</td>\n",
       "      <td>0.0</td>\n",
       "      <td>0.0</td>\n",
       "      <td>0.0</td>\n",
       "      <td>1.0</td>\n",
       "    </tr>\n",
       "    <tr>\n",
       "      <th>model3</th>\n",
       "      <td>20216100.0</td>\n",
       "      <td>0.017995</td>\n",
       "      <td>0.132931</td>\n",
       "      <td>0.0</td>\n",
       "      <td>0.0</td>\n",
       "      <td>0.0</td>\n",
       "      <td>0.0</td>\n",
       "      <td>1.0</td>\n",
       "    </tr>\n",
       "    <tr>\n",
       "      <th>outlier</th>\n",
       "      <td>20216100.0</td>\n",
       "      <td>0.041385</td>\n",
       "      <td>0.199180</td>\n",
       "      <td>0.0</td>\n",
       "      <td>0.0</td>\n",
       "      <td>0.0</td>\n",
       "      <td>0.0</td>\n",
       "      <td>1.0</td>\n",
       "    </tr>\n",
       "  </tbody>\n",
       "</table>\n",
       "</div>"
      ],
      "text/plain": [
       "              count      mean       std  min  25%  50%  75%  max\n",
       "model1   20216100.0  0.017751  0.132043  0.0  0.0  0.0  0.0  1.0\n",
       "model2   20216100.0  0.040606  0.197375  0.0  0.0  0.0  0.0  1.0\n",
       "model3   20216100.0  0.017995  0.132931  0.0  0.0  0.0  0.0  1.0\n",
       "outlier  20216100.0  0.041385  0.199180  0.0  0.0  0.0  0.0  1.0"
      ]
     },
     "execution_count": 10,
     "metadata": {},
     "output_type": "execute_result"
    }
   ],
   "source": [
    "rank4_m1 = pd.read_csv('./data/rank4_model1_rows_to_drop.csv')\n",
    "rank4_m2 = pd.read_csv('./data/rank4_model2_rows_to_drop.csv')\n",
    "rank4_m3 = pd.read_csv('./data/rank4_model3_rows_to_drop.csv')\n",
    "\n",
    "rank4 = rank1.copy()\n",
    "rank4.columns = ['model1']\n",
    "rank4.model1 = 0\n",
    "rank4['model2'] = rank4.model1\n",
    "rank4['model3'] = rank4.model1\n",
    "\n",
    "rank4.loc[rank4_m1.rows_to_drop, 'model1'] = 1\n",
    "rank4.loc[rank4_m2.rows_to_drop, 'model2'] = 1\n",
    "rank4.loc[rank4_m3.rows_to_drop, 'model3'] = 1\n",
    "rank4['outlier'] = rank4.max(axis=1)  # aggregate outliers from all models\n",
    "\n",
    "rank4.to_csv('./data/rank4_rows_to_drop.csv', index=False)\n",
    "\n",
    "print(rank4.apply(pd.Series.value_counts))\n",
    "rank4.describe().T"
   ]
  },
  {
   "cell_type": "code",
   "execution_count": 11,
   "metadata": {
    "ExecuteTime": {
     "end_time": "2020-08-11T18:08:37.521108Z",
     "start_time": "2020-08-11T18:08:32.231107Z"
    }
   },
   "outputs": [
    {
     "name": "stdout",
     "output_type": "stream",
     "text": [
      "<class 'pandas.core.frame.DataFrame'>\n",
      "RangeIndex: 20216100 entries, 0 to 20216099\n",
      "Data columns (total 4 columns):\n",
      "model1     int64\n",
      "model2     int64\n",
      "model3     int64\n",
      "outlier    int64\n",
      "dtypes: int64(4)\n",
      "memory usage: 616.9 MB\n",
      "None\n",
      "              count      mean       std  min  25%  50%  75%  max\n",
      "model1   20216100.0  0.017751  0.132043  0.0  0.0  0.0  0.0  1.0\n",
      "model2   20216100.0  0.040606  0.197375  0.0  0.0  0.0  0.0  1.0\n",
      "model3   20216100.0  0.017995  0.132931  0.0  0.0  0.0  0.0  1.0\n",
      "outlier  20216100.0  0.041385  0.199180  0.0  0.0  0.0  0.0  1.0\n"
     ]
    },
    {
     "data": {
      "text/plain": [
       "0    19379447\n",
       "1      836653\n",
       "Name: rank4_outlier, dtype: int64"
      ]
     },
     "execution_count": 11,
     "metadata": {},
     "output_type": "execute_result"
    }
   ],
   "source": [
    "rank4 = pd.read_csv('./data/rank4_rows_to_drop.csv')\n",
    "print(rank4.info())\n",
    "print(rank4.describe().T)\n",
    "\n",
    "rank4 = rank4[['outlier']]\n",
    "rank4.columns = ['rank4_outlier']\n",
    "rank4.rank4_outlier.value_counts()"
   ]
  },
  {
   "cell_type": "markdown",
   "metadata": {},
   "source": [
    "#### 5. Process the outlier lables from fifth ranked solution "
   ]
  },
  {
   "cell_type": "code",
   "execution_count": 12,
   "metadata": {
    "ExecuteTime": {
     "end_time": "2020-08-11T18:08:37.527106Z",
     "start_time": "2020-08-11T18:08:37.522106Z"
    }
   },
   "outputs": [],
   "source": [
    "# # Note: run this once\n",
    "# #https://github.com/buds-lab/ashrae-great-energy-predictor-3-solution-analysis/blob/master/solutions/rank-5/preproceeding_code/prepare_data.py\n",
    "\n",
    "# import numpy as np\n",
    "# import pandas as pd\n",
    "# import argparse\n",
    "# from copy import deepcopy\n",
    "# from datetime import date, datetime, timedelta\n",
    "# from tqdm import tqdm\n",
    "# import os \n",
    "\n",
    "# train = pd.read_csv('./data/train.csv', parse_dates=['timestamp'])\n",
    "# # test = pd.read_csv(f'{code_path}/data/{args.test_file}', parse_dates=['timestamp'])\n",
    "# # building_meta = pd.read_csv(f'{code_path}/data/building_metadata.csv')\n",
    "# # weather_train = pd.read_csv(f'{code_path}/data/{args.weather_train_file}', parse_dates=['timestamp'])\n",
    "# # weather_test = pd.read_csv(f'{code_path}/data/{args.weather_test_file}', parse_dates=['timestamp'])\n",
    "\n",
    "# # drop bad rows\n",
    "\n",
    "# del_list = list()\n",
    "\n",
    "# for building_id in range(1449):\n",
    "#     train_gb = train[train['building_id'] == building_id].groupby(\"meter\")\n",
    "\n",
    "#     for meter, tmp_df in train_gb:\n",
    "# #         print(\"building_id: {}, meter: {}\".format(building_id, meter))\n",
    "#         data = tmp_df['meter_reading'].values\n",
    "# #         splited_value = np.split(data, np.where((data[1:] != data[:-1]) | (data[1:] == min(data)))[0] + 1)\n",
    "# #         splited_date = np.split(tmp_df.timestamp.values, np.where((data[1:] != data[:-1]) | (data[1:] == min(data)))[0] + 1)\n",
    "#         splited_idx = np.split(tmp_df.index.values, np.where((data[1:] != data[:-1]) | (data[1:] == min(data)))[0] + 1)\n",
    "#         for i, x in enumerate(splited_idx):\n",
    "#             if len(x) > 24:\n",
    "# #                 print(\"length: {},\\t{}-{},\\tvalue: {}\".format(len(x), x[0], x[-1], splited_value[i][0]))\n",
    "#                 del_list.extend(x[1:])\n",
    "                \n",
    "                \n",
    "# #         print()\n",
    "\n",
    "# del tmp_df, train_gb\n",
    "\n",
    "\n",
    "# def idx_to_drop(df):\n",
    "#     drop_cols = []\n",
    "#     electric_zero = df[(df['meter']==0)&(df['meter_reading']==0)].index.values.tolist()\n",
    "#     drop_cols.extend(electric_zero)\n",
    "#     not_summer = df[(df['timestamp'].dt.month!=7)&(df['timestamp'].dt.month!=8)]\n",
    "#     not_summer['cumsum'] = not_summer.groupby(['building_id','meter'])['meter_reading'].cumsum()\n",
    "#     not_summer['shifted'] = not_summer.groupby(['building_id','meter'])['cumsum'].shift(48)\n",
    "#     not_summer['difference'] = not_summer['cumsum']-not_summer['shifted']\n",
    "#     steam_zero = not_summer[(not_summer['difference']==0) & (not_summer['meter']==2)].index.values.tolist()\n",
    "#     hotwater_zero = not_summer[(not_summer['difference']==0) & (not_summer['meter']==3)].index.values.tolist()\n",
    "#     drop_cols.extend(steam_zero)\n",
    "#     drop_cols.extend(hotwater_zero)\n",
    "#     del not_summer\n",
    "#     not_winter = train[(df['timestamp'].dt.month!=12)&(df['timestamp'].dt.month!=1)]\n",
    "#     not_winter['cumsum'] = not_winter.groupby(['building_id','meter'])['meter_reading'].cumsum()\n",
    "#     not_winter['shifted'] = not_winter.groupby(['building_id','meter'])['cumsum'].shift(48)\n",
    "#     not_winter['difference'] = not_winter['cumsum']-not_winter['shifted']\n",
    "#     chilled_zero = not_winter[(not_winter['difference']==0) & (not_winter['meter']==1)].index.values.tolist()\n",
    "#     drop_cols.extend(chilled_zero)\n",
    "#     return drop_cols\n",
    "\n",
    "# del_list.extend(idx_to_drop(train))\n",
    "\n",
    "\n",
    "\n",
    "# del_list_new = train.loc[del_list].index#query('timestamp < 20160901').index\n",
    "\n",
    "# train = train.drop(del_list_new)\n",
    "\n",
    "# train = train.query('(not (building_id <= 104 & meter == 0 & timestamp <= \"2016-05-20\")) & (not (meter==0 & meter_reading==0))')\n",
    "\n",
    "# train.info()"
   ]
  },
  {
   "cell_type": "code",
   "execution_count": 13,
   "metadata": {
    "ExecuteTime": {
     "end_time": "2020-08-11T18:08:37.532112Z",
     "start_time": "2020-08-11T18:08:37.529107Z"
    }
   },
   "outputs": [],
   "source": [
    "# train_ = pd.read_csv('./data/train.csv', parse_dates=['timestamp'])\n",
    "# outlier_rows = train_.index.difference(train.index)\n",
    "\n",
    "# rows_to_drop = pd.DataFrame({'rows_to_drop':outlier_rows})\n",
    "# rows_to_drop.to_csv('./data/rank5_rows_to_drop.csv', index=False)\n",
    "# rows_to_drop.info()"
   ]
  },
  {
   "cell_type": "code",
   "execution_count": 14,
   "metadata": {
    "ExecuteTime": {
     "end_time": "2020-08-11T18:08:38.573144Z",
     "start_time": "2020-08-11T18:08:37.534108Z"
    }
   },
   "outputs": [
    {
     "data": {
      "text/plain": [
       "0    18887522\n",
       "1     1328578\n",
       "Name: rank5_outlier, dtype: int64"
      ]
     },
     "execution_count": 14,
     "metadata": {},
     "output_type": "execute_result"
    }
   ],
   "source": [
    "rank5_outliers = pd.read_csv('./data/rank5_rows_to_drop.csv')\n",
    "\n",
    "rank5 = rank1.copy()\n",
    "rank5.columns = ['rank5_outlier']\n",
    "rank5.rank5_outlier = 0\n",
    "rank5.iloc[rank5_outliers.rows_to_drop] = 1\n",
    "rank5.rank5_outlier.value_counts()"
   ]
  },
  {
   "cell_type": "markdown",
   "metadata": {},
   "source": [
    "#### Merge all anomaly labels"
   ]
  },
  {
   "cell_type": "code",
   "execution_count": 32,
   "metadata": {
    "ExecuteTime": {
     "end_time": "2020-08-11T18:18:43.896090Z",
     "start_time": "2020-08-11T18:18:43.892088Z"
    }
   },
   "outputs": [
    {
     "name": "stdout",
     "output_type": "stream",
     "text": [
      "<class 'pandas.core.frame.DataFrame'>\n",
      "RangeIndex: 20216100 entries, 0 to 20216099\n",
      "Data columns (total 1 columns):\n",
      "rank4_outlier    int64\n",
      "dtypes: int64(1)\n",
      "memory usage: 154.2 MB\n"
     ]
    }
   ],
   "source": [
    "rank4.info()"
   ]
  },
  {
   "cell_type": "code",
   "execution_count": 34,
   "metadata": {
    "ExecuteTime": {
     "end_time": "2020-08-11T18:19:10.481234Z",
     "start_time": "2020-08-11T18:19:07.288234Z"
    }
   },
   "outputs": [
    {
     "name": "stdout",
     "output_type": "stream",
     "text": [
      "<class 'pandas.core.frame.DataFrame'>\n",
      "RangeIndex: 20216100 entries, 0 to 20216099\n",
      "Data columns (total 5 columns):\n",
      "rank1_outlier    int64\n",
      "rank2_outlier    int64\n",
      "rank3_outlier    int64\n",
      "rank5_outlier    int64\n",
      "outlier          int64\n",
      "dtypes: int64(5)\n",
      "memory usage: 771.2 MB\n",
      "None\n"
     ]
    },
    {
     "data": {
      "text/html": [
       "<div>\n",
       "<style scoped>\n",
       "    .dataframe tbody tr th:only-of-type {\n",
       "        vertical-align: middle;\n",
       "    }\n",
       "\n",
       "    .dataframe tbody tr th {\n",
       "        vertical-align: top;\n",
       "    }\n",
       "\n",
       "    .dataframe thead th {\n",
       "        text-align: right;\n",
       "    }\n",
       "</style>\n",
       "<table border=\"1\" class=\"dataframe\">\n",
       "  <thead>\n",
       "    <tr style=\"text-align: right;\">\n",
       "      <th></th>\n",
       "      <th>count</th>\n",
       "      <th>mean</th>\n",
       "      <th>std</th>\n",
       "      <th>min</th>\n",
       "      <th>25%</th>\n",
       "      <th>50%</th>\n",
       "      <th>75%</th>\n",
       "      <th>max</th>\n",
       "    </tr>\n",
       "  </thead>\n",
       "  <tbody>\n",
       "    <tr>\n",
       "      <th>rank1_outlier</th>\n",
       "      <td>20216100.0</td>\n",
       "      <td>0.065021</td>\n",
       "      <td>0.246563</td>\n",
       "      <td>0.0</td>\n",
       "      <td>0.0</td>\n",
       "      <td>0.0</td>\n",
       "      <td>0.0</td>\n",
       "      <td>1.0</td>\n",
       "    </tr>\n",
       "    <tr>\n",
       "      <th>rank2_outlier</th>\n",
       "      <td>20216100.0</td>\n",
       "      <td>0.048786</td>\n",
       "      <td>0.215420</td>\n",
       "      <td>0.0</td>\n",
       "      <td>0.0</td>\n",
       "      <td>0.0</td>\n",
       "      <td>0.0</td>\n",
       "      <td>1.0</td>\n",
       "    </tr>\n",
       "    <tr>\n",
       "      <th>rank3_outlier</th>\n",
       "      <td>20216100.0</td>\n",
       "      <td>0.025971</td>\n",
       "      <td>0.159047</td>\n",
       "      <td>0.0</td>\n",
       "      <td>0.0</td>\n",
       "      <td>0.0</td>\n",
       "      <td>0.0</td>\n",
       "      <td>1.0</td>\n",
       "    </tr>\n",
       "    <tr>\n",
       "      <th>rank5_outlier</th>\n",
       "      <td>20216100.0</td>\n",
       "      <td>0.065719</td>\n",
       "      <td>0.247790</td>\n",
       "      <td>0.0</td>\n",
       "      <td>0.0</td>\n",
       "      <td>0.0</td>\n",
       "      <td>0.0</td>\n",
       "      <td>1.0</td>\n",
       "    </tr>\n",
       "    <tr>\n",
       "      <th>outlier</th>\n",
       "      <td>20216100.0</td>\n",
       "      <td>0.104979</td>\n",
       "      <td>0.306526</td>\n",
       "      <td>0.0</td>\n",
       "      <td>0.0</td>\n",
       "      <td>0.0</td>\n",
       "      <td>0.0</td>\n",
       "      <td>1.0</td>\n",
       "    </tr>\n",
       "  </tbody>\n",
       "</table>\n",
       "</div>"
      ],
      "text/plain": [
       "                    count      mean       std  min  25%  50%  75%  max\n",
       "rank1_outlier  20216100.0  0.065021  0.246563  0.0  0.0  0.0  0.0  1.0\n",
       "rank2_outlier  20216100.0  0.048786  0.215420  0.0  0.0  0.0  0.0  1.0\n",
       "rank3_outlier  20216100.0  0.025971  0.159047  0.0  0.0  0.0  0.0  1.0\n",
       "rank5_outlier  20216100.0  0.065719  0.247790  0.0  0.0  0.0  0.0  1.0\n",
       "outlier        20216100.0  0.104979  0.306526  0.0  0.0  0.0  0.0  1.0"
      ]
     },
     "execution_count": 34,
     "metadata": {},
     "output_type": "execute_result"
    }
   ],
   "source": [
    "df_anomaly = pd.concat([rank1, rank2, rank3, rank5], axis=1, sort=False)\n",
    "df_anomaly['outlier'] = df_anomaly.max(axis=1)  # aggregated outliers from all solutions\n",
    "\n",
    "print(df_anomaly.info())\n",
    "df_anomaly.describe().T"
   ]
  },
  {
   "cell_type": "code",
   "execution_count": 36,
   "metadata": {
    "ExecuteTime": {
     "end_time": "2020-08-11T18:22:32.270586Z",
     "start_time": "2020-08-11T18:20:25.675140Z"
    }
   },
   "outputs": [],
   "source": [
    "df_anomaly.to_csv('./data/anomaly_labels_all.csv', index=False)\n",
    "df_anomaly[['outlier']].to_csv('./data/anomaly_labels.csv', index=False)"
   ]
  }
 ],
 "metadata": {
  "kernelspec": {
   "display_name": "Python 3",
   "language": "python",
   "name": "python3"
  },
  "language_info": {
   "codemirror_mode": {
    "name": "ipython",
    "version": 3
   },
   "file_extension": ".py",
   "mimetype": "text/x-python",
   "name": "python",
   "nbconvert_exporter": "python",
   "pygments_lexer": "ipython3",
   "version": "3.7.4"
  }
 },
 "nbformat": 4,
 "nbformat_minor": 2
}
