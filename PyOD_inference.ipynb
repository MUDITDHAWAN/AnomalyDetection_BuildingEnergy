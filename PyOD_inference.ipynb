{
  "nbformat": 4,
  "nbformat_minor": 0,
  "metadata": {
    "kernelspec": {
      "name": "python3",
      "display_name": "Python 3"
    },
    "language_info": {
      "codemirror_mode": {
        "name": "ipython",
        "version": 3
      },
      "file_extension": ".py",
      "mimetype": "text/x-python",
      "name": "python",
      "nbconvert_exporter": "python",
      "pygments_lexer": "ipython3",
      "version": "3.6.6"
    },
    "colab": {
      "name": "PyOD_inference.ipynb",
      "provenance": [],
      "collapsed_sections": [],
      "machine_shape": "hm"
    }
  },
  "cells": [
    {
      "cell_type": "code",
      "metadata": {
        "id": "cvVDR7QzxiWQ",
        "colab_type": "code",
        "colab": {
          "base_uri": "https://localhost:8080/",
          "height": 122
        },
        "outputId": "31cb189c-b1af-4677-bdf7-c628d37e73b6"
      },
      "source": [
        "from google.colab import drive\n",
        "drive.mount('/content/drive') "
      ],
      "execution_count": 1,
      "outputs": [
        {
          "output_type": "stream",
          "text": [
            "Go to this URL in a browser: https://accounts.google.com/o/oauth2/auth?client_id=947318989803-6bn6qk8qdgf4n4g3pfee6491hc0brc4i.apps.googleusercontent.com&redirect_uri=urn%3aietf%3awg%3aoauth%3a2.0%3aoob&scope=email%20https%3a%2f%2fwww.googleapis.com%2fauth%2fdocs.test%20https%3a%2f%2fwww.googleapis.com%2fauth%2fdrive%20https%3a%2f%2fwww.googleapis.com%2fauth%2fdrive.photos.readonly%20https%3a%2f%2fwww.googleapis.com%2fauth%2fpeopleapi.readonly&response_type=code\n",
            "\n",
            "Enter your authorization code:\n",
            "··········\n",
            "Mounted at /content/drive\n"
          ],
          "name": "stdout"
        }
      ]
    },
    {
      "cell_type": "code",
      "metadata": {
        "id": "Ad3gOpc3SYVo",
        "colab_type": "code",
        "colab": {
          "base_uri": "https://localhost:8080/",
          "height": 615
        },
        "outputId": "4269c388-f43b-40c7-da60-6a82056b024d"
      },
      "source": [
        "!pip install pyod"
      ],
      "execution_count": 2,
      "outputs": [
        {
          "output_type": "stream",
          "text": [
            "Collecting pyod\n",
            "\u001b[?25l  Downloading https://files.pythonhosted.org/packages/77/4e/5767edaccbfc227914ca774cb6ca9b628a08cbb59b9b4839296953a63d34/pyod-0.8.1.tar.gz (93kB)\n",
            "\r\u001b[K     |███▌                            | 10kB 17.4MB/s eta 0:00:01\r\u001b[K     |███████                         | 20kB 1.7MB/s eta 0:00:01\r\u001b[K     |██████████▌                     | 30kB 2.2MB/s eta 0:00:01\r\u001b[K     |██████████████                  | 40kB 2.5MB/s eta 0:00:01\r\u001b[K     |█████████████████▌              | 51kB 2.0MB/s eta 0:00:01\r\u001b[K     |█████████████████████           | 61kB 2.3MB/s eta 0:00:01\r\u001b[K     |████████████████████████▋       | 71kB 2.4MB/s eta 0:00:01\r\u001b[K     |████████████████████████████    | 81kB 2.7MB/s eta 0:00:01\r\u001b[K     |███████████████████████████████▋| 92kB 2.9MB/s eta 0:00:01\r\u001b[K     |████████████████████████████████| 102kB 2.5MB/s \n",
            "\u001b[?25hCollecting combo\n",
            "  Downloading https://files.pythonhosted.org/packages/0a/2a/61b6ac584e75d8df16dc27962aa5fe99d76b09da5b6710e83d4862c84001/combo-0.1.1.tar.gz\n",
            "Requirement already satisfied: joblib in /usr/local/lib/python3.6/dist-packages (from pyod) (0.16.0)\n",
            "Requirement already satisfied: matplotlib in /usr/local/lib/python3.6/dist-packages (from pyod) (3.2.2)\n",
            "Requirement already satisfied: numpy>=1.13 in /usr/local/lib/python3.6/dist-packages (from pyod) (1.18.5)\n",
            "Requirement already satisfied: numba>=0.35 in /usr/local/lib/python3.6/dist-packages (from pyod) (0.48.0)\n",
            "Requirement already satisfied: scipy>=0.19.1 in /usr/local/lib/python3.6/dist-packages (from pyod) (1.4.1)\n",
            "Requirement already satisfied: scikit_learn>=0.19.1 in /usr/local/lib/python3.6/dist-packages (from pyod) (0.22.2.post1)\n",
            "Requirement already satisfied: six in /usr/local/lib/python3.6/dist-packages (from pyod) (1.15.0)\n",
            "Collecting suod\n",
            "\u001b[?25l  Downloading https://files.pythonhosted.org/packages/a1/87/9170cabe1b5e10a7d095c0e28f2e30e7c1886a13f063de85d3cfacc06f4b/suod-0.0.4.tar.gz (2.1MB)\n",
            "\r\u001b[K     |▏                               | 10kB 16.2MB/s eta 0:00:01\r\u001b[K     |▎                               | 20kB 22.8MB/s eta 0:00:01\r\u001b[K     |▌                               | 30kB 26.6MB/s eta 0:00:01\r\u001b[K     |▋                               | 40kB 28.7MB/s eta 0:00:01\r\u001b[K     |▊                               | 51kB 31.6MB/s eta 0:00:01\r\u001b[K     |█                               | 61kB 21.3MB/s eta 0:00:01\r\u001b[K     |█                               | 71kB 19.9MB/s eta 0:00:01\r\u001b[K     |█▎                              | 81kB 18.5MB/s eta 0:00:01\r\u001b[K     |█▍                              | 92kB 17.6MB/s eta 0:00:01\r\u001b[K     |█▌                              | 102kB 17.5MB/s eta 0:00:01\r\u001b[K     |█▊                              | 112kB 17.5MB/s eta 0:00:01\r\u001b[K     |█▉                              | 122kB 17.5MB/s eta 0:00:01\r\u001b[K     |██                              | 133kB 17.5MB/s eta 0:00:01\r\u001b[K     |██▏                             | 143kB 17.5MB/s eta 0:00:01\r\u001b[K     |██▎                             | 153kB 17.5MB/s eta 0:00:01\r\u001b[K     |██▌                             | 163kB 17.5MB/s eta 0:00:01\r\u001b[K     |██▋                             | 174kB 17.5MB/s eta 0:00:01\r\u001b[K     |██▉                             | 184kB 17.5MB/s eta 0:00:01\r\u001b[K     |███                             | 194kB 17.5MB/s eta 0:00:01\r\u001b[K     |███                             | 204kB 17.5MB/s eta 0:00:01\r\u001b[K     |███▎                            | 215kB 17.5MB/s eta 0:00:01\r\u001b[K     |███▍                            | 225kB 17.5MB/s eta 0:00:01\r\u001b[K     |███▋                            | 235kB 17.5MB/s eta 0:00:01\r\u001b[K     |███▊                            | 245kB 17.5MB/s eta 0:00:01\r\u001b[K     |███▉                            | 256kB 17.5MB/s eta 0:00:01\r\u001b[K     |████                            | 266kB 17.5MB/s eta 0:00:01\r\u001b[K     |████▏                           | 276kB 17.5MB/s eta 0:00:01\r\u001b[K     |████▍                           | 286kB 17.5MB/s eta 0:00:01\r\u001b[K     |████▌                           | 296kB 17.5MB/s eta 0:00:01\r\u001b[K     |████▋                           | 307kB 17.5MB/s eta 0:00:01\r\u001b[K     |████▉                           | 317kB 17.5MB/s eta 0:00:01\r\u001b[K     |█████                           | 327kB 17.5MB/s eta 0:00:01\r\u001b[K     |█████▏                          | 337kB 17.5MB/s eta 0:00:01\r\u001b[K     |█████▎                          | 348kB 17.5MB/s eta 0:00:01\r\u001b[K     |█████▍                          | 358kB 17.5MB/s eta 0:00:01\r\u001b[K     |█████▋                          | 368kB 17.5MB/s eta 0:00:01\r\u001b[K     |█████▊                          | 378kB 17.5MB/s eta 0:00:01\r\u001b[K     |██████                          | 389kB 17.5MB/s eta 0:00:01\r\u001b[K     |██████                          | 399kB 17.5MB/s eta 0:00:01\r\u001b[K     |██████▏                         | 409kB 17.5MB/s eta 0:00:01\r\u001b[K     |██████▍                         | 419kB 17.5MB/s eta 0:00:01\r\u001b[K     |██████▌                         | 430kB 17.5MB/s eta 0:00:01\r\u001b[K     |██████▊                         | 440kB 17.5MB/s eta 0:00:01\r\u001b[K     |██████▉                         | 450kB 17.5MB/s eta 0:00:01\r\u001b[K     |███████                         | 460kB 17.5MB/s eta 0:00:01\r\u001b[K     |███████▏                        | 471kB 17.5MB/s eta 0:00:01\r\u001b[K     |███████▎                        | 481kB 17.5MB/s eta 0:00:01\r\u001b[K     |███████▌                        | 491kB 17.5MB/s eta 0:00:01\r\u001b[K     |███████▋                        | 501kB 17.5MB/s eta 0:00:01\r\u001b[K     |███████▊                        | 512kB 17.5MB/s eta 0:00:01\r\u001b[K     |████████                        | 522kB 17.5MB/s eta 0:00:01\r\u001b[K     |████████                        | 532kB 17.5MB/s eta 0:00:01\r\u001b[K     |████████▎                       | 542kB 17.5MB/s eta 0:00:01\r\u001b[K     |████████▍                       | 552kB 17.5MB/s eta 0:00:01\r\u001b[K     |████████▌                       | 563kB 17.5MB/s eta 0:00:01\r\u001b[K     |████████▊                       | 573kB 17.5MB/s eta 0:00:01\r\u001b[K     |████████▉                       | 583kB 17.5MB/s eta 0:00:01\r\u001b[K     |█████████                       | 593kB 17.5MB/s eta 0:00:01\r\u001b[K     |█████████▏                      | 604kB 17.5MB/s eta 0:00:01\r\u001b[K     |█████████▎                      | 614kB 17.5MB/s eta 0:00:01\r\u001b[K     |█████████▌                      | 624kB 17.5MB/s eta 0:00:01\r\u001b[K     |█████████▋                      | 634kB 17.5MB/s eta 0:00:01\r\u001b[K     |█████████▉                      | 645kB 17.5MB/s eta 0:00:01\r\u001b[K     |██████████                      | 655kB 17.5MB/s eta 0:00:01\r\u001b[K     |██████████                      | 665kB 17.5MB/s eta 0:00:01\r\u001b[K     |██████████▎                     | 675kB 17.5MB/s eta 0:00:01\r\u001b[K     |██████████▍                     | 686kB 17.5MB/s eta 0:00:01\r\u001b[K     |██████████▋                     | 696kB 17.5MB/s eta 0:00:01\r\u001b[K     |██████████▊                     | 706kB 17.5MB/s eta 0:00:01\r\u001b[K     |██████████▉                     | 716kB 17.5MB/s eta 0:00:01\r\u001b[K     |███████████                     | 727kB 17.5MB/s eta 0:00:01\r\u001b[K     |███████████▏                    | 737kB 17.5MB/s eta 0:00:01\r\u001b[K     |███████████▍                    | 747kB 17.5MB/s eta 0:00:01\r\u001b[K     |███████████▌                    | 757kB 17.5MB/s eta 0:00:01\r\u001b[K     |███████████▋                    | 768kB 17.5MB/s eta 0:00:01\r\u001b[K     |███████████▉                    | 778kB 17.5MB/s eta 0:00:01\r\u001b[K     |████████████                    | 788kB 17.5MB/s eta 0:00:01\r\u001b[K     |████████████▏                   | 798kB 17.5MB/s eta 0:00:01\r\u001b[K     |████████████▎                   | 808kB 17.5MB/s eta 0:00:01\r\u001b[K     |████████████▍                   | 819kB 17.5MB/s eta 0:00:01\r\u001b[K     |████████████▋                   | 829kB 17.5MB/s eta 0:00:01\r\u001b[K     |████████████▊                   | 839kB 17.5MB/s eta 0:00:01\r\u001b[K     |████████████▉                   | 849kB 17.5MB/s eta 0:00:01\r\u001b[K     |█████████████                   | 860kB 17.5MB/s eta 0:00:01\r\u001b[K     |█████████████▏                  | 870kB 17.5MB/s eta 0:00:01\r\u001b[K     |█████████████▍                  | 880kB 17.5MB/s eta 0:00:01\r\u001b[K     |█████████████▌                  | 890kB 17.5MB/s eta 0:00:01\r\u001b[K     |█████████████▋                  | 901kB 17.5MB/s eta 0:00:01\r\u001b[K     |█████████████▉                  | 911kB 17.5MB/s eta 0:00:01\r\u001b[K     |██████████████                  | 921kB 17.5MB/s eta 0:00:01\r\u001b[K     |██████████████▏                 | 931kB 17.5MB/s eta 0:00:01\r\u001b[K     |██████████████▎                 | 942kB 17.5MB/s eta 0:00:01\r\u001b[K     |██████████████▍                 | 952kB 17.5MB/s eta 0:00:01\r\u001b[K     |██████████████▋                 | 962kB 17.5MB/s eta 0:00:01\r\u001b[K     |██████████████▊                 | 972kB 17.5MB/s eta 0:00:01\r\u001b[K     |███████████████                 | 983kB 17.5MB/s eta 0:00:01\r\u001b[K     |███████████████                 | 993kB 17.5MB/s eta 0:00:01\r\u001b[K     |███████████████▏                | 1.0MB 17.5MB/s eta 0:00:01\r\u001b[K     |███████████████▍                | 1.0MB 17.5MB/s eta 0:00:01\r\u001b[K     |███████████████▌                | 1.0MB 17.5MB/s eta 0:00:01\r\u001b[K     |███████████████▊                | 1.0MB 17.5MB/s eta 0:00:01\r\u001b[K     |███████████████▉                | 1.0MB 17.5MB/s eta 0:00:01\r\u001b[K     |████████████████                | 1.1MB 17.5MB/s eta 0:00:01\r\u001b[K     |████████████████▏               | 1.1MB 17.5MB/s eta 0:00:01\r\u001b[K     |████████████████▎               | 1.1MB 17.5MB/s eta 0:00:01\r\u001b[K     |████████████████▌               | 1.1MB 17.5MB/s eta 0:00:01\r\u001b[K     |████████████████▋               | 1.1MB 17.5MB/s eta 0:00:01\r\u001b[K     |████████████████▊               | 1.1MB 17.5MB/s eta 0:00:01\r\u001b[K     |█████████████████               | 1.1MB 17.5MB/s eta 0:00:01\r\u001b[K     |█████████████████               | 1.1MB 17.5MB/s eta 0:00:01\r\u001b[K     |█████████████████▎              | 1.1MB 17.5MB/s eta 0:00:01\r\u001b[K     |█████████████████▍              | 1.1MB 17.5MB/s eta 0:00:01\r\u001b[K     |█████████████████▌              | 1.2MB 17.5MB/s eta 0:00:01\r\u001b[K     |█████████████████▊              | 1.2MB 17.5MB/s eta 0:00:01\r\u001b[K     |█████████████████▉              | 1.2MB 17.5MB/s eta 0:00:01\r\u001b[K     |██████████████████              | 1.2MB 17.5MB/s eta 0:00:01\r\u001b[K     |██████████████████▏             | 1.2MB 17.5MB/s eta 0:00:01\r\u001b[K     |██████████████████▎             | 1.2MB 17.5MB/s eta 0:00:01\r\u001b[K     |██████████████████▌             | 1.2MB 17.5MB/s eta 0:00:01\r\u001b[K     |██████████████████▋             | 1.2MB 17.5MB/s eta 0:00:01\r\u001b[K     |██████████████████▉             | 1.2MB 17.5MB/s eta 0:00:01\r\u001b[K     |███████████████████             | 1.2MB 17.5MB/s eta 0:00:01\r\u001b[K     |███████████████████             | 1.3MB 17.5MB/s eta 0:00:01\r\u001b[K     |███████████████████▎            | 1.3MB 17.5MB/s eta 0:00:01\r\u001b[K     |███████████████████▍            | 1.3MB 17.5MB/s eta 0:00:01\r\u001b[K     |███████████████████▋            | 1.3MB 17.5MB/s eta 0:00:01\r\u001b[K     |███████████████████▊            | 1.3MB 17.5MB/s eta 0:00:01\r\u001b[K     |███████████████████▉            | 1.3MB 17.5MB/s eta 0:00:01\r\u001b[K     |████████████████████            | 1.3MB 17.5MB/s eta 0:00:01\r\u001b[K     |████████████████████▏           | 1.3MB 17.5MB/s eta 0:00:01\r\u001b[K     |████████████████████▍           | 1.3MB 17.5MB/s eta 0:00:01\r\u001b[K     |████████████████████▌           | 1.4MB 17.5MB/s eta 0:00:01\r\u001b[K     |████████████████████▋           | 1.4MB 17.5MB/s eta 0:00:01\r\u001b[K     |████████████████████▉           | 1.4MB 17.5MB/s eta 0:00:01\r\u001b[K     |█████████████████████           | 1.4MB 17.5MB/s eta 0:00:01\r\u001b[K     |█████████████████████▏          | 1.4MB 17.5MB/s eta 0:00:01\r\u001b[K     |█████████████████████▎          | 1.4MB 17.5MB/s eta 0:00:01\r\u001b[K     |█████████████████████▍          | 1.4MB 17.5MB/s eta 0:00:01\r\u001b[K     |█████████████████████▋          | 1.4MB 17.5MB/s eta 0:00:01\r\u001b[K     |█████████████████████▊          | 1.4MB 17.5MB/s eta 0:00:01\r\u001b[K     |██████████████████████          | 1.4MB 17.5MB/s eta 0:00:01\r\u001b[K     |██████████████████████          | 1.5MB 17.5MB/s eta 0:00:01\r\u001b[K     |██████████████████████▏         | 1.5MB 17.5MB/s eta 0:00:01\r\u001b[K     |██████████████████████▍         | 1.5MB 17.5MB/s eta 0:00:01\r\u001b[K     |██████████████████████▌         | 1.5MB 17.5MB/s eta 0:00:01\r\u001b[K     |██████████████████████▊         | 1.5MB 17.5MB/s eta 0:00:01\r\u001b[K     |██████████████████████▉         | 1.5MB 17.5MB/s eta 0:00:01\r\u001b[K     |███████████████████████         | 1.5MB 17.5MB/s eta 0:00:01\r\u001b[K     |███████████████████████▏        | 1.5MB 17.5MB/s eta 0:00:01\r\u001b[K     |███████████████████████▎        | 1.5MB 17.5MB/s eta 0:00:01\r\u001b[K     |███████████████████████▌        | 1.5MB 17.5MB/s eta 0:00:01\r\u001b[K     |███████████████████████▋        | 1.6MB 17.5MB/s eta 0:00:01\r\u001b[K     |███████████████████████▊        | 1.6MB 17.5MB/s eta 0:00:01\r\u001b[K     |████████████████████████        | 1.6MB 17.5MB/s eta 0:00:01\r\u001b[K     |████████████████████████        | 1.6MB 17.5MB/s eta 0:00:01\r\u001b[K     |████████████████████████▎       | 1.6MB 17.5MB/s eta 0:00:01\r\u001b[K     |████████████████████████▍       | 1.6MB 17.5MB/s eta 0:00:01\r\u001b[K     |████████████████████████▌       | 1.6MB 17.5MB/s eta 0:00:01\r\u001b[K     |████████████████████████▊       | 1.6MB 17.5MB/s eta 0:00:01\r\u001b[K     |████████████████████████▉       | 1.6MB 17.5MB/s eta 0:00:01\r\u001b[K     |█████████████████████████       | 1.6MB 17.5MB/s eta 0:00:01\r\u001b[K     |█████████████████████████▏      | 1.7MB 17.5MB/s eta 0:00:01\r\u001b[K     |█████████████████████████▎      | 1.7MB 17.5MB/s eta 0:00:01\r\u001b[K     |█████████████████████████▌      | 1.7MB 17.5MB/s eta 0:00:01\r\u001b[K     |█████████████████████████▋      | 1.7MB 17.5MB/s eta 0:00:01\r\u001b[K     |█████████████████████████▊      | 1.7MB 17.5MB/s eta 0:00:01\r\u001b[K     |██████████████████████████      | 1.7MB 17.5MB/s eta 0:00:01\r\u001b[K     |██████████████████████████      | 1.7MB 17.5MB/s eta 0:00:01\r\u001b[K     |██████████████████████████▎     | 1.7MB 17.5MB/s eta 0:00:01\r\u001b[K     |██████████████████████████▍     | 1.7MB 17.5MB/s eta 0:00:01\r\u001b[K     |██████████████████████████▌     | 1.8MB 17.5MB/s eta 0:00:01\r\u001b[K     |██████████████████████████▊     | 1.8MB 17.5MB/s eta 0:00:01\r\u001b[K     |██████████████████████████▉     | 1.8MB 17.5MB/s eta 0:00:01\r\u001b[K     |███████████████████████████     | 1.8MB 17.5MB/s eta 0:00:01\r\u001b[K     |███████████████████████████▏    | 1.8MB 17.5MB/s eta 0:00:01\r\u001b[K     |███████████████████████████▎    | 1.8MB 17.5MB/s eta 0:00:01\r\u001b[K     |███████████████████████████▌    | 1.8MB 17.5MB/s eta 0:00:01\r\u001b[K     |███████████████████████████▋    | 1.8MB 17.5MB/s eta 0:00:01\r\u001b[K     |███████████████████████████▉    | 1.8MB 17.5MB/s eta 0:00:01\r\u001b[K     |████████████████████████████    | 1.8MB 17.5MB/s eta 0:00:01\r\u001b[K     |████████████████████████████    | 1.9MB 17.5MB/s eta 0:00:01\r\u001b[K     |████████████████████████████▎   | 1.9MB 17.5MB/s eta 0:00:01\r\u001b[K     |████████████████████████████▍   | 1.9MB 17.5MB/s eta 0:00:01\r\u001b[K     |████████████████████████████▋   | 1.9MB 17.5MB/s eta 0:00:01\r\u001b[K     |████████████████████████████▊   | 1.9MB 17.5MB/s eta 0:00:01\r\u001b[K     |████████████████████████████▉   | 1.9MB 17.5MB/s eta 0:00:01\r\u001b[K     |█████████████████████████████   | 1.9MB 17.5MB/s eta 0:00:01\r\u001b[K     |█████████████████████████████▏  | 1.9MB 17.5MB/s eta 0:00:01\r\u001b[K     |█████████████████████████████▍  | 1.9MB 17.5MB/s eta 0:00:01\r\u001b[K     |█████████████████████████████▌  | 1.9MB 17.5MB/s eta 0:00:01\r\u001b[K     |█████████████████████████████▋  | 2.0MB 17.5MB/s eta 0:00:01\r\u001b[K     |█████████████████████████████▉  | 2.0MB 17.5MB/s eta 0:00:01\r\u001b[K     |██████████████████████████████  | 2.0MB 17.5MB/s eta 0:00:01\r\u001b[K     |██████████████████████████████▏ | 2.0MB 17.5MB/s eta 0:00:01\r\u001b[K     |██████████████████████████████▎ | 2.0MB 17.5MB/s eta 0:00:01\r\u001b[K     |██████████████████████████████▍ | 2.0MB 17.5MB/s eta 0:00:01\r\u001b[K     |██████████████████████████████▋ | 2.0MB 17.5MB/s eta 0:00:01\r\u001b[K     |██████████████████████████████▊ | 2.0MB 17.5MB/s eta 0:00:01\r\u001b[K     |███████████████████████████████ | 2.0MB 17.5MB/s eta 0:00:01\r\u001b[K     |███████████████████████████████ | 2.0MB 17.5MB/s eta 0:00:01\r\u001b[K     |███████████████████████████████▏| 2.1MB 17.5MB/s eta 0:00:01\r\u001b[K     |███████████████████████████████▍| 2.1MB 17.5MB/s eta 0:00:01\r\u001b[K     |███████████████████████████████▌| 2.1MB 17.5MB/s eta 0:00:01\r\u001b[K     |███████████████████████████████▊| 2.1MB 17.5MB/s eta 0:00:01\r\u001b[K     |███████████████████████████████▉| 2.1MB 17.5MB/s eta 0:00:01\r\u001b[K     |████████████████████████████████| 2.1MB 17.5MB/s eta 0:00:01\r\u001b[K     |████████████████████████████████| 2.1MB 17.5MB/s \n",
            "\u001b[?25hRequirement already satisfied: pyparsing!=2.0.4,!=2.1.2,!=2.1.6,>=2.0.1 in /usr/local/lib/python3.6/dist-packages (from matplotlib->pyod) (2.4.7)\n",
            "Requirement already satisfied: python-dateutil>=2.1 in /usr/local/lib/python3.6/dist-packages (from matplotlib->pyod) (2.8.1)\n",
            "Requirement already satisfied: cycler>=0.10 in /usr/local/lib/python3.6/dist-packages (from matplotlib->pyod) (0.10.0)\n",
            "Requirement already satisfied: kiwisolver>=1.0.1 in /usr/local/lib/python3.6/dist-packages (from matplotlib->pyod) (1.2.0)\n",
            "Requirement already satisfied: llvmlite<0.32.0,>=0.31.0dev0 in /usr/local/lib/python3.6/dist-packages (from numba>=0.35->pyod) (0.31.0)\n",
            "Requirement already satisfied: setuptools in /usr/local/lib/python3.6/dist-packages (from numba>=0.35->pyod) (49.2.0)\n",
            "Building wheels for collected packages: pyod, combo, suod\n",
            "  Building wheel for pyod (setup.py) ... \u001b[?25l\u001b[?25hdone\n",
            "  Created wheel for pyod: filename=pyod-0.8.1-cp36-none-any.whl size=105653 sha256=98ccb5f20144164df7e5cc7e06963bb7457b662ce6ea60555f9af11248947117\n",
            "  Stored in directory: /root/.cache/pip/wheels/2e/ca/18/727e9d98a41f5f4385a97d5b429f3a9c8fbee13f9780c18642\n",
            "  Building wheel for combo (setup.py) ... \u001b[?25l\u001b[?25hdone\n",
            "  Created wheel for combo: filename=combo-0.1.1-cp36-none-any.whl size=42111 sha256=4a4205aca211a7f6f4b120d4792392de882b3727da7475d9789ebd8e3cce40f2\n",
            "  Stored in directory: /root/.cache/pip/wheels/55/ec/e5/a2331372c676c467e70c6646e646edf6997d5c4905b8c0f5e6\n",
            "  Building wheel for suod (setup.py) ... \u001b[?25l\u001b[?25hdone\n",
            "  Created wheel for suod: filename=suod-0.0.4-cp36-none-any.whl size=2167157 sha256=0de184420456606249d7047bfa07406e362f1b0076d55a4bd8de46c897db912b\n",
            "  Stored in directory: /root/.cache/pip/wheels/57/55/e5/a4fca65bba231f6d0115059b589148774b41faea25b3f2aa27\n",
            "Successfully built pyod combo suod\n",
            "Installing collected packages: combo, suod, pyod\n",
            "Successfully installed combo-0.1.1 pyod-0.8.1 suod-0.0.4\n"
          ],
          "name": "stdout"
        }
      ]
    },
    {
      "cell_type": "code",
      "metadata": {
        "id": "bdvWfWGwxRXi",
        "colab_type": "code",
        "colab": {}
      },
      "source": [
        "import os\n",
        "import pickle\n",
        "import pandas as pd\n",
        "import numpy as np\n",
        "import tensorflow as tf\n",
        "import time\n",
        "import matplotlib.pyplot as plt\n",
        "import random\n",
        "from numpy import percentile\n",
        "import sklearn\n",
        "from sklearn.utils import shuffle"
      ],
      "execution_count": 3,
      "outputs": []
    },
    {
      "cell_type": "code",
      "metadata": {
        "id": "jGbwMZYsxRKY",
        "colab_type": "code",
        "colab": {}
      },
      "source": [
        "# For reproducibility\n",
        "np.random.seed(12)\n",
        "tf.random.set_seed(12)\n",
        "random.seed(1)"
      ],
      "execution_count": 4,
      "outputs": []
    },
    {
      "cell_type": "code",
      "metadata": {
        "id": "Bnd0epiYU_Si",
        "colab_type": "code",
        "colab": {}
      },
      "source": [
        "dir_saved_data = \"/content/drive/My Drive/ASHRAEData/data\""
      ],
      "execution_count": 5,
      "outputs": []
    },
    {
      "cell_type": "code",
      "metadata": {
        "id": "DkgdptDh4XsF",
        "colab_type": "code",
        "colab": {}
      },
      "source": [
        "## CAN BE CHANGED \n",
        "\n",
        "## change these lists as per model's input \n",
        "site_id= 0 \n",
        "\n",
        "## window length \n",
        "seq_length = 24 "
      ],
      "execution_count": 6,
      "outputs": []
    },
    {
      "cell_type": "code",
      "metadata": {
        "id": "A6qZ41pySdZQ",
        "colab_type": "code",
        "colab": {}
      },
      "source": [
        "## Reading saved data Non-Anomalous\n",
        "os.chdir(dir_saved_data)\n",
        "\n",
        "## Reading training data\n",
        "with open(\"./Baseline_data/Not_Conditional/\"+ \"site_id_\" + str(site_id)+\"/non_anom/train_data.pkl\", 'rb') as f:\n",
        "  Y_train_non_anom = pickle.load(f)\n",
        "\n",
        "## Reading validation data\n",
        "with open(\"./Baseline_data/Not_Conditional/\"+ \"site_id_\" + str(site_id)+\"/non_anom/val_data.pkl\", 'rb') as f:\n",
        "  Y_val_non_anom = pickle.load(f)\n",
        "\n",
        "## Reading test data\n",
        "with open(\"./Baseline_data/Not_Conditional/\"+ \"site_id_\" + str(site_id)+\"/non_anom/test_data.pkl\", 'rb') as f:\n",
        "  Y_test_non_anom = pickle.load(f)"
      ],
      "execution_count": 7,
      "outputs": []
    },
    {
      "cell_type": "code",
      "metadata": {
        "id": "QyiiYwqMTGDj",
        "colab_type": "code",
        "colab": {}
      },
      "source": [
        "## Reading saved data Anomalous\n",
        "os.chdir(dir_saved_data)\n",
        "\n",
        "## Reading training data\n",
        "with open(\"./Baseline_data/Not_Conditional/\"+ \"site_id_\" + str(site_id)+\"/anom/train_data.pkl\", 'rb') as f:\n",
        "  Y_train_anom = pickle.load(f)\n",
        "\n",
        "## Reading validation data\n",
        "with open(\"./Baseline_data/Not_Conditional/\"+ \"site_id_\" + str(site_id)+\"/anom/val_data.pkl\", 'rb') as f:\n",
        "  Y_val_anom = pickle.load(f)\n",
        "\n",
        "## Reading test data\n",
        "with open(\"./Baseline_data/Not_Conditional/\"+ \"site_id_\" + str(site_id)+\"/anom/test_data.pkl\", 'rb') as f:\n",
        "  Y_test_anom = pickle.load(f)"
      ],
      "execution_count": 8,
      "outputs": []
    },
    {
      "cell_type": "code",
      "metadata": {
        "id": "eHo88wkDcsbU",
        "colab_type": "code",
        "colab": {}
      },
      "source": [
        "def create_data_pyod(Y_train_non_anom, Y_train_anom, Y_val_non_anom, Y_val_anom, Y_test_non_anom,Y_test_anom):\n",
        "  ## def to create data used for training and evaluation of BAseline PyOD models\n",
        "  \n",
        "  # Anomalous  - train data\n",
        "  arr_1 = np.zeros((1,24))\n",
        "  for i in range(len(Y_train_anom)):\n",
        "    arr_1 = np.concatenate([arr_1, Y_train_anom[i].reshape(1, 24)], axis=0)\n",
        "  arr_1 = np.delete(arr_1, (0), axis=0)\n",
        "\n",
        "  # Non- Anomalous  - train data\n",
        "  arr_0 = np.zeros((1,24))\n",
        "  for i in range(len(Y_train_non_anom)):\n",
        "    arr_0 = np.concatenate([arr_0, Y_train_non_anom[i].reshape(1, 24)], axis=0)\n",
        "  arr_0 = np.delete(arr_0, (0), axis=0)\n",
        "\n",
        "  X_train = np.concatenate([arr_0, arr_1], axis=0)\n",
        "\n",
        "  Y_train = np.zeros((arr_0.shape[0])) \n",
        "  Y_train = np.concatenate([Y_train, np.ones((arr_1.shape[0]))], axis=0)\n",
        "\n",
        "  # Anomalous  - val data\n",
        "  val_arr_1 = np.zeros((1,24))\n",
        "  for i in range(len(Y_val_anom)):\n",
        "    val_arr_1 = np.concatenate([val_arr_1, Y_val_anom[i].reshape(1, 24)], axis=0)\n",
        "  val_arr_1 = np.delete(val_arr_1, (0), axis=0)\n",
        "\n",
        "  # Non- Anomalous  - val data\n",
        "  val_arr_0 = np.zeros((1,24))\n",
        "  for i in range(len(Y_val_non_anom)):\n",
        "    val_arr_0 = np.concatenate([val_arr_0, Y_val_non_anom[i].reshape(1, 24)], axis=0)\n",
        "  val_arr_0 = np.delete(val_arr_0, (0), axis=0)\n",
        "\n",
        "  X_val = np.concatenate([val_arr_0, val_arr_1], axis=0)\n",
        "\n",
        "  Y_val = np.zeros((val_arr_0.shape[0])) \n",
        "  Y_val = np.concatenate([Y_val, np.ones((val_arr_1.shape[0]))], axis=0)\n",
        "\n",
        "\n",
        "  # Anomalous  - test data\n",
        "  test_arr_1 = np.zeros((1,24))\n",
        "  for i in range(len(Y_test_anom)):\n",
        "    test_arr_1 = np.concatenate([test_arr_1, Y_test_anom[i].reshape(1, 24)], axis=0)\n",
        "  test_arr_1 = np.delete(test_arr_1, (0), axis=0)\n",
        "\n",
        "  # Non- Anomalous  - val data\n",
        "  test_arr_0 = np.zeros((1,24))\n",
        "  for i in range(len(Y_test_non_anom)):\n",
        "    test_arr_0 = np.concatenate([test_arr_0, Y_test_non_anom[i].reshape(1, 24)], axis=0)\n",
        "  test_arr_0 = np.delete(test_arr_0, (0), axis=0)\n",
        "\n",
        "  X_test = np.concatenate([test_arr_0, test_arr_1], axis=0)\n",
        "\n",
        "  Y_test = np.zeros((test_arr_0.shape[0])) \n",
        "  Y_test = np.concatenate([Y_test, np.ones((test_arr_1.shape[0]))], axis=0)\n",
        "\n",
        "  return X_train, Y_train, X_val, Y_val, X_test, Y_test, arr_0, arr_1, val_arr_0, val_arr_1"
      ],
      "execution_count": 9,
      "outputs": []
    },
    {
      "cell_type": "code",
      "metadata": {
        "id": "FZ1JjUlwhh4-",
        "colab_type": "code",
        "colab": {}
      },
      "source": [
        "## Loading Dataset\n",
        "X_train, Y_train, X_val, Y_val, X_test, Y_test, arr_0, arr_1, val_arr_0, val_arr_1 = create_data_pyod(Y_train_non_anom, Y_train_anom, Y_val_non_anom, Y_val_anom, Y_test_non_anom,Y_test_anom)"
      ],
      "execution_count": 10,
      "outputs": []
    },
    {
      "cell_type": "code",
      "metadata": {
        "id": "F3nxsBg1s83G",
        "colab_type": "code",
        "colab": {}
      },
      "source": [
        "## Shuffling the data \n",
        "x_train, y_train = shuffle(X_train, Y_train)\n",
        "x_val, y_val = shuffle(X_val, Y_val)\n",
        "x_test, y_test = shuffle(X_test, Y_test)"
      ],
      "execution_count": 11,
      "outputs": []
    },
    {
      "cell_type": "code",
      "metadata": {
        "id": "PG9T24oEJ_mk",
        "colab_type": "code",
        "colab": {}
      },
      "source": [
        "# supress warnings for clean output\n",
        "import warnings\n",
        "warnings.filterwarnings(\"ignore\")\n",
        "\n",
        "# Import all models\n",
        "from pyod.utils import data\n",
        "from pyod.models.cblof import CBLOF\n",
        "from pyod.models.feature_bagging import FeatureBagging\n",
        "from pyod.models.hbos import HBOS\n",
        "from pyod.models.iforest import IForest\n",
        "from pyod.models.knn import KNN\n",
        "from pyod.models.lof import LOF\n",
        "from pyod.models.mcd import MCD\n",
        "from pyod.models.ocsvm import OCSVM\n",
        "from pyod.models.pca import PCA"
      ],
      "execution_count": 12,
      "outputs": []
    },
    {
      "cell_type": "code",
      "metadata": {
        "id": "KS7LkWyPPeKB",
        "colab_type": "code",
        "colab": {}
      },
      "source": [
        "## Define the number of inliers and outliers training data \n",
        "training_outliers_fraction = arr_1.shape[0] / (arr_0.shape[0] + arr_1.shape[0])\n",
        "\n",
        "## Define the number of inliers and outliers validation data\n",
        "outliers_fraction = val_arr_1.shape[0] / (val_arr_0.shape[0] + val_arr_1.shape[0])\n",
        "\n",
        "\n",
        "clusters_separation = [0]\n",
        "\n",
        "# initialize a set of detectors for LSCP\n",
        "detector_list = [LOF(n_neighbors=5), LOF(n_neighbors=10), LOF(n_neighbors=15),\n",
        "                 LOF(n_neighbors=20), LOF(n_neighbors=25), LOF(n_neighbors=30),\n",
        "                 LOF(n_neighbors=35), LOF(n_neighbors=40), LOF(n_neighbors=45),\n",
        "                 LOF(n_neighbors=50)]\n",
        "\n",
        "random_state = 42"
      ],
      "execution_count": 13,
      "outputs": []
    },
    {
      "cell_type": "code",
      "metadata": {
        "id": "uucVWEg2PW0d",
        "colab_type": "code",
        "colab": {}
      },
      "source": [
        "# Define outlier detection tools to be compared\n",
        "classifiers = {\n",
        "    'Cluster-based Local Outlier Factor (CBLOF)':\n",
        "        CBLOF(contamination=training_outliers_fraction,\n",
        "              check_estimator=False, random_state=random_state),\n",
        "    'Feature Bagging':\n",
        "        FeatureBagging(LOF(n_neighbors=35),\n",
        "                       contamination=training_outliers_fraction,\n",
        "                       random_state=random_state),\n",
        "    'Histogram-base Outlier Detection (HBOS)': HBOS(\n",
        "        contamination=training_outliers_fraction),\n",
        "    'Isolation Forest': IForest(contamination=training_outliers_fraction,\n",
        "                                random_state=random_state),\n",
        "    'K Nearest Neighbors (KNN)': KNN(\n",
        "        contamination=training_outliers_fraction),\n",
        "    # 'Average KNN': KNN(method='mean',\n",
        "    #                    contamination=training_outliers_fraction),\n",
        "    # 'Median KNN': KNN(method='median',\n",
        "    #                   contamination=training_outliers_fraction),\n",
        "    'Local Outlier Factor (LOF)':\n",
        "        LOF(n_neighbors=35, contamination=training_outliers_fraction),\n",
        "    'Minimum Covariance Determinant (MCD)': MCD(\n",
        "        contamination=training_outliers_fraction, random_state=random_state),\n",
        "    'One-class SVM (OCSVM)': OCSVM(contamination=training_outliers_fraction),\n",
        "    'Principal Component Analysis (PCA)': PCA(\n",
        "        contamination=training_outliers_fraction, random_state=random_state),\n",
        "}\n"
      ],
      "execution_count": 26,
      "outputs": []
    },
    {
      "cell_type": "code",
      "metadata": {
        "id": "RriI8mQdPYRG",
        "colab_type": "code",
        "colab": {
          "base_uri": "https://localhost:8080/",
          "height": 170
        },
        "outputId": "e7c02c3d-7ee2-4cd8-9c10-a7d066f6571a"
      },
      "source": [
        "# Show all detectors\n",
        "for i, clf in enumerate(classifiers.keys()):\n",
        "    print('Model', i + 1, clf)"
      ],
      "execution_count": 27,
      "outputs": [
        {
          "output_type": "stream",
          "text": [
            "Model 1 Cluster-based Local Outlier Factor (CBLOF)\n",
            "Model 2 Feature Bagging\n",
            "Model 3 Histogram-base Outlier Detection (HBOS)\n",
            "Model 4 Isolation Forest\n",
            "Model 5 K Nearest Neighbors (KNN)\n",
            "Model 6 Local Outlier Factor (LOF)\n",
            "Model 7 Minimum Covariance Determinant (MCD)\n",
            "Model 8 One-class SVM (OCSVM)\n",
            "Model 9 Principal Component Analysis (PCA)\n"
          ],
          "name": "stdout"
        }
      ]
    },
    {
      "cell_type": "code",
      "metadata": {
        "id": "MEjPflykwbLR",
        "colab_type": "code",
        "colab": {
          "base_uri": "https://localhost:8080/",
          "height": 1000
        },
        "outputId": "ab767a07-a795-4b54-cadb-954f0d1f7808"
      },
      "source": [
        "## Fit the models with the generated data and\n",
        "## compare model performances\n",
        "\n",
        "## Fit the model\n",
        "for i, (clf_name, clf) in enumerate(classifiers.items()):\n",
        "  print()\n",
        "  print(i + 1, 'fitting', clf_name)\n",
        "  # fit the train data and tag outliers\n",
        "  clf.fit(x_train)\n",
        "\n",
        "  # get the prediction labels and outlier scores of the training data\n",
        "  y_train_pred = clf.labels_  # binary labels (0: inliers, 1: outliers)\n",
        "  y_train_scores = clf.decision_scores_  # raw outlier scores\n",
        "\n",
        "  # evaluate and print the results\n",
        "  print(\"\\nOn Training Data:\")\n",
        "  data.evaluate_print(clf_name, y_train, y_train_scores)\n",
        "\n",
        "  ## VALIDATION DATA \n",
        "  # get the prediction labels and outlier scores of the validation data\n",
        "  y_val_scores = clf.decision_function(x_val)  # outlier scores\n",
        "\n",
        "  # set threshold on the validation data \n",
        "  threshold = percentile(y_val_scores, 100 * outliers_fraction)\n",
        "\n",
        "  if clf_name == 'Principal Component Analysis (PCA)': ## error otherwise (needs to be fixed)\n",
        "    threshold = 800\n",
        "    \n",
        "  print(\"threshold : \", threshold)\n",
        "  # convet scores to label using the calculated labels \n",
        "  y_val_pred = (y_val_scores > threshold).astype('int')\n",
        "\n",
        "  # evaluate and print the results on Validation data \n",
        "  print(\"\\nOn Validation Data:\")\n",
        "  tn, fp, fn, tp = sklearn.metrics.confusion_matrix(y_val, y_val_pred).ravel()\n",
        "  p = tp/(tp+fp)\n",
        "  r = tp/(tp+fn)\n",
        "  f1 = 2*p*r/(p+r)\n",
        "  print(\"Precision : {}\".format(p))\n",
        "  print(\"Recall : {}\".format(r))\n",
        "  print(\"F1 score : {}\".format(f1))\n",
        "\n",
        "  ## TEST DATA \n",
        "  # get the prediction labels and outlier scores of the validation data\n",
        "  y_test_scores = clf.decision_function(x_test)  # outlier scores\n",
        "\n",
        "  # convet scores to label using the calculated labels  (threshold from validation data )\n",
        "  y_test_pred = (y_test_scores > threshold).astype('int')\n",
        "\n",
        "  # evaluate and print the results on Validation data \n",
        "  print(\"\\nOn Test Data:\")\n",
        "  tn, fp, fn, tp = sklearn.metrics.confusion_matrix(y_test, y_test_pred).ravel()\n",
        "  p = tp/(tp+fp)\n",
        "  r = tp/(tp+fn)\n",
        "  f1 = 2*p*r/(p+r)\n",
        "  print(\"Precision : {}\".format(p))\n",
        "  print(\"Recall : {}\".format(r))\n",
        "  print(\"F1 score : {}\".format(f1))"
      ],
      "execution_count": 28,
      "outputs": [
        {
          "output_type": "stream",
          "text": [
            "\n",
            "1 fitting Cluster-based Local Outlier Factor (CBLOF)\n",
            "\n",
            "On Training Data:\n",
            "Cluster-based Local Outlier Factor (CBLOF) ROC:0.2673, precision @ rank n:0.1266\n",
            "threshold :  1.404645171117881\n",
            "\n",
            "On Validation Data:\n",
            "Precision : 0.6291834002677377\n",
            "Recall : 0.2050163576881134\n",
            "F1 score : 0.30926139167626254\n",
            "\n",
            "On Test Data:\n",
            "Precision : 0.8450184501845018\n",
            "Recall : 0.19983793554821416\n",
            "F1 score : 0.32323436003427936\n",
            "\n",
            "2 fitting Feature Bagging\n",
            "\n",
            "On Training Data:\n",
            "Feature Bagging ROC:0.3721, precision @ rank n:0.1331\n",
            "threshold :  1.1139706375303249\n",
            "\n",
            "On Validation Data:\n",
            "Precision : 0.6178045515394913\n",
            "Recall : 0.20130861504907308\n",
            "F1 score : 0.30366836650764933\n",
            "\n",
            "On Test Data:\n",
            "Precision : 0.853696906135291\n",
            "Recall : 0.20295455962101852\n",
            "F1 score : 0.32794480535831194\n",
            "\n",
            "3 fitting Histogram-base Outlier Detection (HBOS)\n",
            "\n",
            "On Training Data:\n",
            "Histogram-base Outlier Detection (HBOS) ROC:0.6216, precision @ rank n:0.0682\n",
            "threshold :  46.538271452834934\n",
            "\n",
            "On Validation Data:\n",
            "Precision : 0.5696087352138307\n",
            "Recall : 0.1365321701199564\n",
            "F1 score : 0.2202674173117523\n",
            "\n",
            "On Test Data:\n",
            "Precision : 0.8380881808077065\n",
            "Recall : 0.14099607305366826\n",
            "F1 score : 0.24138299007576566\n",
            "\n",
            "4 fitting Isolation Forest\n",
            "\n",
            "On Training Data:\n",
            "Isolation Forest ROC:0.649, precision @ rank n:0.1048\n",
            "threshold :  -0.041166718352940335\n",
            "\n",
            "On Validation Data:\n",
            "Precision : 0.6327033689400164\n",
            "Recall : 0.16793893129770993\n",
            "F1 score : 0.2654257152705964\n",
            "\n",
            "On Test Data:\n",
            "Precision : 0.8634627625716105\n",
            "Recall : 0.1691080221903634\n",
            "F1 score : 0.28282512379463126\n",
            "\n",
            "5 fitting K Nearest Neighbors (KNN)\n",
            "\n",
            "On Training Data:\n",
            "K Nearest Neighbors (KNN) ROC:0.2646, precision @ rank n:0.134\n",
            "threshold :  0.3590993444987085\n",
            "\n",
            "On Validation Data:\n",
            "Precision : 0.6405622489959839\n",
            "Recall : 0.20872410032715377\n",
            "F1 score : 0.31485441684487575\n",
            "\n",
            "On Test Data:\n",
            "Precision : 0.8495987574424023\n",
            "Recall : 0.20457520413887678\n",
            "F1 score : 0.32974982417361604\n",
            "\n",
            "6 fitting Local Outlier Factor (LOF)\n",
            "\n",
            "On Training Data:\n",
            "Local Outlier Factor (LOF) ROC:0.3795, precision @ rank n:0.1327\n",
            "threshold :  1.1107687590844457\n",
            "\n",
            "On Validation Data:\n",
            "Precision : 0.6184738955823293\n",
            "Recall : 0.2015267175572519\n",
            "F1 score : 0.30399736798815596\n",
            "\n",
            "On Test Data:\n",
            "Precision : 0.856431752685355\n",
            "Recall : 0.20376488187994765\n",
            "F1 score : 0.3292044310171198\n",
            "\n",
            "7 fitting Minimum Covariance Determinant (MCD)\n",
            "\n",
            "On Training Data:\n",
            "Minimum Covariance Determinant (MCD) ROC:0.2839, precision @ rank n:0.1366\n",
            "threshold :  90.17647375294212\n",
            "\n",
            "On Validation Data:\n",
            "Precision : 0.6459170013386881\n",
            "Recall : 0.21046892039258452\n",
            "F1 score : 0.3174864286889291\n",
            "\n",
            "On Test Data:\n",
            "Precision : 0.8467172377713837\n",
            "Recall : 0.20177024247335287\n",
            "F1 score : 0.3258834189066747\n",
            "\n",
            "8 fitting One-class SVM (OCSVM)\n",
            "\n",
            "On Training Data:\n",
            "One-class SVM (OCSVM) ROC:0.6332, precision @ rank n:0.1257\n",
            "threshold :  38.16572649751902\n",
            "\n",
            "On Validation Data:\n",
            "Precision : 0.639235855988244\n",
            "Recall : 0.18974918211559433\n",
            "F1 score : 0.29263370332996974\n",
            "\n",
            "On Test Data:\n",
            "Precision : 0.8538877812589006\n",
            "Recall : 0.18687277940534813\n",
            "F1 score : 0.30663802802495654\n",
            "\n",
            "9 fitting Principal Component Analysis (PCA)\n",
            "\n",
            "On Training Data:\n",
            "Principal Component Analysis (PCA) ROC:0.814, precision @ rank n:0.6434\n",
            "threshold :  800\n",
            "\n",
            "On Validation Data:\n",
            "Precision : 0.7542358940615232\n",
            "Recall : 1.0\n",
            "F1 score : 0.8599024756189048\n",
            "\n",
            "On Test Data:\n",
            "Precision : 0.9149130310806958\n",
            "Recall : 1.0\n",
            "F1 score : 0.9555661444993746\n"
          ],
          "name": "stdout"
        }
      ]
    },
    {
      "cell_type": "code",
      "metadata": {
        "id": "N3rqxxelQ0c0",
        "colab_type": "code",
        "colab": {}
      },
      "source": [
        ""
      ],
      "execution_count": null,
      "outputs": []
    }
  ]
}