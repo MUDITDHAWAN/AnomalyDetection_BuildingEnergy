{
  "nbformat": 4,
  "nbformat_minor": 0,
  "metadata": {
    "kernelspec": {
      "name": "python3",
      "display_name": "Python 3"
    },
    "language_info": {
      "codemirror_mode": {
        "name": "ipython",
        "version": 3
      },
      "file_extension": ".py",
      "mimetype": "text/x-python",
      "name": "python",
      "nbconvert_exporter": "python",
      "pygments_lexer": "ipython3",
      "version": "3.6.6"
    },
    "colab": {
      "name": "Conv_Baseline_Model.ipynb",
      "provenance": [],
      "collapsed_sections": [],
      "machine_shape": "hm"
    }
  },
  "cells": [
    {
      "cell_type": "code",
      "metadata": {
        "id": "cvVDR7QzxiWQ",
        "colab_type": "code",
        "colab": {
          "base_uri": "https://localhost:8080/",
          "height": 122
        },
        "outputId": "b1018d0a-3cb1-4f3a-cf0f-94ea6232ecb7"
      },
      "source": [
        "from google.colab import drive\n",
        "drive.mount('/content/drive') "
      ],
      "execution_count": null,
      "outputs": [
        {
          "output_type": "stream",
          "text": [
            "Go to this URL in a browser: https://accounts.google.com/o/oauth2/auth?client_id=947318989803-6bn6qk8qdgf4n4g3pfee6491hc0brc4i.apps.googleusercontent.com&redirect_uri=urn%3aietf%3awg%3aoauth%3a2.0%3aoob&response_type=code&scope=email%20https%3a%2f%2fwww.googleapis.com%2fauth%2fdocs.test%20https%3a%2f%2fwww.googleapis.com%2fauth%2fdrive%20https%3a%2f%2fwww.googleapis.com%2fauth%2fdrive.photos.readonly%20https%3a%2f%2fwww.googleapis.com%2fauth%2fpeopleapi.readonly\n",
            "\n",
            "Enter your authorization code:\n",
            "··········\n",
            "Mounted at /content/drive\n"
          ],
          "name": "stdout"
        }
      ]
    },
    {
      "cell_type": "code",
      "metadata": {
        "id": "bdvWfWGwxRXi",
        "colab_type": "code",
        "colab": {}
      },
      "source": [
        "import os\n",
        "import pickle\n",
        "import pandas as pd\n",
        "import numpy as np\n",
        "import tensorflow as tf\n",
        "import matplotlib.pyplot as plt\n",
        "import random"
      ],
      "execution_count": null,
      "outputs": []
    },
    {
      "cell_type": "code",
      "metadata": {
        "id": "o4BLMZWT46dU",
        "colab_type": "code",
        "colab": {}
      },
      "source": [
        "## libraries to create the model \n",
        "from tensorflow.keras.layers import  MaxPool1D, Input, MaxPool1D, UpSampling1D\n",
        "from tensorflow.keras.layers import  Dense, Activation, Dropout, Reshape, Conv1D\n",
        "from tensorflow.keras.optimizers import Adam\n",
        "from tensorflow.keras.utils import to_categorical\n",
        "from tensorflow.keras.models import load_model, Model\n",
        "import tensorflow.keras.backend as K"
      ],
      "execution_count": null,
      "outputs": []
    },
    {
      "cell_type": "code",
      "metadata": {
        "id": "jGbwMZYsxRKY",
        "colab_type": "code",
        "colab": {}
      },
      "source": [
        "# For reproducibility\n",
        "np.random.seed(12)\n",
        "tf.random.set_seed(12)\n",
        "random.seed(1)"
      ],
      "execution_count": null,
      "outputs": []
    },
    {
      "cell_type": "code",
      "metadata": {
        "id": "HQKGiWuVTjqa",
        "colab_type": "code",
        "colab": {}
      },
      "source": [
        "dir_saved_data = \"/content/drive/My Drive/ASHRAEData/\"\n",
        "dir_save_model = \"/content/drive/My Drive/ASHRAEData/\" "
      ],
      "execution_count": null,
      "outputs": []
    },
    {
      "cell_type": "code",
      "metadata": {
        "id": "DkgdptDh4XsF",
        "colab_type": "code",
        "colab": {}
      },
      "source": [
        "## CAN BE CHANGED \n",
        "\n",
        "## change these lists as per model's input \n",
        "site_id = 0 \n",
        "\n",
        "## window length \n",
        "seq_length = 24 \n",
        "\n",
        "## name of the model \n",
        "model_name = 'Baseline_Conv1'\n",
        "\n",
        "BATCH_SIZE_TRAIN = 32 ## Training batch size\n",
        "BATCH_SIZE_VAL = 16 ## Validation batch size\n",
        "\n",
        "EPOCHS = 500"
      ],
      "execution_count": null,
      "outputs": []
    },
    {
      "cell_type": "code",
      "metadata": {
        "id": "lbSdu1Lb4qO8",
        "colab_type": "code",
        "colab": {}
      },
      "source": [
        "tf.keras.backend.clear_session()"
      ],
      "execution_count": null,
      "outputs": []
    },
    {
      "cell_type": "code",
      "metadata": {
        "id": "3JbmkA_74qIJ",
        "colab_type": "code",
        "colab": {}
      },
      "source": [
        "def generate_model_autoencoder1(input_len, name):\n",
        "  ## Creating the Non Conditional Convolutional De-noising Autoencoder Model\n",
        "\n",
        "  ## input layer\n",
        "  input_encoder = Input(shape=(input_len,)) \n",
        "  ## introducing Noise (can be changed)\n",
        "  ip = Dropout(0.05)(input_encoder) \n",
        "  encoder = Reshape((input_len,1))(ip)\n",
        "\n",
        "  ## First layer of the encoder \n",
        "  encoder = Conv1D(12, 2, strides=1, padding='same', data_format='channels_last', activation='tanh')(encoder)\n",
        "  encoder = MaxPool1D(pool_size=2, data_format='channels_last')(encoder)\n",
        "\n",
        "  ## Second layer of the encoder \n",
        "  encoder = Conv1D(6, 2, strides=1, padding='same', data_format='channels_last', activation='tanh')(encoder)  \n",
        "  encoder = MaxPool1D(pool_size=2, data_format='channels_last')(encoder)\n",
        "\n",
        "  ## Third and last layer of the encoder \n",
        "  encoder = Conv1D(1, 2, strides=1, padding='same', data_format='channels_last', activation='tanh')(encoder)  \n",
        "  encoder = MaxPool1D(pool_size=2, data_format='channels_last')(encoder)\n",
        "\n",
        "  ## Decoder first layer\n",
        "  decoder = Conv1D(1, 2, strides=1, padding='same', data_format='channels_last', activation='tanh')(encoder)  \n",
        "  decoder = UpSampling1D(size=2)(decoder)\n",
        "\n",
        "  ## Decoder second layer\n",
        "  decoder = Conv1D(6, 2, strides=1, padding='same', data_format='channels_last', activation='tanh')(decoder)  \n",
        "  decoder = UpSampling1D(size=2)(decoder)\n",
        "\n",
        "  ## Decoder third layer\n",
        "  decoder = Conv1D(12, 2, strides=1, padding='same', data_format='channels_last', activation='tanh')(decoder)  \n",
        "  decoder = UpSampling1D(size=2)(decoder)\n",
        "\n",
        "  ## output layer\n",
        "  decoded = decoder = Conv1D(1, 2, strides=1, padding='same', data_format='channels_last', activation='relu')(decoder) \n",
        "  \n",
        "  ## initalizing keras.Model instance\n",
        "  model = Model(input_encoder, decoded, name = name)\n",
        "\n",
        "  return model"
      ],
      "execution_count": null,
      "outputs": []
    },
    {
      "cell_type": "code",
      "metadata": {
        "id": "wBfiIbaq4qLq",
        "colab_type": "code",
        "colab": {}
      },
      "source": [
        "def compile_model(model):\n",
        "  ## function to compile the model \n",
        "\n",
        "  opt = Adam(lr=0.0001)\n",
        "  model.compile(optimizer=opt, loss='mse', metrics='mse')\n",
        "  return model"
      ],
      "execution_count": null,
      "outputs": []
    },
    {
      "cell_type": "code",
      "metadata": {
        "id": "dGcwS5jQ5FgA",
        "colab_type": "code",
        "colab": {}
      },
      "source": [
        "## Creating the Baseline Model\n",
        "autoencoder1 = generate_model_autoencoder1(seq_length,  model_name)"
      ],
      "execution_count": null,
      "outputs": []
    },
    {
      "cell_type": "code",
      "metadata": {
        "id": "_hqa3ppQ5Fb8",
        "colab_type": "code",
        "colab": {}
      },
      "source": [
        "## Compiling the Model\n",
        "autoencoder1 = compile_model(autoencoder1)"
      ],
      "execution_count": null,
      "outputs": []
    },
    {
      "cell_type": "code",
      "metadata": {
        "id": "_tOLuZfFU65S",
        "colab_type": "code",
        "colab": {}
      },
      "source": [
        "## Reading saved data\n",
        "os.chdir(dir_saved_data)\n",
        "\n",
        "## Reading training data\n",
        "with open(\"./Baseline_data/Not_conditional/\"+ \"site_id_\" + str(site_id)+\"/non_anom/train_data.pkl\", 'rb') as f:\n",
        "  X_train_non_anom = pickle.load(f)\n",
        "\n",
        "## Reading validation data\n",
        "with open(\"./Baseline_data/Not_conditional/\"+ \"site_id_\" + str(site_id)+\"/non_anom/val_data.pkl\", 'rb') as f:\n",
        "  X_val_non_anom = pickle.load(f)\n",
        "\n",
        "# ## Reading test data\n",
        "# with open(\"./Baseline_data/Not_conditional/\"+ \"site_id_\" + str(site_id)+\"/non_anom/test_data.pkl\", 'rb') as f:\n",
        "#   X_test_non_anom = pickle.load(f)"
      ],
      "execution_count": null,
      "outputs": []
    },
    {
      "cell_type": "code",
      "metadata": {
        "id": "3eeB1-Ez4qRx",
        "colab_type": "code",
        "colab": {
          "base_uri": "https://localhost:8080/",
          "height": 51
        },
        "outputId": "808a4086-0208-45fe-e34c-75f12760b95a"
      },
      "source": [
        "## creating tf.Dataset object required for training \n",
        "train_dataset_autoencoder1 = tf.data.Dataset.from_tensor_slices((X_train_non_anom,X_train_non_anom))\n",
        "\n",
        "## creating tf.Dataset object required for validation\n",
        "val_dataset_autoencoder1 = tf.data.Dataset.from_tensor_slices((X_val_non_anom, X_val_non_anom))\n",
        "\n",
        "## Setting Batch size\n",
        "train_dataset_autoencoder1 = train_dataset_autoencoder1.batch(BATCH_SIZE_TRAIN)\n",
        "val_dataset_autoencoder1 = val_dataset_autoencoder1.batch(BATCH_SIZE_VAL)\n",
        "\n",
        "print(train_dataset_autoencoder1)\n",
        "print(val_dataset_autoencoder1)"
      ],
      "execution_count": null,
      "outputs": [
        {
          "output_type": "stream",
          "text": [
            "<BatchDataset shapes: ((None, 24, 1), (None, 24, 1)), types: (tf.float32, tf.float32)>\n",
            "<BatchDataset shapes: ((None, 24, 1), (None, 24, 1)), types: (tf.float32, tf.float32)>\n"
          ],
          "name": "stdout"
        }
      ]
    },
    {
      "cell_type": "code",
      "metadata": {
        "id": "ygkJvIrg5FXw",
        "colab_type": "code",
        "colab": {}
      },
      "source": [
        "## Creating call-backs\n",
        "os.chdir(dir_save_model)\n",
        "\n",
        "if not os.path.exists(model_name + \"/\"):\n",
        "  os.mkdir(model_name + \"/\")\n",
        "\n",
        "checkpoint_path = './'+ model_name + \"/\" + \"_site_id_\"+ str(site_id) + '.ckpt'\n",
        "model_callback = tf.keras.callbacks.ModelCheckpoint(\n",
        "    checkpoint_path, monitor='val_loss', save_best_only=True,\n",
        "    save_weights_only=True, mode='min', save_freq='epoch')\n",
        "\n",
        "## tensorboard call-back\n",
        "log_dir = 'logs/fit/'+model_name + \"_site_id_\"+ str(site_id)\n",
        "tensorboard_callback = tf.keras.callbacks.TensorBoard(log_dir=log_dir)\n",
        "\n",
        "## Early Stopping call-back\n",
        "early_stopping = tf.keras.callbacks.EarlyStopping( monitor='val_loss', patience=60, min_delta=0.0001)"
      ],
      "execution_count": null,
      "outputs": []
    },
    {
      "cell_type": "code",
      "metadata": {
        "id": "ltlyvQwbWvk3",
        "colab_type": "code",
        "colab": {}
      },
      "source": [
        "os.chdir(dir_save_model)"
      ],
      "execution_count": null,
      "outputs": []
    },
    {
      "cell_type": "code",
      "metadata": {
        "id": "LM19gvdUWxA9",
        "colab_type": "code",
        "colab": {}
      },
      "source": [
        "# Load the TensorBoard notebook extension\n",
        "%load_ext tensorboard"
      ],
      "execution_count": null,
      "outputs": []
    },
    {
      "cell_type": "code",
      "metadata": {
        "id": "S3953984Ww7K",
        "colab_type": "code",
        "colab": {}
      },
      "source": [
        "%tensorboard --logdir logs"
      ],
      "execution_count": null,
      "outputs": []
    },
    {
      "cell_type": "code",
      "metadata": {
        "id": "lKZgC2dR5FTj",
        "colab_type": "code",
        "colab": {
          "base_uri": "https://localhost:8080/",
          "height": 1000
        },
        "outputId": "bee2b125-f822-42ec-aac4-d2c3a15d27b9"
      },
      "source": [
        "## Train the model\n",
        "autoencoder1.fit(train_dataset_autoencoder1, epochs=EPOCHS, validation_data = val_dataset_autoencoder1, callbacks=[model_callback, tensorboard_callback, early_stopping])"
      ],
      "execution_count": null,
      "outputs": [
        {
          "output_type": "stream",
          "text": [
            "Epoch 1/300\n",
            "1155/1155 [==============================] - 7s 6ms/step - loss: 9.7583 - mse: 9.7583 - val_loss: 3.3464 - val_mse: 3.3464\n",
            "Epoch 2/300\n",
            "1155/1155 [==============================] - 6s 5ms/step - loss: 2.7799 - mse: 2.7799 - val_loss: 2.3471 - val_mse: 2.3471\n",
            "Epoch 3/300\n",
            "1155/1155 [==============================] - 7s 6ms/step - loss: 1.2832 - mse: 1.2832 - val_loss: 0.9571 - val_mse: 0.9571\n",
            "Epoch 4/300\n",
            "1155/1155 [==============================] - 7s 6ms/step - loss: 0.7819 - mse: 0.7819 - val_loss: 0.6665 - val_mse: 0.6665\n",
            "Epoch 5/300\n",
            "1155/1155 [==============================] - 7s 6ms/step - loss: 0.5280 - mse: 0.5280 - val_loss: 0.4532 - val_mse: 0.4532\n",
            "Epoch 6/300\n",
            "1155/1155 [==============================] - 7s 6ms/step - loss: 0.3510 - mse: 0.3510 - val_loss: 0.3148 - val_mse: 0.3148\n",
            "Epoch 7/300\n",
            "1155/1155 [==============================] - 7s 6ms/step - loss: 0.2383 - mse: 0.2383 - val_loss: 0.2330 - val_mse: 0.2330\n",
            "Epoch 8/300\n",
            "1155/1155 [==============================] - 7s 6ms/step - loss: 0.1703 - mse: 0.1703 - val_loss: 0.1889 - val_mse: 0.1889\n",
            "Epoch 9/300\n",
            "1155/1155 [==============================] - 7s 6ms/step - loss: 0.1235 - mse: 0.1235 - val_loss: 0.1432 - val_mse: 0.1432\n",
            "Epoch 10/300\n",
            "1155/1155 [==============================] - 7s 6ms/step - loss: 0.0923 - mse: 0.0923 - val_loss: 0.1304 - val_mse: 0.1304\n",
            "Epoch 11/300\n",
            "1155/1155 [==============================] - 7s 6ms/step - loss: 0.0724 - mse: 0.0724 - val_loss: 0.1162 - val_mse: 0.1162\n",
            "Epoch 12/300\n",
            "1155/1155 [==============================] - 7s 6ms/step - loss: 0.0613 - mse: 0.0613 - val_loss: 0.1046 - val_mse: 0.1046\n",
            "Epoch 13/300\n",
            "1155/1155 [==============================] - 7s 6ms/step - loss: 0.0565 - mse: 0.0565 - val_loss: 0.1094 - val_mse: 0.1094\n",
            "Epoch 14/300\n",
            "1155/1155 [==============================] - 7s 6ms/step - loss: 0.0530 - mse: 0.0530 - val_loss: 0.1073 - val_mse: 0.1073\n",
            "Epoch 15/300\n",
            "1155/1155 [==============================] - 7s 6ms/step - loss: 0.0508 - mse: 0.0508 - val_loss: 0.1060 - val_mse: 0.1060\n",
            "Epoch 16/300\n",
            "1155/1155 [==============================] - 7s 6ms/step - loss: 0.0494 - mse: 0.0494 - val_loss: 0.1020 - val_mse: 0.1020\n",
            "Epoch 17/300\n",
            "1155/1155 [==============================] - 7s 6ms/step - loss: 0.0478 - mse: 0.0478 - val_loss: 0.0959 - val_mse: 0.0959\n",
            "Epoch 18/300\n",
            "1155/1155 [==============================] - 7s 6ms/step - loss: 0.0467 - mse: 0.0467 - val_loss: 0.0990 - val_mse: 0.0990\n",
            "Epoch 19/300\n",
            "1155/1155 [==============================] - 7s 6ms/step - loss: 0.0458 - mse: 0.0458 - val_loss: 0.0917 - val_mse: 0.0917\n",
            "Epoch 20/300\n",
            "1155/1155 [==============================] - 7s 6ms/step - loss: 0.0451 - mse: 0.0451 - val_loss: 0.1007 - val_mse: 0.1007\n",
            "Epoch 21/300\n",
            "1155/1155 [==============================] - 7s 6ms/step - loss: 0.0448 - mse: 0.0448 - val_loss: 0.0916 - val_mse: 0.0916\n",
            "Epoch 22/300\n",
            "1155/1155 [==============================] - 7s 6ms/step - loss: 0.0441 - mse: 0.0441 - val_loss: 0.0972 - val_mse: 0.0972\n",
            "Epoch 23/300\n",
            "1155/1155 [==============================] - 7s 6ms/step - loss: 0.0436 - mse: 0.0436 - val_loss: 0.0959 - val_mse: 0.0959\n",
            "Epoch 24/300\n",
            "1155/1155 [==============================] - 7s 6ms/step - loss: 0.0430 - mse: 0.0430 - val_loss: 0.0940 - val_mse: 0.0940\n",
            "Epoch 25/300\n",
            "1155/1155 [==============================] - 7s 6ms/step - loss: 0.0431 - mse: 0.0431 - val_loss: 0.0958 - val_mse: 0.0958\n",
            "Epoch 26/300\n",
            "1155/1155 [==============================] - 7s 6ms/step - loss: 0.0424 - mse: 0.0424 - val_loss: 0.0892 - val_mse: 0.0892\n",
            "Epoch 27/300\n",
            "1155/1155 [==============================] - 7s 6ms/step - loss: 0.0424 - mse: 0.0424 - val_loss: 0.0932 - val_mse: 0.0932\n",
            "Epoch 28/300\n",
            "1155/1155 [==============================] - 7s 6ms/step - loss: 0.0419 - mse: 0.0419 - val_loss: 0.0926 - val_mse: 0.0926\n",
            "Epoch 29/300\n",
            "1155/1155 [==============================] - 7s 6ms/step - loss: 0.0418 - mse: 0.0418 - val_loss: 0.0912 - val_mse: 0.0912\n",
            "Epoch 30/300\n",
            "1155/1155 [==============================] - 7s 6ms/step - loss: 0.0412 - mse: 0.0412 - val_loss: 0.0891 - val_mse: 0.0891\n",
            "Epoch 31/300\n",
            "1155/1155 [==============================] - 7s 6ms/step - loss: 0.0410 - mse: 0.0410 - val_loss: 0.0893 - val_mse: 0.0893\n",
            "Epoch 32/300\n",
            "1155/1155 [==============================] - 7s 6ms/step - loss: 0.0409 - mse: 0.0409 - val_loss: 0.0953 - val_mse: 0.0953\n",
            "Epoch 33/300\n",
            "1155/1155 [==============================] - 7s 6ms/step - loss: 0.0406 - mse: 0.0406 - val_loss: 0.0917 - val_mse: 0.0917\n",
            "Epoch 34/300\n",
            "1155/1155 [==============================] - 7s 6ms/step - loss: 0.0402 - mse: 0.0402 - val_loss: 0.0941 - val_mse: 0.0941\n",
            "Epoch 35/300\n",
            "1155/1155 [==============================] - 7s 6ms/step - loss: 0.0400 - mse: 0.0400 - val_loss: 0.0910 - val_mse: 0.0910\n",
            "Epoch 36/300\n",
            "1155/1155 [==============================] - 7s 6ms/step - loss: 0.0398 - mse: 0.0398 - val_loss: 0.0894 - val_mse: 0.0894\n",
            "Epoch 37/300\n",
            "1155/1155 [==============================] - 7s 6ms/step - loss: 0.0396 - mse: 0.0396 - val_loss: 0.0884 - val_mse: 0.0884\n",
            "Epoch 38/300\n",
            "1155/1155 [==============================] - 7s 6ms/step - loss: 0.0396 - mse: 0.0396 - val_loss: 0.0928 - val_mse: 0.0928\n",
            "Epoch 39/300\n",
            "1155/1155 [==============================] - 7s 6ms/step - loss: 0.0393 - mse: 0.0393 - val_loss: 0.0946 - val_mse: 0.0946\n",
            "Epoch 40/300\n",
            "1155/1155 [==============================] - 7s 6ms/step - loss: 0.0393 - mse: 0.0393 - val_loss: 0.0885 - val_mse: 0.0885\n",
            "Epoch 41/300\n",
            "1155/1155 [==============================] - 7s 6ms/step - loss: 0.0390 - mse: 0.0390 - val_loss: 0.0929 - val_mse: 0.0929\n",
            "Epoch 42/300\n",
            "1155/1155 [==============================] - 7s 6ms/step - loss: 0.0389 - mse: 0.0389 - val_loss: 0.0906 - val_mse: 0.0906\n",
            "Epoch 43/300\n",
            "1155/1155 [==============================] - 7s 6ms/step - loss: 0.0387 - mse: 0.0387 - val_loss: 0.0853 - val_mse: 0.0853\n",
            "Epoch 44/300\n",
            "1155/1155 [==============================] - 7s 6ms/step - loss: 0.0386 - mse: 0.0386 - val_loss: 0.0886 - val_mse: 0.0886\n",
            "Epoch 45/300\n",
            "1155/1155 [==============================] - 7s 6ms/step - loss: 0.0382 - mse: 0.0382 - val_loss: 0.0898 - val_mse: 0.0898\n",
            "Epoch 46/300\n",
            "1155/1155 [==============================] - 7s 6ms/step - loss: 0.0383 - mse: 0.0383 - val_loss: 0.0872 - val_mse: 0.0872\n",
            "Epoch 47/300\n",
            "1155/1155 [==============================] - 7s 6ms/step - loss: 0.0382 - mse: 0.0382 - val_loss: 0.0870 - val_mse: 0.0870\n",
            "Epoch 48/300\n",
            "1155/1155 [==============================] - 7s 6ms/step - loss: 0.0381 - mse: 0.0381 - val_loss: 0.0938 - val_mse: 0.0938\n",
            "Epoch 49/300\n",
            "1155/1155 [==============================] - 8s 7ms/step - loss: 0.0380 - mse: 0.0380 - val_loss: 0.0844 - val_mse: 0.0844\n",
            "Epoch 50/300\n",
            "1155/1155 [==============================] - 7s 6ms/step - loss: 0.0378 - mse: 0.0378 - val_loss: 0.0856 - val_mse: 0.0856\n",
            "Epoch 51/300\n",
            "1155/1155 [==============================] - 7s 6ms/step - loss: 0.0378 - mse: 0.0378 - val_loss: 0.0863 - val_mse: 0.0863\n",
            "Epoch 52/300\n",
            "1155/1155 [==============================] - 7s 6ms/step - loss: 0.0375 - mse: 0.0375 - val_loss: 0.0875 - val_mse: 0.0875\n",
            "Epoch 53/300\n",
            "1155/1155 [==============================] - 7s 6ms/step - loss: 0.0377 - mse: 0.0377 - val_loss: 0.0909 - val_mse: 0.0909\n",
            "Epoch 54/300\n",
            "1155/1155 [==============================] - 7s 6ms/step - loss: 0.0376 - mse: 0.0376 - val_loss: 0.0863 - val_mse: 0.0863\n",
            "Epoch 55/300\n",
            "1155/1155 [==============================] - 7s 6ms/step - loss: 0.0376 - mse: 0.0376 - val_loss: 0.0918 - val_mse: 0.0918\n",
            "Epoch 56/300\n",
            "1155/1155 [==============================] - 7s 6ms/step - loss: 0.0374 - mse: 0.0374 - val_loss: 0.0858 - val_mse: 0.0858\n",
            "Epoch 57/300\n",
            "1155/1155 [==============================] - 7s 6ms/step - loss: 0.0372 - mse: 0.0372 - val_loss: 0.0880 - val_mse: 0.0880\n",
            "Epoch 58/300\n",
            "1155/1155 [==============================] - 7s 6ms/step - loss: 0.0374 - mse: 0.0374 - val_loss: 0.0880 - val_mse: 0.0880\n",
            "Epoch 59/300\n",
            "1155/1155 [==============================] - 7s 6ms/step - loss: 0.0373 - mse: 0.0373 - val_loss: 0.0890 - val_mse: 0.0890\n",
            "Epoch 60/300\n",
            "1155/1155 [==============================] - 7s 6ms/step - loss: 0.0371 - mse: 0.0371 - val_loss: 0.0913 - val_mse: 0.0913\n",
            "Epoch 61/300\n",
            "1155/1155 [==============================] - 7s 6ms/step - loss: 0.0370 - mse: 0.0370 - val_loss: 0.0875 - val_mse: 0.0875\n",
            "Epoch 62/300\n",
            "1155/1155 [==============================] - 7s 6ms/step - loss: 0.0370 - mse: 0.0370 - val_loss: 0.0834 - val_mse: 0.0834\n",
            "Epoch 63/300\n",
            "1155/1155 [==============================] - 7s 6ms/step - loss: 0.0370 - mse: 0.0370 - val_loss: 0.0881 - val_mse: 0.0881\n",
            "Epoch 64/300\n",
            "1155/1155 [==============================] - 7s 6ms/step - loss: 0.0369 - mse: 0.0369 - val_loss: 0.0899 - val_mse: 0.0899\n",
            "Epoch 65/300\n",
            "1155/1155 [==============================] - 7s 6ms/step - loss: 0.0369 - mse: 0.0369 - val_loss: 0.0906 - val_mse: 0.0906\n",
            "Epoch 66/300\n",
            "1155/1155 [==============================] - 7s 6ms/step - loss: 0.0370 - mse: 0.0370 - val_loss: 0.0889 - val_mse: 0.0889\n",
            "Epoch 67/300\n",
            "1155/1155 [==============================] - 7s 6ms/step - loss: 0.0368 - mse: 0.0368 - val_loss: 0.0882 - val_mse: 0.0882\n",
            "Epoch 68/300\n",
            "1155/1155 [==============================] - 7s 6ms/step - loss: 0.0369 - mse: 0.0369 - val_loss: 0.0879 - val_mse: 0.0879\n",
            "Epoch 69/300\n",
            "1155/1155 [==============================] - 7s 6ms/step - loss: 0.0367 - mse: 0.0367 - val_loss: 0.0872 - val_mse: 0.0872\n",
            "Epoch 70/300\n",
            "1155/1155 [==============================] - 7s 6ms/step - loss: 0.0367 - mse: 0.0367 - val_loss: 0.0854 - val_mse: 0.0854\n",
            "Epoch 71/300\n",
            "1155/1155 [==============================] - 7s 6ms/step - loss: 0.0368 - mse: 0.0368 - val_loss: 0.0861 - val_mse: 0.0861\n",
            "Epoch 72/300\n",
            "1155/1155 [==============================] - 7s 6ms/step - loss: 0.0365 - mse: 0.0365 - val_loss: 0.0858 - val_mse: 0.0858\n",
            "Epoch 73/300\n",
            "1155/1155 [==============================] - 7s 6ms/step - loss: 0.0366 - mse: 0.0366 - val_loss: 0.0945 - val_mse: 0.0945\n",
            "Epoch 74/300\n",
            "1155/1155 [==============================] - 7s 6ms/step - loss: 0.0365 - mse: 0.0365 - val_loss: 0.0891 - val_mse: 0.0891\n",
            "Epoch 75/300\n",
            "1155/1155 [==============================] - 7s 6ms/step - loss: 0.0365 - mse: 0.0365 - val_loss: 0.0939 - val_mse: 0.0939\n",
            "Epoch 76/300\n",
            "1155/1155 [==============================] - 7s 6ms/step - loss: 0.0365 - mse: 0.0365 - val_loss: 0.0871 - val_mse: 0.0871\n",
            "Epoch 77/300\n",
            "1155/1155 [==============================] - 7s 6ms/step - loss: 0.0364 - mse: 0.0364 - val_loss: 0.0879 - val_mse: 0.0879\n",
            "Epoch 78/300\n",
            "1155/1155 [==============================] - 7s 6ms/step - loss: 0.0365 - mse: 0.0365 - val_loss: 0.0913 - val_mse: 0.0913\n",
            "Epoch 79/300\n",
            "1155/1155 [==============================] - 7s 6ms/step - loss: 0.0365 - mse: 0.0365 - val_loss: 0.0885 - val_mse: 0.0885\n",
            "Epoch 80/300\n",
            "1155/1155 [==============================] - 7s 6ms/step - loss: 0.0364 - mse: 0.0364 - val_loss: 0.0903 - val_mse: 0.0903\n",
            "Epoch 81/300\n",
            "1155/1155 [==============================] - 7s 6ms/step - loss: 0.0365 - mse: 0.0365 - val_loss: 0.0958 - val_mse: 0.0958\n",
            "Epoch 82/300\n",
            "1155/1155 [==============================] - 7s 6ms/step - loss: 0.0363 - mse: 0.0363 - val_loss: 0.0905 - val_mse: 0.0905\n",
            "Epoch 83/300\n",
            "1155/1155 [==============================] - 7s 6ms/step - loss: 0.0364 - mse: 0.0364 - val_loss: 0.0892 - val_mse: 0.0892\n",
            "Epoch 84/300\n",
            "1155/1155 [==============================] - 7s 6ms/step - loss: 0.0363 - mse: 0.0363 - val_loss: 0.0932 - val_mse: 0.0932\n",
            "Epoch 85/300\n",
            "1155/1155 [==============================] - 7s 6ms/step - loss: 0.0363 - mse: 0.0363 - val_loss: 0.0934 - val_mse: 0.0934\n",
            "Epoch 86/300\n",
            "1155/1155 [==============================] - 7s 6ms/step - loss: 0.0362 - mse: 0.0362 - val_loss: 0.0916 - val_mse: 0.0916\n",
            "Epoch 87/300\n",
            "1155/1155 [==============================] - 7s 6ms/step - loss: 0.0363 - mse: 0.0363 - val_loss: 0.0901 - val_mse: 0.0901\n",
            "Epoch 88/300\n",
            "1155/1155 [==============================] - 7s 6ms/step - loss: 0.0361 - mse: 0.0361 - val_loss: 0.0902 - val_mse: 0.0902\n",
            "Epoch 89/300\n",
            "1155/1155 [==============================] - 7s 6ms/step - loss: 0.0362 - mse: 0.0362 - val_loss: 0.0888 - val_mse: 0.0888\n",
            "Epoch 90/300\n",
            "1155/1155 [==============================] - 7s 6ms/step - loss: 0.0361 - mse: 0.0361 - val_loss: 0.0885 - val_mse: 0.0885\n",
            "Epoch 91/300\n",
            "1155/1155 [==============================] - 7s 6ms/step - loss: 0.0360 - mse: 0.0360 - val_loss: 0.0906 - val_mse: 0.0906\n",
            "Epoch 92/300\n",
            "1155/1155 [==============================] - 7s 6ms/step - loss: 0.0362 - mse: 0.0362 - val_loss: 0.0902 - val_mse: 0.0902\n",
            "Epoch 93/300\n",
            "1155/1155 [==============================] - 8s 7ms/step - loss: 0.0361 - mse: 0.0361 - val_loss: 0.0922 - val_mse: 0.0922\n",
            "Epoch 94/300\n",
            "1155/1155 [==============================] - 7s 6ms/step - loss: 0.0361 - mse: 0.0361 - val_loss: 0.0880 - val_mse: 0.0880\n",
            "Epoch 95/300\n",
            "1155/1155 [==============================] - 7s 6ms/step - loss: 0.0361 - mse: 0.0361 - val_loss: 0.0863 - val_mse: 0.0863\n",
            "Epoch 96/300\n",
            "1155/1155 [==============================] - 7s 6ms/step - loss: 0.0359 - mse: 0.0359 - val_loss: 0.0884 - val_mse: 0.0884\n",
            "Epoch 97/300\n",
            "1155/1155 [==============================] - 7s 6ms/step - loss: 0.0361 - mse: 0.0361 - val_loss: 0.0850 - val_mse: 0.0850\n",
            "Epoch 98/300\n",
            "1155/1155 [==============================] - 7s 6ms/step - loss: 0.0360 - mse: 0.0360 - val_loss: 0.0903 - val_mse: 0.0903\n",
            "Epoch 99/300\n",
            "1155/1155 [==============================] - 7s 6ms/step - loss: 0.0360 - mse: 0.0360 - val_loss: 0.0875 - val_mse: 0.0875\n",
            "Epoch 100/300\n",
            "1155/1155 [==============================] - 7s 6ms/step - loss: 0.0359 - mse: 0.0359 - val_loss: 0.0884 - val_mse: 0.0884\n",
            "Epoch 101/300\n",
            "1155/1155 [==============================] - 7s 6ms/step - loss: 0.0360 - mse: 0.0360 - val_loss: 0.0930 - val_mse: 0.0930\n",
            "Epoch 102/300\n",
            "1155/1155 [==============================] - 7s 6ms/step - loss: 0.0360 - mse: 0.0360 - val_loss: 0.0900 - val_mse: 0.0900\n",
            "Epoch 103/300\n",
            "1155/1155 [==============================] - 7s 6ms/step - loss: 0.0358 - mse: 0.0358 - val_loss: 0.0915 - val_mse: 0.0915\n",
            "Epoch 104/300\n",
            "1155/1155 [==============================] - 7s 6ms/step - loss: 0.0358 - mse: 0.0358 - val_loss: 0.0936 - val_mse: 0.0936\n",
            "Epoch 105/300\n",
            "1155/1155 [==============================] - 7s 6ms/step - loss: 0.0358 - mse: 0.0358 - val_loss: 0.0926 - val_mse: 0.0926\n",
            "Epoch 106/300\n",
            "1155/1155 [==============================] - 7s 6ms/step - loss: 0.0359 - mse: 0.0359 - val_loss: 0.0908 - val_mse: 0.0908\n",
            "Epoch 107/300\n",
            "1155/1155 [==============================] - 7s 6ms/step - loss: 0.0359 - mse: 0.0359 - val_loss: 0.0890 - val_mse: 0.0890\n",
            "Epoch 108/300\n",
            "1155/1155 [==============================] - 7s 6ms/step - loss: 0.0359 - mse: 0.0359 - val_loss: 0.0920 - val_mse: 0.0920\n",
            "Epoch 109/300\n",
            "1155/1155 [==============================] - 7s 6ms/step - loss: 0.0360 - mse: 0.0360 - val_loss: 0.0903 - val_mse: 0.0903\n",
            "Epoch 110/300\n",
            "1155/1155 [==============================] - 7s 6ms/step - loss: 0.0359 - mse: 0.0359 - val_loss: 0.0896 - val_mse: 0.0896\n",
            "Epoch 111/300\n",
            "1155/1155 [==============================] - 7s 6ms/step - loss: 0.0357 - mse: 0.0357 - val_loss: 0.0889 - val_mse: 0.0889\n",
            "Epoch 112/300\n",
            "1155/1155 [==============================] - 7s 6ms/step - loss: 0.0358 - mse: 0.0358 - val_loss: 0.0884 - val_mse: 0.0884\n",
            "Epoch 113/300\n",
            "1155/1155 [==============================] - 7s 6ms/step - loss: 0.0357 - mse: 0.0357 - val_loss: 0.0864 - val_mse: 0.0864\n",
            "Epoch 114/300\n",
            "1155/1155 [==============================] - 7s 6ms/step - loss: 0.0357 - mse: 0.0357 - val_loss: 0.0871 - val_mse: 0.0871\n",
            "Epoch 115/300\n",
            "1155/1155 [==============================] - 7s 6ms/step - loss: 0.0357 - mse: 0.0357 - val_loss: 0.0877 - val_mse: 0.0877\n",
            "Epoch 116/300\n",
            "1155/1155 [==============================] - 7s 6ms/step - loss: 0.0356 - mse: 0.0356 - val_loss: 0.0886 - val_mse: 0.0886\n",
            "Epoch 117/300\n",
            "1155/1155 [==============================] - 7s 6ms/step - loss: 0.0357 - mse: 0.0357 - val_loss: 0.0846 - val_mse: 0.0846\n",
            "Epoch 118/300\n",
            "1155/1155 [==============================] - 7s 6ms/step - loss: 0.0356 - mse: 0.0356 - val_loss: 0.0927 - val_mse: 0.0927\n",
            "Epoch 119/300\n",
            "1155/1155 [==============================] - 7s 6ms/step - loss: 0.0357 - mse: 0.0357 - val_loss: 0.0931 - val_mse: 0.0931\n",
            "Epoch 120/300\n",
            "1155/1155 [==============================] - 7s 6ms/step - loss: 0.0358 - mse: 0.0358 - val_loss: 0.0937 - val_mse: 0.0937\n",
            "Epoch 121/300\n",
            "1155/1155 [==============================] - 7s 6ms/step - loss: 0.0356 - mse: 0.0356 - val_loss: 0.0910 - val_mse: 0.0910\n",
            "Epoch 122/300\n",
            "1155/1155 [==============================] - 7s 6ms/step - loss: 0.0356 - mse: 0.0356 - val_loss: 0.0925 - val_mse: 0.0925\n"
          ],
          "name": "stdout"
        },
        {
          "output_type": "execute_result",
          "data": {
            "text/plain": [
              "<tensorflow.python.keras.callbacks.History at 0x7f0652a49d68>"
            ]
          },
          "metadata": {
            "tags": []
          },
          "execution_count": 32
        }
      ]
    }
  ]
}